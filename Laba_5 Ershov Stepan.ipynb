{
  "cells": [
    {
      "cell_type": "markdown",
      "metadata": {
        "id": "VEA6-j4hBOTw"
      },
      "source": [
        "# Лабораторная работа 5. Структурированные типы данных"
      ]
    },
    {
      "cell_type": "markdown",
      "metadata": {
        "id": "2OitJY1WBOTx"
      },
      "source": [
        "# Строки\n",
        "\n",
        "Строки представляют собой последовательности символов. Длина строки ограничена лишь объемом оперативной памяти компьютера. \n",
        "\n",
        "Поддерживают обращение к элементу по индексу, получение среза, конкатенацию (оператор +), повторение (оператор *), а также проверку на вхождение (операторы in и not in).\n",
        "\n",
        "Относятся к неизменяемым типам данных. Практически все операция в качестве значения возвращают новую строку. Поэтому для рациональной работы со строками желательно использовать специальные строковые методы."
      ]
    },
    {
      "cell_type": "markdown",
      "metadata": {
        "id": "HZ4IepaVBOTy"
      },
      "source": [
        "Например, доступны следующие манипуляции:"
      ]
    },
    {
      "cell_type": "code",
      "execution_count": null,
      "metadata": {
        "colab": {
          "base_uri": "https://localhost:8080/"
        },
        "id": "rXMPf2rXBOTy",
        "outputId": "6e33376e-db38-43f8-c342-57b8d7847a62"
      },
      "outputs": [
        {
          "name": "stdout",
          "output_type": "stream",
          "text": [
            "Hello, World! <class 'str'> 140112498707440\n"
          ]
        }
      ],
      "source": [
        "s = \"Hello, World!\"\n",
        "print(s, type(s), id(s))"
      ]
    },
    {
      "cell_type": "code",
      "execution_count": null,
      "metadata": {
        "colab": {
          "base_uri": "https://localhost:8080/",
          "height": 183
        },
        "id": "-eYiyA_yBOT0",
        "outputId": "aa67bd27-79c0-422b-beed-b6c7ad258a03"
      },
      "outputs": [
        {
          "ename": "TypeError",
          "evalue": "ignored",
          "output_type": "error",
          "traceback": [
            "\u001b[0;31m---------------------------------------------------------------------------\u001b[0m",
            "\u001b[0;31mTypeError\u001b[0m                                 Traceback (most recent call last)",
            "\u001b[0;32m<ipython-input-2-0330678be040>\u001b[0m in \u001b[0;36m<module>\u001b[0;34m\u001b[0m\n\u001b[0;32m----> 1\u001b[0;31m \u001b[0ms\u001b[0m\u001b[0;34m[\u001b[0m\u001b[0;34m-\u001b[0m\u001b[0;36m1\u001b[0m\u001b[0;34m]\u001b[0m \u001b[0;34m=\u001b[0m \u001b[0;34m\"?\"\u001b[0m\u001b[0;34m\u001b[0m\u001b[0;34m\u001b[0m\u001b[0m\n\u001b[0m\u001b[1;32m      2\u001b[0m \u001b[0mprint\u001b[0m\u001b[0;34m(\u001b[0m\u001b[0ms\u001b[0m\u001b[0;34m,\u001b[0m \u001b[0mtype\u001b[0m\u001b[0;34m(\u001b[0m\u001b[0ms\u001b[0m\u001b[0;34m)\u001b[0m\u001b[0;34m,\u001b[0m \u001b[0mid\u001b[0m\u001b[0;34m(\u001b[0m\u001b[0ms\u001b[0m\u001b[0;34m)\u001b[0m\u001b[0;34m)\u001b[0m\u001b[0;34m\u001b[0m\u001b[0;34m\u001b[0m\u001b[0m\n",
            "\u001b[0;31mTypeError\u001b[0m: 'str' object does not support item assignment"
          ]
        }
      ],
      "source": [
        "s[-1] = \"?\"\n",
        "print(s, type(s), id(s))"
      ]
    },
    {
      "cell_type": "markdown",
      "metadata": {
        "id": "ycz9U1M7BOT0"
      },
      "source": [
        "Для обозначения однострочечных символов (строк) можно использовать \" \" или ' ':"
      ]
    },
    {
      "cell_type": "code",
      "execution_count": null,
      "metadata": {
        "colab": {
          "base_uri": "https://localhost:8080/"
        },
        "id": "Z4tHjwg2BOT1",
        "outputId": "42b84853-d1f9-483c-e296-bd5692adc531"
      },
      "outputs": [
        {
          "name": "stdout",
          "output_type": "stream",
          "text": [
            "Hello, World?... <class 'str'> 140502728086112\n"
          ]
        }
      ],
      "source": [
        "s = s[:-1] + \"?\" + '...'\n",
        "print(s, type(s), id(s))"
      ]
    },
    {
      "cell_type": "markdown",
      "metadata": {
        "id": "vSj_JqbFBOT1"
      },
      "source": [
        "Их комбинация задаёт ковычки в строке:"
      ]
    },
    {
      "cell_type": "code",
      "execution_count": null,
      "metadata": {
        "colab": {
          "base_uri": "https://localhost:8080/"
        },
        "id": "39YdRK9hBOT1",
        "outputId": "9ac55152-34af-4695-a5b6-0dd48214ffb1"
      },
      "outputs": [
        {
          "name": "stdout",
          "output_type": "stream",
          "text": [
            "Кто сказал \"Hello, World!\"? <class 'str'> 140502728418992\n"
          ]
        }
      ],
      "source": [
        "s = \"Кто сказал \" + '\"Hello, World!\"' + '?'\n",
        "print(s, type(s), id(s))"
      ]
    },
    {
      "cell_type": "markdown",
      "metadata": {
        "id": "9y_zW94SBOT2"
      },
      "source": [
        "Для создания многострочечных строк используйте тройные ковычки:"
      ]
    },
    {
      "cell_type": "code",
      "execution_count": null,
      "metadata": {
        "colab": {
          "base_uri": "https://localhost:8080/"
        },
        "id": "rSjUSpOkBOT2",
        "outputId": "9774bc5e-de6e-4179-cd7d-beac4f38ef72"
      },
      "outputs": [
        {
          "name": "stdout",
          "output_type": "stream",
          "text": [
            "Строка 1\n",
            "Строка 2\n",
            "Строка 3\n",
            " <class 'str'> 140502728678832\n"
          ]
        }
      ],
      "source": [
        "s = \"\"\"Строка 1\n",
        "Строка 2\n",
        "Строка 3\n",
        "\"\"\"\n",
        "print(s, type(s), id(s))"
      ]
    },
    {
      "cell_type": "markdown",
      "metadata": {
        "id": "y02BJt69BOT2"
      },
      "source": [
        "Если строка не присваивается переменной, то она считается строкой документирования. Такая строка сохраняется в атрибуте_doc_того объекта, в котором расположена. \n",
        "\n",
        "Например:"
      ]
    },
    {
      "cell_type": "code",
      "execution_count": null,
      "metadata": {
        "id": "JXpdtBR-BOT2"
      },
      "outputs": [],
      "source": [
        "def test():\n",
        "    \"\"\"Это описание функции\"\"\"\n",
        "    pass"
      ]
    },
    {
      "cell_type": "code",
      "execution_count": null,
      "metadata": {
        "colab": {
          "base_uri": "https://localhost:8080/"
        },
        "id": "MXvxn3oSBOT3",
        "outputId": "a6d7b692-1bd5-42ad-88ae-f89e020dd1b8"
      },
      "outputs": [
        {
          "name": "stdout",
          "output_type": "stream",
          "text": [
            "Это описание функции\n"
          ]
        }
      ],
      "source": [
        "print (test.__doc__)"
      ]
    },
    {
      "cell_type": "markdown",
      "metadata": {
        "id": "p9CpooMpBOT3"
      },
      "source": [
        "Строковые методы.\n",
        "\n",
        "Для строк есть множество методов. Посмотреть их можно по команде"
      ]
    },
    {
      "cell_type": "code",
      "execution_count": null,
      "metadata": {
        "id": "sfJFVil_BOT3",
        "outputId": "57d8b180-c94e-492e-f092-a762bb471dbb"
      },
      "outputs": [
        {
          "data": {
            "text/plain": [
              "['__add__',\n",
              " '__class__',\n",
              " '__contains__',\n",
              " '__delattr__',\n",
              " '__dir__',\n",
              " '__doc__',\n",
              " '__eq__',\n",
              " '__format__',\n",
              " '__ge__',\n",
              " '__getattribute__',\n",
              " '__getitem__',\n",
              " '__getnewargs__',\n",
              " '__gt__',\n",
              " '__hash__',\n",
              " '__init__',\n",
              " '__init_subclass__',\n",
              " '__iter__',\n",
              " '__le__',\n",
              " '__len__',\n",
              " '__lt__',\n",
              " '__mod__',\n",
              " '__mul__',\n",
              " '__ne__',\n",
              " '__new__',\n",
              " '__reduce__',\n",
              " '__reduce_ex__',\n",
              " '__repr__',\n",
              " '__rmod__',\n",
              " '__rmul__',\n",
              " '__setattr__',\n",
              " '__sizeof__',\n",
              " '__str__',\n",
              " '__subclasshook__',\n",
              " 'capitalize',\n",
              " 'casefold',\n",
              " 'center',\n",
              " 'count',\n",
              " 'encode',\n",
              " 'endswith',\n",
              " 'expandtabs',\n",
              " 'find',\n",
              " 'format',\n",
              " 'format_map',\n",
              " 'index',\n",
              " 'isalnum',\n",
              " 'isalpha',\n",
              " 'isascii',\n",
              " 'isdecimal',\n",
              " 'isdigit',\n",
              " 'isidentifier',\n",
              " 'islower',\n",
              " 'isnumeric',\n",
              " 'isprintable',\n",
              " 'isspace',\n",
              " 'istitle',\n",
              " 'isupper',\n",
              " 'join',\n",
              " 'ljust',\n",
              " 'lower',\n",
              " 'lstrip',\n",
              " 'maketrans',\n",
              " 'partition',\n",
              " 'replace',\n",
              " 'rfind',\n",
              " 'rindex',\n",
              " 'rjust',\n",
              " 'rpartition',\n",
              " 'rsplit',\n",
              " 'rstrip',\n",
              " 'split',\n",
              " 'splitlines',\n",
              " 'startswith',\n",
              " 'strip',\n",
              " 'swapcase',\n",
              " 'title',\n",
              " 'translate',\n",
              " 'upper',\n",
              " 'zfill']"
            ]
          },
          "execution_count": 13,
          "metadata": {},
          "output_type": "execute_result"
        }
      ],
      "source": [
        "dir(str)"
      ]
    },
    {
      "cell_type": "markdown",
      "metadata": {
        "id": "v8_zkvNfBOT3"
      },
      "source": [
        "Получить информацию по каждому можно следующим образом"
      ]
    },
    {
      "cell_type": "code",
      "execution_count": null,
      "metadata": {
        "colab": {
          "base_uri": "https://localhost:8080/"
        },
        "id": "4dR6BKZDBOT3",
        "outputId": "7b2dbb75-1e75-4521-a954-43daa2699623"
      },
      "outputs": [
        {
          "name": "stdout",
          "output_type": "stream",
          "text": [
            "Help on method_descriptor:\n",
            "\n",
            "split(self, /, sep=None, maxsplit=-1)\n",
            "    Return a list of the words in the string, using sep as the delimiter string.\n",
            "    \n",
            "    sep\n",
            "      The delimiter according which to split the string.\n",
            "      None (the default value) means split according to any whitespace,\n",
            "      and discard empty strings from the result.\n",
            "    maxsplit\n",
            "      Maximum number of splits to do.\n",
            "      -1 (the default value) means no limit.\n",
            "\n"
          ]
        }
      ],
      "source": [
        "help(str.split)"
      ]
    },
    {
      "cell_type": "code",
      "execution_count": null,
      "metadata": {
        "colab": {
          "base_uri": "https://localhost:8080/"
        },
        "id": "4TiPxgu3BOT4",
        "outputId": "2e88c3cc-1c73-4eae-e040-e7dd02354b1c"
      },
      "outputs": [
        {
          "name": "stdout",
          "output_type": "stream",
          "text": [
            "Help on method_descriptor:\n",
            "\n",
            "join(self, iterable, /)\n",
            "    Concatenate any number of strings.\n",
            "    \n",
            "    The string whose method is called is inserted in between each given string.\n",
            "    The result is returned as a new string.\n",
            "    \n",
            "    Example: '.'.join(['ab', 'pq', 'rs']) -> 'ab.pq.rs'\n",
            "\n"
          ]
        }
      ],
      "source": [
        "help(str.join)"
      ]
    },
    {
      "cell_type": "markdown",
      "metadata": {
        "id": "Ovf9gljBBOT4"
      },
      "source": [
        "Рассмотрим наиболее интересные из них:\n",
        "    \n",
        "- метод split() позволяет разбить строку по указанному разделителю (по умолчанию - пробелам), в результате получается список слов;\n",
        "- метод join() выполняет обратное действие, формирует из списка строку с определённым объединителем;\n",
        "- метод format() выполняет запонение строки в зарезервированные {} места."
      ]
    },
    {
      "cell_type": "markdown",
      "metadata": {
        "id": "wlNDK4OgBOT5"
      },
      "source": [
        "Например:"
      ]
    },
    {
      "cell_type": "code",
      "execution_count": null,
      "metadata": {
        "colab": {
          "base_uri": "https://localhost:8080/"
        },
        "id": "oO2Tu8k7BOT5",
        "outputId": "779bc4c4-882f-4dfd-f54c-c905dde1cbe9"
      },
      "outputs": [
        {
          "data": {
            "text/plain": [
              "['Хорошо', 'бы', 'разделить', 'эту', 'строку', 'на', 'части']"
            ]
          },
          "execution_count": 75,
          "metadata": {},
          "output_type": "execute_result"
        }
      ],
      "source": [
        "\"Хорошо бы разделить эту строку на части\".split()"
      ]
    },
    {
      "cell_type": "code",
      "execution_count": null,
      "metadata": {
        "id": "hUVPUTNNBOT5"
      },
      "outputs": [],
      "source": [
        "s = \"Но не каждую строку, которую надо разделить, нужно делить по пробелам!!!\""
      ]
    },
    {
      "cell_type": "code",
      "execution_count": null,
      "metadata": {
        "colab": {
          "base_uri": "https://localhost:8080/"
        },
        "id": "caN8Hd-kBOT6",
        "outputId": "ece23c81-03e6-472f-d13c-34c5eb94266f"
      },
      "outputs": [
        {
          "data": {
            "text/plain": [
              "['Но не каждую строку',\n",
              " 'которую надо разделить',\n",
              " 'нужно делить по пробелам!!!']"
            ]
          },
          "execution_count": 77,
          "metadata": {},
          "output_type": "execute_result"
        }
      ],
      "source": [
        "s.split(', ')"
      ]
    },
    {
      "cell_type": "code",
      "execution_count": null,
      "metadata": {
        "colab": {
          "base_uri": "https://localhost:8080/"
        },
        "id": "CTeX-gX_BOT6",
        "outputId": "1ded1f09-990d-4b35-ed11-750e02a91e46"
      },
      "outputs": [
        {
          "data": {
            "text/plain": [
              "['Но не каждую строку, которую надо разделить, нужно делить по пробелам',\n",
              " '',\n",
              " '',\n",
              " '']"
            ]
          },
          "execution_count": 78,
          "metadata": {},
          "output_type": "execute_result"
        }
      ],
      "source": [
        "s.split('!')"
      ]
    },
    {
      "cell_type": "code",
      "execution_count": null,
      "metadata": {
        "colab": {
          "base_uri": "https://localhost:8080/"
        },
        "id": "SPBI852wBOT6",
        "outputId": "853f75e4-c146-4c80-bfe0-0967194926dc"
      },
      "outputs": [
        {
          "data": {
            "text/plain": [
              "['Но не каждую строку, которую надо разделить, нужно делить по пробелам', '!!']"
            ]
          },
          "execution_count": 79,
          "metadata": {},
          "output_type": "execute_result"
        }
      ],
      "source": [
        "s.split('!', 1)  #  ограничем максимальное чило делений"
      ]
    },
    {
      "cell_type": "code",
      "execution_count": null,
      "metadata": {
        "colab": {
          "base_uri": "https://localhost:8080/"
        },
        "id": "bIl5KKq-BOT6",
        "outputId": "3c4b4c99-4dfe-4f5c-ec95-ba9b9b2d2d24"
      },
      "outputs": [
        {
          "name": "stdout",
          "output_type": "stream",
          "text": [
            "['Но не каждую строку', 'которую надо разделить', 'нужно делить по пробелам!!!']\n"
          ]
        }
      ],
      "source": [
        "s2 = s.split(', ')\n",
        "print(s2)"
      ]
    },
    {
      "cell_type": "code",
      "execution_count": null,
      "metadata": {
        "colab": {
          "base_uri": "https://localhost:8080/"
        },
        "id": "4uk9YnbeBOT7",
        "outputId": "97483f06-efc8-45f4-949c-77536ca431b2"
      },
      "outputs": [
        {
          "name": "stdout",
          "output_type": "stream",
          "text": [
            ",  <class 'str'> 140502728934640\n"
          ]
        }
      ],
      "source": [
        "s1 = ', '\n",
        "print(s1, type(s1), id(s1))"
      ]
    },
    {
      "cell_type": "code",
      "execution_count": null,
      "metadata": {
        "colab": {
          "base_uri": "https://localhost:8080/"
        },
        "id": "72mTFAnDBOT7",
        "outputId": "8012d90e-f08c-4359-d4c2-803e8b3081c7"
      },
      "outputs": [
        {
          "name": "stdout",
          "output_type": "stream",
          "text": [
            "Но не каждую строку, которую надо разделить, нужно делить по пробелам!!! <class 'str'> 140502728459856\n"
          ]
        }
      ],
      "source": [
        "s1 = s1.join(s2)\n",
        "print(s1, type(s1), id(s1))"
      ]
    },
    {
      "cell_type": "markdown",
      "metadata": {
        "id": "zEFkdI2hBOT7"
      },
      "source": [
        "Строковый метод format() позволяет создать строку форматной вставкой в неё данных:"
      ]
    },
    {
      "cell_type": "code",
      "execution_count": null,
      "metadata": {
        "colab": {
          "base_uri": "https://localhost:8080/",
          "height": 35
        },
        "id": "VQsd28t_BOT7",
        "outputId": "004f8e48-e52e-44fc-895c-666ae5f0fb36"
      },
      "outputs": [
        {
          "data": {
            "application/vnd.google.colaboratory.intrinsic+json": {
              "type": "string"
            },
            "text/plain": [
              "'length - 3, width - 6, height - 2.3'"
            ]
          },
          "execution_count": 83,
          "metadata": {},
          "output_type": "execute_result"
        }
      ],
      "source": [
        "size = \"length - {}, width - {}, height - {}\"\n",
        "size.format(3, 6, 2.3)"
      ]
    },
    {
      "cell_type": "code",
      "execution_count": null,
      "metadata": {
        "colab": {
          "base_uri": "https://localhost:8080/",
          "height": 35
        },
        "id": "JR4x8pn6BOT8",
        "outputId": "e7e52501-3bfb-4d1c-e658-256386006bf5"
      },
      "outputs": [
        {
          "data": {
            "application/vnd.google.colaboratory.intrinsic+json": {
              "type": "string"
            },
            "text/plain": [
              "'length - 2.3, width - 3, height - 6'"
            ]
          },
          "execution_count": 84,
          "metadata": {},
          "output_type": "execute_result"
        }
      ],
      "source": [
        "size = \"length - {2}, width - {0}, height - {1}\"\n",
        "size.format(3, 6, 2.3)"
      ]
    },
    {
      "cell_type": "code",
      "execution_count": null,
      "metadata": {
        "colab": {
          "base_uri": "https://localhost:8080/",
          "height": 35
        },
        "id": "A5rS9Y6JBOT8",
        "outputId": "fdd0a0c0-4b86-4cc8-f55b-47187ce0ea5f"
      },
      "outputs": [
        {
          "data": {
            "application/vnd.google.colaboratory.intrinsic+json": {
              "type": "string"
            },
            "text/plain": [
              "'length - 2.300, width - 3.333, height - 6.790'"
            ]
          },
          "execution_count": 85,
          "metadata": {},
          "output_type": "execute_result"
        }
      ],
      "source": [
        "size = \"length - {length:5.3f}, width - {width:5.3f}, height - {height:5.3f}\"\n",
        "size.format(width=3.3333333, height=6.7896, length=2.3)"
      ]
    },
    {
      "cell_type": "markdown",
      "metadata": {
        "id": "k7UdVbveBOT8"
      },
      "source": [
        "# Списки\n",
        "\n",
        "Список в Python - это упорядоченный набор объектов, в который могут одновременно входить объекты разных типов (числа, строки и другие структуры). Эллементы списка доступны по индексу начинающегося с 0. Список является изменяемым типом данных - любой его эллемнт можно изменить.\n",
        "\n",
        "Список задаётся перечислением его элементов в квадратных скобках через запятую или с помощью функции list(), например"
      ]
    },
    {
      "cell_type": "code",
      "execution_count": null,
      "metadata": {
        "id": "eQNx7qxsBOT8",
        "outputId": "062be01f-f652-4a6b-e2a5-52c185f7ae3c"
      },
      "outputs": [
        {
          "data": {
            "text/plain": [
              "[1, 2.0, '3', [4]]"
            ]
          },
          "execution_count": 17,
          "metadata": {},
          "output_type": "execute_result"
        }
      ],
      "source": [
        "List = [1, 2.0, '3', [4]]\n",
        "List"
      ]
    },
    {
      "cell_type": "code",
      "execution_count": null,
      "metadata": {
        "id": "4ZJwx-01BOT9",
        "outputId": "f94cdaaf-182a-451e-ac03-29efbc788bbd"
      },
      "outputs": [
        {
          "data": {
            "text/plain": [
              "[1, 2.0, 'three', [4]]"
            ]
          },
          "execution_count": 18,
          "metadata": {},
          "output_type": "execute_result"
        }
      ],
      "source": [
        "List[2] = 'three'\n",
        "List"
      ]
    },
    {
      "cell_type": "markdown",
      "metadata": {
        "id": "WTxC9ejuBOT9"
      },
      "source": [
        "Списки поддерживают следующие базовые операции:"
      ]
    },
    {
      "cell_type": "code",
      "execution_count": null,
      "metadata": {
        "id": "p9qTwRYXBOT9",
        "outputId": "d03e7751-7ead-4b2e-e39f-6ba9814f90c3"
      },
      "outputs": [
        {
          "data": {
            "text/plain": [
              "[0, 1, 2, 3, 4, 5, 6, 7]"
            ]
          },
          "execution_count": 19,
          "metadata": {},
          "output_type": "execute_result"
        }
      ],
      "source": [
        "l=[0,1,2,3,4,5,6,7]\n",
        "l"
      ]
    },
    {
      "cell_type": "markdown",
      "metadata": {
        "id": "Sj2zlYVBBOT9"
      },
      "source": [
        "- удаление эллемента"
      ]
    },
    {
      "cell_type": "code",
      "execution_count": null,
      "metadata": {
        "id": "L131gW3OBOT-",
        "outputId": "b315ffa2-06cd-4fa1-bd15-7400699f016d"
      },
      "outputs": [
        {
          "data": {
            "text/plain": [
              "[0, 1, 2, 4, 5, 6, 7]"
            ]
          },
          "execution_count": 20,
          "metadata": {},
          "output_type": "execute_result"
        }
      ],
      "source": [
        "del l[3]\n",
        "l"
      ]
    },
    {
      "cell_type": "markdown",
      "metadata": {
        "id": "Da-XT7LSBOT-"
      },
      "source": [
        "- добавить эллемента в заданную позицию"
      ]
    },
    {
      "cell_type": "code",
      "execution_count": null,
      "metadata": {
        "id": "suftT0FMBOT-",
        "outputId": "760e44f5-5cc7-402f-b2ed-cfedd91074d9"
      },
      "outputs": [
        {
          "data": {
            "text/plain": [
              "[0, 1, 2, 0, 4, 5, 6, 7]"
            ]
          },
          "execution_count": 21,
          "metadata": {},
          "output_type": "execute_result"
        }
      ],
      "source": [
        "l.insert(3,0)\n",
        "l"
      ]
    },
    {
      "cell_type": "markdown",
      "metadata": {
        "id": "BW3c8vMvBOT-"
      },
      "source": [
        "- добавить эллемента в конец"
      ]
    },
    {
      "cell_type": "code",
      "execution_count": null,
      "metadata": {
        "id": "QeoFWjoBBOT-",
        "outputId": "306eaba1-c6a2-4422-82df-8c5c6ba8e1da"
      },
      "outputs": [
        {
          "data": {
            "text/plain": [
              "[0, 1, 2, 0, 4, 5, 6, 7, 8]"
            ]
          },
          "execution_count": 22,
          "metadata": {},
          "output_type": "execute_result"
        }
      ],
      "source": [
        "l.append(8)\n",
        "l"
      ]
    },
    {
      "cell_type": "markdown",
      "metadata": {
        "id": "8AxIf6mZBOT-"
      },
      "source": [
        "- добавить несколько эллементов в конец"
      ]
    },
    {
      "cell_type": "code",
      "execution_count": null,
      "metadata": {
        "id": "YiKnI6j1BOT_",
        "outputId": "5446925b-04ab-4730-a6c7-3c880c2f509a"
      },
      "outputs": [
        {
          "name": "stdout",
          "output_type": "stream",
          "text": [
            "[0, 1, 2, 0, 4, 5, 6, 7, 8] <class 'list'> 1745891244616\n",
            "[0, 1, 2, 0, 4, 5, 6, 7, 8, 9, 10, 11] <class 'list'> 1745891244616\n"
          ]
        }
      ],
      "source": [
        "print(l, type(l), id(l))\n",
        "l.extend([9,10,11])\n",
        "print(l, type(l), id(l))"
      ]
    },
    {
      "cell_type": "code",
      "execution_count": null,
      "metadata": {
        "id": "3TMkSqiPBOT_",
        "outputId": "056a3e44-cc52-4d89-a4d1-3dee907945c5"
      },
      "outputs": [
        {
          "name": "stdout",
          "output_type": "stream",
          "text": [
            "[6, 7] <class 'list'> 1745890726536\n",
            "[6, 7, 4] <class 'list'> 1745890726024\n"
          ]
        }
      ],
      "source": [
        "l = [6, 7]\n",
        "print(l, type(l), id(l))\n",
        "l = l + [4]\n",
        "print(l, type(l), id(l))"
      ]
    },
    {
      "cell_type": "markdown",
      "metadata": {
        "id": "F488iQxFBOT_"
      },
      "source": [
        "# Генераторы списков\n",
        "\n",
        "Можно также воспользоваться генераторами списков:"
      ]
    },
    {
      "cell_type": "code",
      "execution_count": null,
      "metadata": {
        "id": "W9UFXRymBOT_",
        "outputId": "43e0a92f-9476-4bcb-9982-228a11de8887"
      },
      "outputs": [
        {
          "data": {
            "text/plain": [
              "[0, 1, 2, 3, 4, 5, 6, 7, 8, 9]"
            ]
          },
          "execution_count": 11,
          "metadata": {},
          "output_type": "execute_result"
        }
      ],
      "source": [
        "x = [i for i in range(10)]\n",
        "x"
      ]
    },
    {
      "cell_type": "markdown",
      "metadata": {
        "id": "lXRbxhVcBOUA"
      },
      "source": [
        "Генераторы списков могут иметь сложную структуру — например, состоять из нескольких вложенных циклов for и (или) содержать оператор ветвления if после цикла. Для примера получим четные элементы списка и умножим их на 10:"
      ]
    },
    {
      "cell_type": "code",
      "execution_count": null,
      "metadata": {
        "id": "Ip4Z0CAwBOUA",
        "outputId": "7af3763d-086b-4aca-8780-c3f3f793dd06"
      },
      "outputs": [
        {
          "name": "stdout",
          "output_type": "stream",
          "text": [
            "[0, 20, 40, 60, 80]\n"
          ]
        }
      ],
      "source": [
        "x2 = [ i*10 for i in x if i%2 == 0 ]\n",
        "print(x2)"
      ]
    },
    {
      "cell_type": "markdown",
      "metadata": {
        "id": "8hFvvHYbBOUB"
      },
      "source": [
        "Этот код эквивалентен коду:"
      ]
    },
    {
      "cell_type": "code",
      "execution_count": null,
      "metadata": {
        "id": "Vxr713CiBOUB",
        "outputId": "cbe51933-0ef5-4657-d8f5-7a2cafb53582"
      },
      "outputs": [
        {
          "name": "stdout",
          "output_type": "stream",
          "text": [
            "[0, 20, 40, 60, 80]\n"
          ]
        }
      ],
      "source": [
        "x2 = []\n",
        "for i in x:\n",
        "    if i % 2 == 0: \n",
        "        x2.append(i*10) \n",
        "print(x2)"
      ]
    },
    {
      "cell_type": "markdown",
      "metadata": {
        "id": "1OD0XfIOBOUB"
      },
      "source": [
        "# Копирование списков\n",
        "\n",
        "Операция копирования для листов, имеет особенности"
      ]
    },
    {
      "cell_type": "code",
      "execution_count": null,
      "metadata": {
        "id": "iYytK4xIBOUD",
        "outputId": "3e06ce90-b65e-4a48-94f0-cc219ca813c9"
      },
      "outputs": [
        {
          "name": "stdout",
          "output_type": "stream",
          "text": [
            "2425413357064 2425413357064\n"
          ]
        }
      ],
      "source": [
        "y = x # это не копирование!!!\n",
        "print(id(x), id(y))"
      ]
    },
    {
      "cell_type": "markdown",
      "metadata": {
        "id": "fSZXlt0OBOUD"
      },
      "source": [
        "Правильное копирование:"
      ]
    },
    {
      "cell_type": "code",
      "execution_count": null,
      "metadata": {
        "id": "tJKs5zgSBOUD",
        "outputId": "c767ee4f-41ea-4294-daf7-ee5ca119aa17"
      },
      "outputs": [
        {
          "name": "stdout",
          "output_type": "stream",
          "text": [
            "[0, 1, 2, 3, 4, 5, 6, 7, 8, 9] 2425413349128\n",
            "[0, 1, 2, 3, 4, 5, 6, 7, 8, 9] 2425413247688\n",
            "[0, 1, 2, 3, 4, 5, 6, 7, 8, 9] 2425413354888\n"
          ]
        }
      ],
      "source": [
        "y1 = list(x)\n",
        "y2 = x.copy()\n",
        "y3 = x[:]\n",
        "\n",
        "print(y1, id(y1))\n",
        "print(y2, id(y2))\n",
        "print(y3, id(y3))"
      ]
    },
    {
      "cell_type": "markdown",
      "metadata": {
        "id": "qKl6mpjtBOUE"
      },
      "source": [
        "Объединение листов:"
      ]
    },
    {
      "cell_type": "code",
      "execution_count": null,
      "metadata": {
        "id": "zp98MyOeBOUE",
        "outputId": "a1fa745b-2233-4e4d-f090-36de3d97899e"
      },
      "outputs": [
        {
          "name": "stdout",
          "output_type": "stream",
          "text": [
            "[0, 1, 8, 9] <class 'list'> 2425413318088\n"
          ]
        }
      ],
      "source": [
        "x = x[:2] + x[-2:]\n",
        "print(x, type(x), id(x))"
      ]
    },
    {
      "cell_type": "markdown",
      "metadata": {
        "id": "oBIPcJ2-BOUE"
      },
      "source": [
        "# Кортеж\n",
        "\n",
        "Кортеж в Python - это упорядоченный набор объектов, в который могут одновременно входить объекты разных типов (числа, строки и другие структуры).\n",
        "\n",
        "Его эллементы доступны по индексу начинающегося с 0. Кортеж является не изменяемым типом данных - его эллемнты нельзя менять.\n",
        "\n",
        "Кортеж задаётся перечислением его элементов в круглых скобках через запятую или с помощью функции tuple(), например"
      ]
    },
    {
      "cell_type": "code",
      "execution_count": null,
      "metadata": {
        "id": "XQ5DdK6DBOUF",
        "outputId": "70cde963-f534-4adf-a847-481f5ec602df"
      },
      "outputs": [
        {
          "name": "stdout",
          "output_type": "stream",
          "text": [
            "1 2.0 3 [4, 5]\n"
          ]
        }
      ],
      "source": [
        "Tuple = (1, 2.0, '3', [4, 5])\n",
        "print(Tuple[0],Tuple[1],Tuple[2],Tuple[3])"
      ]
    },
    {
      "cell_type": "code",
      "execution_count": null,
      "metadata": {
        "id": "2_z1NeGYBOUF",
        "outputId": "d3fa86a8-9bb5-4c27-8633-962da4a1e966"
      },
      "outputs": [
        {
          "ename": "TypeError",
          "evalue": "'tuple' object does not support item assignment",
          "output_type": "error",
          "traceback": [
            "\u001b[1;31m---------------------------------------------------------------------------\u001b[0m",
            "\u001b[1;31mTypeError\u001b[0m                                 Traceback (most recent call last)",
            "\u001b[1;32m<ipython-input-14-4daf37eb5949>\u001b[0m in \u001b[0;36m<module>\u001b[1;34m\u001b[0m\n\u001b[1;32m----> 1\u001b[1;33m \u001b[0mTuple\u001b[0m\u001b[1;33m[\u001b[0m\u001b[1;36m2\u001b[0m\u001b[1;33m]\u001b[0m \u001b[1;33m=\u001b[0m \u001b[1;34m'three'\u001b[0m\u001b[1;33m\u001b[0m\u001b[1;33m\u001b[0m\u001b[0m\n\u001b[0m\u001b[0;32m      2\u001b[0m \u001b[0mprint\u001b[0m\u001b[1;33m(\u001b[0m\u001b[0mTuple\u001b[0m\u001b[1;33m[\u001b[0m\u001b[1;36m0\u001b[0m\u001b[1;33m]\u001b[0m\u001b[1;33m,\u001b[0m\u001b[0mTuple\u001b[0m\u001b[1;33m[\u001b[0m\u001b[1;36m1\u001b[0m\u001b[1;33m]\u001b[0m\u001b[1;33m,\u001b[0m\u001b[0mTuple\u001b[0m\u001b[1;33m[\u001b[0m\u001b[1;36m2\u001b[0m\u001b[1;33m]\u001b[0m\u001b[1;33m,\u001b[0m\u001b[0mTuple\u001b[0m\u001b[1;33m[\u001b[0m\u001b[1;36m3\u001b[0m\u001b[1;33m]\u001b[0m\u001b[1;33m)\u001b[0m\u001b[1;33m\u001b[0m\u001b[1;33m\u001b[0m\u001b[0m\n",
            "\u001b[1;31mTypeError\u001b[0m: 'tuple' object does not support item assignment"
          ]
        }
      ],
      "source": [
        "Tuple[2] = 'three'\n",
        "print(Tuple[0],Tuple[1],Tuple[2],Tuple[3])"
      ]
    },
    {
      "cell_type": "code",
      "execution_count": null,
      "metadata": {
        "id": "ed1KvsxJBOUF",
        "outputId": "64a2adee-fabe-41d6-89ea-03cd47f93b0f"
      },
      "outputs": [
        {
          "data": {
            "text/plain": [
              "[4, 5]"
            ]
          },
          "execution_count": 16,
          "metadata": {},
          "output_type": "execute_result"
        }
      ],
      "source": [
        "Tuple[3]"
      ]
    },
    {
      "cell_type": "code",
      "execution_count": null,
      "metadata": {
        "id": "7GnhDaO_BOUF",
        "outputId": "53584bff-b25b-436f-a6d2-200c0a5bbb90"
      },
      "outputs": [
        {
          "ename": "TypeError",
          "evalue": "'tuple' object does not support item assignment",
          "output_type": "error",
          "traceback": [
            "\u001b[1;31m---------------------------------------------------------------------------\u001b[0m",
            "\u001b[1;31mTypeError\u001b[0m                                 Traceback (most recent call last)",
            "\u001b[1;32m<ipython-input-17-e4747f4293d8>\u001b[0m in \u001b[0;36m<module>\u001b[1;34m\u001b[0m\n\u001b[1;32m----> 1\u001b[1;33m \u001b[0mTuple\u001b[0m\u001b[1;33m[\u001b[0m\u001b[1;36m3\u001b[0m\u001b[1;33m]\u001b[0m \u001b[1;33m=\u001b[0m \u001b[1;33m[\u001b[0m\u001b[1;36m1\u001b[0m\u001b[1;33m,\u001b[0m \u001b[1;36m2\u001b[0m\u001b[1;33m]\u001b[0m\u001b[1;33m\u001b[0m\u001b[1;33m\u001b[0m\u001b[0m\n\u001b[0m\u001b[0;32m      2\u001b[0m \u001b[0mTuple\u001b[0m\u001b[1;33m[\u001b[0m\u001b[1;36m3\u001b[0m\u001b[1;33m]\u001b[0m\u001b[1;33m\u001b[0m\u001b[1;33m\u001b[0m\u001b[0m\n",
            "\u001b[1;31mTypeError\u001b[0m: 'tuple' object does not support item assignment"
          ]
        }
      ],
      "source": [
        "Tuple[3] = [1, 2]\n",
        "Tuple[3]"
      ]
    },
    {
      "cell_type": "code",
      "execution_count": null,
      "metadata": {
        "id": "cWbf2B0vBOUG",
        "outputId": "efde19de-73d2-4f6e-c35a-15a0eabd6d4c"
      },
      "outputs": [
        {
          "data": {
            "text/plain": [
              "4"
            ]
          },
          "execution_count": 18,
          "metadata": {},
          "output_type": "execute_result"
        }
      ],
      "source": [
        "Tuple[3][0]"
      ]
    },
    {
      "cell_type": "code",
      "execution_count": null,
      "metadata": {
        "id": "kHlOGxX8BOUG",
        "outputId": "060e5ec9-a11a-4900-dca7-5864062c3ac1"
      },
      "outputs": [
        {
          "data": {
            "text/plain": [
              "-4"
            ]
          },
          "execution_count": 19,
          "metadata": {},
          "output_type": "execute_result"
        }
      ],
      "source": [
        "Tuple[3][0]=-4\n",
        "Tuple[3][0]"
      ]
    },
    {
      "cell_type": "markdown",
      "metadata": {
        "id": "oJmSkHvUBOUG"
      },
      "source": [
        "# Множества\n",
        "\n",
        "Множества в Python - это упорядоченный набор объектов, в который могут одновременно входить объекты разных типов (числа, строки и другие структуры). В отличии от списков и картежей, множество не итерируется по индуксу."
      ]
    },
    {
      "cell_type": "code",
      "execution_count": null,
      "metadata": {
        "id": "Qw8bf-_2BOUG",
        "outputId": "247d9202-b004-40f7-df70-570501ae9f81"
      },
      "outputs": [
        {
          "data": {
            "text/plain": [
              "{1, 2.0, 3, '3', 4}"
            ]
          },
          "execution_count": 30,
          "metadata": {},
          "output_type": "execute_result"
        }
      ],
      "source": [
        "Set = set([2.0000000000000001, 1, 2, 1, '3', 4, 3])\n",
        "Set"
      ]
    },
    {
      "cell_type": "code",
      "execution_count": null,
      "metadata": {
        "id": "PyArQbPqBOUG",
        "outputId": "3a235185-1382-4dd2-d8f5-e31960100b2c"
      },
      "outputs": [
        {
          "data": {
            "text/plain": [
              "{-1, 1, 2.0, 3, '3', 4}"
            ]
          },
          "execution_count": 31,
          "metadata": {},
          "output_type": "execute_result"
        }
      ],
      "source": [
        "Set.add(-1)\n",
        "Set"
      ]
    },
    {
      "cell_type": "markdown",
      "metadata": {
        "id": "yMaWA1m3BOUH"
      },
      "source": [
        "Почему пропала одна 1?\n",
        "\n",
        "Вероятно, наиболее важной операцией с множеством является операция праверки принадлежности, и для неё нужно знать только уникальные эллементы множества. По этой же причине отсутствует возможность обращаться к эллементам по индексу."
      ]
    },
    {
      "cell_type": "code",
      "execution_count": null,
      "metadata": {
        "id": "0hqjgl7_BOUH",
        "outputId": "59c584b6-11e1-44de-e24f-97e6ac9c5941"
      },
      "outputs": [
        {
          "name": "stdout",
          "output_type": "stream",
          "text": [
            "принадлежит множеству\n"
          ]
        }
      ],
      "source": [
        "x = 1\n",
        "\n",
        "if x in Set:\n",
        "    print('принадлежит множеству')\n",
        "else:\n",
        "    print('не принадлежит множеству')"
      ]
    },
    {
      "cell_type": "code",
      "execution_count": null,
      "metadata": {
        "id": "rrBDouLkBOUH",
        "outputId": "7a7f55ac-f46c-4dc5-fe26-fd6100186818"
      },
      "outputs": [
        {
          "data": {
            "text/plain": [
              "['__and__',\n",
              " '__class__',\n",
              " '__contains__',\n",
              " '__delattr__',\n",
              " '__dir__',\n",
              " '__doc__',\n",
              " '__eq__',\n",
              " '__format__',\n",
              " '__ge__',\n",
              " '__getattribute__',\n",
              " '__gt__',\n",
              " '__hash__',\n",
              " '__iand__',\n",
              " '__init__',\n",
              " '__init_subclass__',\n",
              " '__ior__',\n",
              " '__isub__',\n",
              " '__iter__',\n",
              " '__ixor__',\n",
              " '__le__',\n",
              " '__len__',\n",
              " '__lt__',\n",
              " '__ne__',\n",
              " '__new__',\n",
              " '__or__',\n",
              " '__rand__',\n",
              " '__reduce__',\n",
              " '__reduce_ex__',\n",
              " '__repr__',\n",
              " '__ror__',\n",
              " '__rsub__',\n",
              " '__rxor__',\n",
              " '__setattr__',\n",
              " '__sizeof__',\n",
              " '__str__',\n",
              " '__sub__',\n",
              " '__subclasshook__',\n",
              " '__xor__',\n",
              " 'add',\n",
              " 'clear',\n",
              " 'copy',\n",
              " 'difference',\n",
              " 'difference_update',\n",
              " 'discard',\n",
              " 'intersection',\n",
              " 'intersection_update',\n",
              " 'isdisjoint',\n",
              " 'issubset',\n",
              " 'issuperset',\n",
              " 'pop',\n",
              " 'remove',\n",
              " 'symmetric_difference',\n",
              " 'symmetric_difference_update',\n",
              " 'union',\n",
              " 'update']"
            ]
          },
          "execution_count": 12,
          "metadata": {},
          "output_type": "execute_result"
        }
      ],
      "source": [
        "dir(set)"
      ]
    },
    {
      "cell_type": "code",
      "execution_count": null,
      "metadata": {
        "id": "8_PAPih5BOUH",
        "outputId": "411033b9-d5ac-4fc8-cfa1-bc5328e286ee"
      },
      "outputs": [
        {
          "name": "stdout",
          "output_type": "stream",
          "text": [
            "Help on method_descriptor:\n",
            "\n",
            "add(...)\n",
            "    Add an element to a set.\n",
            "    \n",
            "    This has no effect if the element is already present.\n",
            "\n"
          ]
        }
      ],
      "source": [
        "help(set.add)"
      ]
    },
    {
      "cell_type": "markdown",
      "metadata": {
        "id": "Nfjh2RCsBOUI"
      },
      "source": [
        "# Словари\n",
        "\n",
        "Словарь в Python - структура содержит пары \"ключ\" - \"значение\" (их порядок несущественен). Это одина из наиболее полезных и гибких структур имеющихся в Python. Словари реализованы как хэш-таблицы, так что поиск даже в больших словарях очень эффективен.\n",
        "\n",
        "Например, с помощью словоря можно эмулировать работу оператора множественного выбора аналогичного switch:"
      ]
    },
    {
      "cell_type": "code",
      "execution_count": null,
      "metadata": {
        "id": "KBSJG7qwBOUI"
      },
      "outputs": [],
      "source": [
        "def switch_dict(x):\n",
        "    return {\n",
        "        \"a\": 1,\n",
        "        \"b\": 2,\n",
        "        \"c\": 3\n",
        "    }.get(x, -1)"
      ]
    },
    {
      "cell_type": "code",
      "execution_count": null,
      "metadata": {
        "id": "luS9TPNJBOUI",
        "outputId": "d11ead04-36d5-4a46-ab6e-52820e833815"
      },
      "outputs": [
        {
          "data": {
            "text/plain": [
              "1"
            ]
          },
          "execution_count": 33,
          "metadata": {},
          "output_type": "execute_result"
        }
      ],
      "source": [
        "switch_dict('a')"
      ]
    },
    {
      "cell_type": "code",
      "execution_count": null,
      "metadata": {
        "id": "jscXC05KBOUI",
        "outputId": "7aa149a1-1ee1-42c0-e8b9-6b8ae5203bc3"
      },
      "outputs": [
        {
          "data": {
            "text/plain": [
              "-1"
            ]
          },
          "execution_count": 34,
          "metadata": {},
          "output_type": "execute_result"
        }
      ],
      "source": [
        "switch_dict('6')"
      ]
    },
    {
      "cell_type": "code",
      "execution_count": null,
      "metadata": {
        "id": "CZI3i8ZsBOUI"
      },
      "outputs": [],
      "source": [
        "ss = {1: \"a\",\"b\": 2,\"c\": 3}"
      ]
    },
    {
      "cell_type": "code",
      "execution_count": null,
      "metadata": {
        "id": "YuMz2t--BOUJ",
        "outputId": "3eb30824-8dca-4ecf-f4b4-fc5c620746fb"
      },
      "outputs": [
        {
          "data": {
            "text/plain": [
              "'a'"
            ]
          },
          "execution_count": 37,
          "metadata": {},
          "output_type": "execute_result"
        }
      ],
      "source": [
        "ss[1]"
      ]
    },
    {
      "cell_type": "code",
      "execution_count": null,
      "metadata": {
        "id": "TCQXA9MqBOUJ",
        "outputId": "5aca6d8e-6e42-45c6-a01c-ba1ace1f6cd9"
      },
      "outputs": [
        {
          "data": {
            "text/plain": [
              "2"
            ]
          },
          "execution_count": 36,
          "metadata": {},
          "output_type": "execute_result"
        }
      ],
      "source": [
        "ss['b']"
      ]
    },
    {
      "cell_type": "markdown",
      "metadata": {
        "id": "oG0pAo_RBOUJ"
      },
      "source": [
        "# Массивы (numpy)\n",
        "\n",
        "Менее стандартной, но очень полезной является структура массив, объединяющая эллементы одинакового типа."
      ]
    },
    {
      "cell_type": "code",
      "execution_count": null,
      "metadata": {
        "id": "JXA0vofnBOUJ"
      },
      "outputs": [],
      "source": [
        "import numpy as np"
      ]
    },
    {
      "cell_type": "code",
      "execution_count": null,
      "metadata": {
        "id": "Gj1wOgNXBOUJ",
        "outputId": "01a9ec2d-ed00-4273-88f0-02cd0eed9fd9"
      },
      "outputs": [
        {
          "data": {
            "text/plain": [
              "array([[1, 2],\n",
              "       [3, 4]])"
            ]
          },
          "execution_count": 39,
          "metadata": {},
          "output_type": "execute_result"
        }
      ],
      "source": [
        "A = np.array([[1,2],[3,4]])\n",
        "A"
      ]
    },
    {
      "cell_type": "markdown",
      "metadata": {
        "id": "oZmwz7OABOUJ"
      },
      "source": [
        "Очень часто возникает задача создания массива определенного размера, причем чем заполнен массив абсолютно неважно. В этом случае можно воспользоваться циклами или генераторами списков (кортежей), но NumPy для таких случаев предлагает более быстрые и менее затратные функции-заполнители.\n",
        "\n",
        "Полезными оказываются следующие функции (по умолчанию, тип создаваемого массива - float64.):\n",
        "\n",
        "- zeros() - заполняет массив нулями, "
      ]
    },
    {
      "cell_type": "code",
      "execution_count": null,
      "metadata": {
        "id": "QeFCygTFBOUK",
        "outputId": "839d46a1-9d49-4fdd-a221-7628617664c4"
      },
      "outputs": [
        {
          "data": {
            "text/plain": [
              "array([[0., 0., 0.],\n",
              "       [0., 0., 0.],\n",
              "       [0., 0., 0.]])"
            ]
          },
          "execution_count": 40,
          "metadata": {},
          "output_type": "execute_result"
        }
      ],
      "source": [
        "np.zeros((3,3))"
      ]
    },
    {
      "cell_type": "code",
      "execution_count": null,
      "metadata": {
        "id": "0MaUkSSgBOUK",
        "outputId": "9b0bb76e-0473-4f69-f4e6-dd5efc37ae7c"
      },
      "outputs": [
        {
          "data": {
            "text/plain": [
              "array([0., 0., 0.])"
            ]
          },
          "execution_count": 41,
          "metadata": {},
          "output_type": "execute_result"
        }
      ],
      "source": [
        "np.zeros(3)"
      ]
    },
    {
      "cell_type": "markdown",
      "metadata": {
        "id": "5KC1bPxqBOUK"
      },
      "source": [
        "- eye() - создаёт единичную матрицу, "
      ]
    },
    {
      "cell_type": "code",
      "execution_count": null,
      "metadata": {
        "id": "Ater5_W0BOUK",
        "outputId": "554fe6a0-e66a-4f1a-e656-3ceb7a676b4d"
      },
      "outputs": [
        {
          "data": {
            "text/plain": [
              "array([[1., 0., 0.],\n",
              "       [0., 1., 0.],\n",
              "       [0., 0., 1.]])"
            ]
          },
          "execution_count": 42,
          "metadata": {},
          "output_type": "execute_result"
        }
      ],
      "source": [
        "np.eye(3)"
      ]
    },
    {
      "cell_type": "markdown",
      "metadata": {
        "id": "D62VIR76BOUK"
      },
      "source": [
        "- empty - заполняет матрицу случайными числами, которые зависят от состояния памяти. "
      ]
    },
    {
      "cell_type": "code",
      "execution_count": null,
      "metadata": {
        "id": "YT5sjE_VBOUK",
        "outputId": "f981fe40-d0df-4398-b869-6ad60da275ee"
      },
      "outputs": [
        {
          "data": {
            "text/plain": [
              "array([[1., 0., 0.],\n",
              "       [0., 1., 0.],\n",
              "       [0., 0., 1.]])"
            ]
          },
          "execution_count": 43,
          "metadata": {},
          "output_type": "execute_result"
        }
      ],
      "source": [
        "np.empty([3, 3])"
      ]
    },
    {
      "cell_type": "markdown",
      "metadata": {
        "id": "XKry8ZQlBOUK"
      },
      "source": [
        "Для создания последовательностей чисел NumPy предоставляет функции arange() и linspace(), которая возвращает одномерные массивы:"
      ]
    },
    {
      "cell_type": "markdown",
      "metadata": {
        "id": "FVvDXazcBOUL"
      },
      "source": [
        "- np.arange(From, To, Step) - построить массив чисел от From (включая) до To (не включая) с шагом Step:"
      ]
    },
    {
      "cell_type": "code",
      "execution_count": null,
      "metadata": {
        "id": "M64MuHxDBOUL",
        "outputId": "8c698616-ff41-4889-8414-de153450a7c8"
      },
      "outputs": [
        {
          "data": {
            "text/plain": [
              "array([0, 1, 2, 3, 4, 5, 6, 7, 8, 9])"
            ]
          },
          "execution_count": 44,
          "metadata": {},
          "output_type": "execute_result"
        }
      ],
      "source": [
        "np.arange(10)   #  От 0 до указанного числа с шагом 1"
      ]
    },
    {
      "cell_type": "code",
      "execution_count": null,
      "metadata": {
        "id": "_pcEHvCkBOUL",
        "outputId": "9e136884-3091-4691-ee38-e0448fa0f718"
      },
      "outputs": [
        {
          "data": {
            "text/plain": [
              "array([10, 11, 12, 13, 14, 15, 16, 17, 18, 19])"
            ]
          },
          "execution_count": 45,
          "metadata": {},
          "output_type": "execute_result"
        }
      ],
      "source": [
        "np.arange(10, 20)    #  От 10 до 20 с шагом 1"
      ]
    },
    {
      "cell_type": "code",
      "execution_count": null,
      "metadata": {
        "id": "U0nvF8bNBOUL",
        "outputId": "6ac94a83-3306-455c-ed7f-433d383e5d77"
      },
      "outputs": [
        {
          "data": {
            "text/plain": [
              "array([10, 20, 30, 40, 50, 60, 70, 80, 90])"
            ]
          },
          "execution_count": 46,
          "metadata": {},
          "output_type": "execute_result"
        }
      ],
      "source": [
        "np.arange(10, 100, 10)    #  Диапазон с заданным шагом"
      ]
    },
    {
      "cell_type": "code",
      "execution_count": null,
      "metadata": {
        "id": "oDI1m1meBOUL",
        "outputId": "3bc3bce8-ad6b-436b-b059-556993da105e"
      },
      "outputs": [
        {
          "data": {
            "text/plain": [
              "array([0. , 0.1, 0.2, 0.3, 0.4, 0.5, 0.6, 0.7, 0.8, 0.9])"
            ]
          },
          "execution_count": 47,
          "metadata": {},
          "output_type": "execute_result"
        }
      ],
      "source": [
        "np.arange(0, 1, 0.1)    #  Аргументы могут иметь тип float"
      ]
    },
    {
      "cell_type": "markdown",
      "metadata": {
        "id": "fABG4HyuBOUL"
      },
      "source": [
        "- np.linspace(From, To, Num) - построить массив чисел от From (включая) до To (включая) с колличеством эллементов Num:"
      ]
    },
    {
      "cell_type": "code",
      "execution_count": null,
      "metadata": {
        "id": "avx5J8-yBOUM",
        "outputId": "eca98bd6-8ebd-4b82-e6f4-2f65bb1cc414"
      },
      "outputs": [
        {
          "data": {
            "text/plain": [
              "array([0.  , 0.25, 0.5 , 0.75, 1.  ])"
            ]
          },
          "execution_count": 123,
          "metadata": {},
          "output_type": "execute_result"
        }
      ],
      "source": [
        "np.linspace(0, 1, 5)"
      ]
    },
    {
      "cell_type": "code",
      "execution_count": null,
      "metadata": {
        "id": "4W6JF9UJBOUM",
        "outputId": "ac542dcf-2604-45a7-8fea-407a98b2fbdb"
      },
      "outputs": [
        {
          "data": {
            "text/plain": [
              "array([[1, 2],\n",
              "       [3, 4]])"
            ]
          },
          "execution_count": 2,
          "metadata": {},
          "output_type": "execute_result"
        }
      ],
      "source": [
        "A = np.array([[1,2],[3,4]])\n",
        "A"
      ]
    },
    {
      "cell_type": "code",
      "execution_count": null,
      "metadata": {
        "id": "w4AbdOp3BOUM"
      },
      "outputs": [],
      "source": [
        "A[0,0] = 5.1"
      ]
    },
    {
      "cell_type": "code",
      "execution_count": null,
      "metadata": {
        "id": "Dh3vkgkaBOUM"
      },
      "outputs": [],
      "source": [
        "A = A/2"
      ]
    },
    {
      "cell_type": "code",
      "execution_count": null,
      "metadata": {
        "id": "P48bZvYRBOUM",
        "outputId": "25e69577-5e64-48e3-d4bb-638ff66193ac"
      },
      "outputs": [
        {
          "data": {
            "text/plain": [
              "array([[2.5, 1. ],\n",
              "       [1.5, 2. ]])"
            ]
          },
          "execution_count": 6,
          "metadata": {},
          "output_type": "execute_result"
        }
      ],
      "source": [
        "A"
      ]
    },
    {
      "cell_type": "markdown",
      "metadata": {
        "id": "p0xKlBegBOUM"
      },
      "source": [
        "# Упражнение 1.\n",
        "\n",
        "С клавиатуры (неограниченное количество раз) вводится некоторая последовательность значений, необходимо сохранить только уникальные символы (цифры и буквы). И после окончания ввода вывести сохранённые символы."
      ]
    },
    {
      "cell_type": "code",
      "execution_count": null,
      "metadata": {
        "colab": {
          "base_uri": "https://localhost:8080/",
          "height": 380
        },
        "id": "Jy6B4hONBOUN",
        "outputId": "6023fde0-8e80-4292-a0ab-2e2432068c19"
      },
      "outputs": [
        {
          "ename": "KeyboardInterrupt",
          "evalue": "ignored",
          "output_type": "error",
          "traceback": [
            "\u001b[0;31m---------------------------------------------------------------------------\u001b[0m",
            "\u001b[0;31mKeyboardInterrupt\u001b[0m                         Traceback (most recent call last)",
            "\u001b[0;32m<ipython-input-142-fb11a8e4b650>\u001b[0m in \u001b[0;36m<module>\u001b[0;34m\u001b[0m\n\u001b[1;32m      2\u001b[0m \u001b[0malp\u001b[0m \u001b[0;34m=\u001b[0m \u001b[0;34m'абвгдеёжзиклмнопрстуфхцчшщъыьэюя'\u001b[0m\u001b[0;34m\u001b[0m\u001b[0;34m\u001b[0m\u001b[0m\n\u001b[1;32m      3\u001b[0m \u001b[0malpa\u001b[0m \u001b[0;34m=\u001b[0m \u001b[0;34m'abcdefghijklmnopqrstyvwxvz'\u001b[0m\u001b[0;34m\u001b[0m\u001b[0;34m\u001b[0m\u001b[0m\n\u001b[0;32m----> 4\u001b[0;31m \u001b[0my\u001b[0m \u001b[0;34m=\u001b[0m \u001b[0mint\u001b[0m\u001b[0;34m(\u001b[0m\u001b[0minput\u001b[0m\u001b[0;34m(\u001b[0m\u001b[0;34m'Введите количество элементов последовательности:'\u001b[0m\u001b[0;34m)\u001b[0m\u001b[0;34m)\u001b[0m\u001b[0;34m\u001b[0m\u001b[0;34m\u001b[0m\u001b[0m\n\u001b[0m\u001b[1;32m      5\u001b[0m \u001b[0;32mfor\u001b[0m \u001b[0mi\u001b[0m \u001b[0;32min\u001b[0m \u001b[0mrange\u001b[0m\u001b[0;34m(\u001b[0m\u001b[0my\u001b[0m\u001b[0;34m)\u001b[0m\u001b[0;34m:\u001b[0m\u001b[0;34m\u001b[0m\u001b[0;34m\u001b[0m\u001b[0m\n\u001b[1;32m      6\u001b[0m   \u001b[0mx\u001b[0m \u001b[0;34m=\u001b[0m \u001b[0minput\u001b[0m\u001b[0;34m(\u001b[0m\u001b[0;34m)\u001b[0m\u001b[0;34m\u001b[0m\u001b[0;34m\u001b[0m\u001b[0m\n",
            "\u001b[0;32m/usr/local/lib/python3.7/dist-packages/ipykernel/kernelbase.py\u001b[0m in \u001b[0;36mraw_input\u001b[0;34m(self, prompt)\u001b[0m\n\u001b[1;32m    861\u001b[0m             \u001b[0mself\u001b[0m\u001b[0;34m.\u001b[0m\u001b[0m_parent_ident\u001b[0m\u001b[0;34m,\u001b[0m\u001b[0;34m\u001b[0m\u001b[0;34m\u001b[0m\u001b[0m\n\u001b[1;32m    862\u001b[0m             \u001b[0mself\u001b[0m\u001b[0;34m.\u001b[0m\u001b[0m_parent_header\u001b[0m\u001b[0;34m,\u001b[0m\u001b[0;34m\u001b[0m\u001b[0;34m\u001b[0m\u001b[0m\n\u001b[0;32m--> 863\u001b[0;31m             \u001b[0mpassword\u001b[0m\u001b[0;34m=\u001b[0m\u001b[0;32mFalse\u001b[0m\u001b[0;34m,\u001b[0m\u001b[0;34m\u001b[0m\u001b[0;34m\u001b[0m\u001b[0m\n\u001b[0m\u001b[1;32m    864\u001b[0m         )\n\u001b[1;32m    865\u001b[0m \u001b[0;34m\u001b[0m\u001b[0m\n",
            "\u001b[0;32m/usr/local/lib/python3.7/dist-packages/ipykernel/kernelbase.py\u001b[0m in \u001b[0;36m_input_request\u001b[0;34m(self, prompt, ident, parent, password)\u001b[0m\n\u001b[1;32m    902\u001b[0m             \u001b[0;32mexcept\u001b[0m \u001b[0mKeyboardInterrupt\u001b[0m\u001b[0;34m:\u001b[0m\u001b[0;34m\u001b[0m\u001b[0;34m\u001b[0m\u001b[0m\n\u001b[1;32m    903\u001b[0m                 \u001b[0;31m# re-raise KeyboardInterrupt, to truncate traceback\u001b[0m\u001b[0;34m\u001b[0m\u001b[0;34m\u001b[0m\u001b[0;34m\u001b[0m\u001b[0m\n\u001b[0;32m--> 904\u001b[0;31m                 \u001b[0;32mraise\u001b[0m \u001b[0mKeyboardInterrupt\u001b[0m\u001b[0;34m(\u001b[0m\u001b[0;34m\"Interrupted by user\"\u001b[0m\u001b[0;34m)\u001b[0m \u001b[0;32mfrom\u001b[0m \u001b[0;32mNone\u001b[0m\u001b[0;34m\u001b[0m\u001b[0;34m\u001b[0m\u001b[0m\n\u001b[0m\u001b[1;32m    905\u001b[0m             \u001b[0;32mexcept\u001b[0m \u001b[0mException\u001b[0m \u001b[0;32mas\u001b[0m \u001b[0me\u001b[0m\u001b[0;34m:\u001b[0m\u001b[0;34m\u001b[0m\u001b[0;34m\u001b[0m\u001b[0m\n\u001b[1;32m    906\u001b[0m                 \u001b[0mself\u001b[0m\u001b[0;34m.\u001b[0m\u001b[0mlog\u001b[0m\u001b[0;34m.\u001b[0m\u001b[0mwarning\u001b[0m\u001b[0;34m(\u001b[0m\u001b[0;34m\"Invalid Message:\"\u001b[0m\u001b[0;34m,\u001b[0m \u001b[0mexc_info\u001b[0m\u001b[0;34m=\u001b[0m\u001b[0;32mTrue\u001b[0m\u001b[0;34m)\u001b[0m\u001b[0;34m\u001b[0m\u001b[0;34m\u001b[0m\u001b[0m\n",
            "\u001b[0;31mKeyboardInterrupt\u001b[0m: Interrupted by user"
          ]
        }
      ],
      "source": [
        "s = []\n",
        "alp = 'абвгдеёжзиклмнопрстуфхцчшщъыьэюя'\n",
        "alpa = 'abcdefghijklmnopqrstyvwxvz'\n",
        "y = int(input('Введите количество элементов последовательности:'))\n",
        "for i in range(y):\n",
        "  x = input()\n",
        "  if type(x) == int or ((x in alp) != -1 or (x in alpa) != -1):\n",
        "    s.append(x)\n",
        "    print(s)"
      ]
    },
    {
      "cell_type": "markdown",
      "metadata": {
        "id": "WN3aa-KeBOUN"
      },
      "source": [
        "# Упражнение 2. Эффективный размер массива (стек).\n",
        "\n",
        "Стек, дека, очередь. Массив с дополнительными параметрами (размер выделенной памяти и объём занятой памяти). Позволяют за константное время добавлять и убирать элементы в начало и конец эффективного размера массива.\n",
        "\n",
        "Напишите функцию которая реализует работу стека: \n",
        "1. внутри определён массив numpy заданного размера и целочисленный параметр фиксирующий степень заполненности массива;\n",
        "2. функция принимает значение x и индиксатор действия (0 - чтение из стека, 1 - запись в стек); в случае чтения возвращает значение из конца массива или False, если стек пуст; при записи возвращает логическую переменную индикатор успешности операции;\n",
        "3. при операциях чтения и записи должна проверяться корректность этого действия связанная с размерами стека."
      ]
    },
    {
      "cell_type": "code",
      "execution_count": null,
      "metadata": {
        "colab": {
          "base_uri": "https://localhost:8080/"
        },
        "id": "r9A2uBN7BOUN",
        "outputId": "ed4ca877-fb2e-45d1-fbf9-4465fb863273"
      },
      "outputs": [
        {
          "name": "stdout",
          "output_type": "stream",
          "text": [
            "1 True 1 [10.  0.  0.  0.  0.  0.  0.  0.  0.  0.]\n",
            "0 10.0 0 [0. 0. 0. 0. 0. 0. 0. 0. 0. 0.]\n",
            "0 False 0 [0. 0. 0. 0. 0. 0. 0. 0. 0. 0.]\n",
            "0 False 0 [0. 0. 0. 0. 0. 0. 0. 0. 0. 0.]\n",
            "0 False 0 [0. 0. 0. 0. 0. 0. 0. 0. 0. 0.]\n",
            "1 True 1 [10.  0.  0.  0.  0.  0.  0.  0.  0.  0.]\n",
            "0 10.0 0 [0. 0. 0. 0. 0. 0. 0. 0. 0. 0.]\n",
            "0 False 0 [0. 0. 0. 0. 0. 0. 0. 0. 0. 0.]\n",
            "1 True 1 [10.  0.  0.  0.  0.  0.  0.  0.  0.  0.]\n",
            "1 True 2 [10. 10.  0.  0.  0.  0.  0.  0.  0.  0.]\n",
            "0 10.0 1 [10.  0.  0.  0.  0.  0.  0.  0.  0.  0.]\n",
            "1 True 2 [10. 10.  0.  0.  0.  0.  0.  0.  0.  0.]\n",
            "0 10.0 1 [10.  0.  0.  0.  0.  0.  0.  0.  0.  0.]\n",
            "0 10.0 0 [0. 0. 0. 0. 0. 0. 0. 0. 0. 0.]\n",
            "0 False 0 [0. 0. 0. 0. 0. 0. 0. 0. 0. 0.]\n",
            "1 True 1 [10.  0.  0.  0.  0.  0.  0.  0.  0.  0.]\n",
            "0 10.0 0 [0. 0. 0. 0. 0. 0. 0. 0. 0. 0.]\n",
            "0 False 0 [0. 0. 0. 0. 0. 0. 0. 0. 0. 0.]\n",
            "1 True 1 [10.  0.  0.  0.  0.  0.  0.  0.  0.  0.]\n",
            "0 10.0 0 [0. 0. 0. 0. 0. 0. 0. 0. 0. 0.]\n"
          ]
        }
      ],
      "source": [
        "import numpy as np\n",
        "import random\n",
        "\n",
        "nstack = 10\n",
        "stack = np.zeros(nstack)\n",
        "istack = 0\n",
        "\n",
        "def fstack(id, x = 0):\n",
        "  global istack\n",
        "  if id == 0:\n",
        "    if istack == 0:\n",
        "      return False\n",
        "    if istack != 0:\n",
        "      istack -= 1\n",
        "      tmp = stack[istack]\n",
        "      stack[istack] = 0 \n",
        "      return tmp\n",
        "    \n",
        "  if id == 1:\n",
        "    if istack == nstack:\n",
        "      return False \n",
        "    if istack < nstack:\n",
        "      stack[istack] = x \n",
        "      istack += 1 \n",
        "      return True\n",
        "\n",
        "for i in range(20):\n",
        "  id = random.randint(0,1)\n",
        "  print(id, fstack(id, 10), istack, stack)\n",
        "        \n",
        "    \n",
        "        "
      ]
    },
    {
      "cell_type": "markdown",
      "metadata": {
        "id": "OcAz5dddBOUN"
      },
      "source": [
        "# Упражнение 3. Эффективный размер массива (множество).\n",
        "\n",
        "Как мы уже поняли, множество в Python это совокупность уникальных объектов не доступных по индексу. Адаптируйте предыдущую программу к работе в таком режиме.\n",
        "\n",
        "Т.е.: \n",
        "1. дописываться могут только значения не записанные ранее;\n",
        "2. функция принимает одно значение x (True - вывод всего множества, числовое значение - запись в множество); в случае если множество пусто возвращается False; при записи возвращает логическую переменную индикатор успешности операции;\n",
        "3. при операциях чтения и записи должна проверяться корректность этого действия связанная с размерами множества.\n",
        "\n",
        "P.S. Попробуйте реализовать пункт с выводом значений по возрастанию через работу с дополнительным массивом индексов (перестановок). Или начиная запись в множество с середины массива..."
      ]
    },
    {
      "cell_type": "code",
      "execution_count": null,
      "metadata": {
        "colab": {
          "base_uri": "https://localhost:8080/"
        },
        "id": "yBVrZWVWBOUN",
        "outputId": "a852ef26-939d-4d92-f5f2-8c72a39cb3d3"
      },
      "outputs": [
        {
          "name": "stdout",
          "output_type": "stream",
          "text": [
            "False\n",
            "True\n",
            "True\n",
            "{3, 5}\n",
            "{3, 5}\n",
            "True\n",
            "True\n",
            "{10, 3, 4, 5}\n",
            "True\n",
            "{3, 4, 5, 9, 10}\n",
            "{3, 4, 5, 9, 10}\n",
            "{3, 4, 5, 9, 10}\n",
            "{3, 4, 5, 9, 10}\n",
            "False\n",
            "False\n",
            "False\n",
            "False\n",
            "False\n",
            "False\n",
            "{3, 4, 5, 9, 10}\n"
          ]
        }
      ],
      "source": [
        "import random as r\n",
        "sat = set()\n",
        "iset = 5\n",
        "nset = 0\n",
        "\n",
        "\n",
        "def ASET(x):\n",
        "    global nset\n",
        "    if x == True :\n",
        "        if nset == 0:\n",
        "            return False \n",
        "        if nset != 0:\n",
        "            return sat\n",
        "    \n",
        "    if x != True:\n",
        "        if x not in sat:\n",
        "            if iset == nset:\n",
        "                return False \n",
        "            if istack < nstack:\n",
        "                nset = nset + 1\n",
        "                sat.add(x)\n",
        "                return True\n",
        "        if x in sat:\n",
        "            return False \n",
        "        \n",
        "for i in range(20):\n",
        "    id = r.randint(0,1)\n",
        "    if id == 1:\n",
        "        id = True \n",
        "        print(ASET(id))\n",
        "    if id == 0:\n",
        "        id = r.randint(0,10)\n",
        "        print(ASET(id))"
      ]
    },
    {
      "cell_type": "markdown",
      "metadata": {
        "id": "PbK6f37oBOUN"
      },
      "source": [
        "# Функции для итерируемых объектов.\n",
        "\n",
        "Наиболее полезными для итерируем объектов являются функции:\n",
        "- map() - позволяет применить заданную функцию к каждому элементу последовательности, возвращает объект, поддерживающий итерации,\n",
        "- zip() - возвращает кортеж, содержащий элементы последовательностей расположенных на одинаковом смещении,\n",
        "- filter() - позволяет выполнить проверку элементов последовательности."
      ]
    },
    {
      "cell_type": "code",
      "execution_count": null,
      "metadata": {
        "colab": {
          "base_uri": "https://localhost:8080/"
        },
        "id": "ikuIP-gGBOUO",
        "outputId": "cf5047ea-059f-4dd0-bd2a-e84976a2327c"
      },
      "outputs": [
        {
          "name": "stdout",
          "output_type": "stream",
          "text": [
            "[11, 12, 13, 14, 15]\n"
          ]
        }
      ],
      "source": [
        "def fun(elem):\n",
        "    return elem + 10 \n",
        "\n",
        "arr = [1, 2, 3, 4, 5]\n",
        "print(list(map(fun, arr)))"
      ]
    },
    {
      "cell_type": "code",
      "execution_count": null,
      "metadata": {
        "colab": {
          "base_uri": "https://localhost:8080/"
        },
        "id": "Oq6ixL1CBOUO",
        "outputId": "d629a854-95de-443b-a9bc-a65af1c4c7a7"
      },
      "outputs": [
        {
          "data": {
            "text/plain": [
              "[(1, 4, 7), (2, 5, 8), (3, 6, 9)]"
            ]
          },
          "execution_count": 3,
          "metadata": {},
          "output_type": "execute_result"
        }
      ],
      "source": [
        "list(zip([ 1, 2, 3], [4, 5, 6], [7, 8, 9]))"
      ]
    },
    {
      "cell_type": "code",
      "execution_count": null,
      "metadata": {
        "colab": {
          "base_uri": "https://localhost:8080/"
        },
        "id": "D6gywWyCBOUO",
        "outputId": "a9b154f7-c362-457a-971a-95c9b256700a"
      },
      "outputs": [
        {
          "name": "stdout",
          "output_type": "stream",
          "text": [
            "[111, 222, 333, 444, 555]\n"
          ]
        }
      ],
      "source": [
        "arrl = [1, 2, 3, 4, 5]\n",
        "arr2 = [10, 20, 30, 40, 50]\n",
        "arrЗ = [100, 200, 300, 400, 500]\n",
        "\n",
        "arr = [х + у + z for (х, у, z) in zip(arrl, arr2, arrЗ)]\n",
        "print(arr)"
      ]
    },
    {
      "cell_type": "markdown",
      "metadata": {
        "id": "X0RnRjSgBOUO"
      },
      "source": [
        "или что тоже самое"
      ]
    },
    {
      "cell_type": "code",
      "execution_count": null,
      "metadata": {
        "colab": {
          "base_uri": "https://localhost:8080/"
        },
        "id": "Y9-MTaa6BOUO",
        "outputId": "6c313a5c-93e9-4e08-974c-a6e38b67df38"
      },
      "outputs": [
        {
          "name": "stdout",
          "output_type": "stream",
          "text": [
            "[111, 222, 333, 444, 555]\n"
          ]
        }
      ],
      "source": [
        "def fun(a,b,c):\n",
        "    return a+b+c \n",
        "\n",
        "print(list(map(fun, arrl, arr2, arrЗ)))"
      ]
    },
    {
      "cell_type": "code",
      "execution_count": null,
      "metadata": {
        "colab": {
          "base_uri": "https://localhost:8080/"
        },
        "id": "jsRhPjyMBOUP",
        "outputId": "296eed71-2044-4834-de1c-7b3d85db3310"
      },
      "outputs": [
        {
          "data": {
            "text/plain": [
              "[222, 444]"
            ]
          },
          "execution_count": 6,
          "metadata": {},
          "output_type": "execute_result"
        }
      ],
      "source": [
        "def fun(elem):\n",
        "    return elem % 2 == 0\n",
        "\n",
        "list(filter(fun, arr))"
      ]
    },
    {
      "cell_type": "markdown",
      "metadata": {
        "id": "uilfiTzABOUP"
      },
      "source": [
        "# Генераторы словарей"
      ]
    },
    {
      "cell_type": "code",
      "execution_count": null,
      "metadata": {
        "colab": {
          "base_uri": "https://localhost:8080/"
        },
        "id": "BUqnUvTJBOUP",
        "outputId": "de15ecd1-6123-40da-9c8d-2573378fdc2c"
      },
      "outputs": [
        {
          "data": {
            "text/plain": [
              "{'а': 1, 'Ь': 2, 'c': 3}"
            ]
          },
          "execution_count": 7,
          "metadata": {},
          "output_type": "execute_result"
        }
      ],
      "source": [
        "keys = [\"а\", \"Ь\", \"c\"]\n",
        "values = [1, 2, 3] \n",
        "dict_kv = {k: v for (k, v) in zip(keys, values)}\n",
        "dict_kv"
      ]
    },
    {
      "cell_type": "markdown",
      "metadata": {
        "id": "wH1mjm2oBOUP"
      },
      "source": [
        "# Упражнение 4.\n",
        "\n",
        "Создайте функцию принимающую двумерную таблицу, работающую со всеми возможными итерируемыми типами данных подходящими для её хранения (лист, словарь, картеж, массив и т.д.). Функция должна выполнять вывод строк этой таблици в случайном порядке. \n",
        "\n",
        "Насколько сложно было бы сделать аналогичный вывод для столбцов?"
      ]
    },
    {
      "cell_type": "code",
      "execution_count": null,
      "metadata": {
        "colab": {
          "base_uri": "https://localhost:8080/"
        },
        "id": "lIQSkagPBOUP",
        "outputId": "11078d6d-a0ec-493a-ac61-bec1230d8523"
      },
      "outputs": [
        {
          "name": "stdout",
          "output_type": "stream",
          "text": [
            "([1, 2, 3], [4, 5, 6])\n",
            "([4, 5, 6], [1, 2, 3])\n",
            "([1, 2, 3], [4, 5, 6])\n",
            "([4, 5, 6], [1, 2, 3])\n"
          ]
        }
      ],
      "source": [
        "import random \n",
        "import numpy as np \n",
        "\n",
        "def tb(table):\n",
        "  result = [0, 0]\n",
        "  if type(table) is dict:\n",
        "    result[0] = [ x for x in table.keys()]\n",
        "    result[1] = [ x for x in table.values()]\n",
        "  else:\n",
        "    result[0] = [ x for x in table[0]]\n",
        "    result[1] = [ x for x in table[1]]\n",
        "  starLine = random.randint(0, 1)\n",
        "  return result[starLine], result[not(starLine)]\n",
        "\n",
        "print(tb({1:4, 2:5, 3:6}))\n",
        "print(tb([[1,2,3],[4,5,6]]))\n",
        "print(tb(tuple([[1,2,3],[4,5,6]])))\n",
        "print(tb(np.array([[1,2,3],[4,5,6]])))"
      ]
    },
    {
      "cell_type": "markdown",
      "metadata": {
        "id": "dp4zJKFmBOUP"
      },
      "source": [
        "# Домашнее задание (базовое):"
      ]
    },
    {
      "cell_type": "markdown",
      "metadata": {
        "id": "TmPKN7bPBOUQ"
      },
      "source": [
        "# Задание 1.\n",
        "\n",
        "С клавиатуры вводится строка, включающая строчные и прописные буквы. Требуется вывести ту же строку в изменённом регистре, тип регистра зависит от того, каких букв больше. При равном количестве букв в заглавном и проптсном регистре - выводится оригинальная строка. \n",
        "\n",
        "Например, вводится строка \"HeLLo World\", она должна быть преобразована в \"hello world\", потому что в исходной строке малых букв больше. \n",
        "\n",
        "В программе можно использовать строковые методы: upper() (преобразование к верхнему регистру) и lower() (преобразование к нижнему регистру), isupper() и islower() (проверяющие регистр строки или символа)."
      ]
    },
    {
      "cell_type": "code",
      "execution_count": null,
      "metadata": {
        "colab": {
          "base_uri": "https://localhost:8080/"
        },
        "id": "yao98vZuBOUQ",
        "outputId": "218957b6-e846-4f01-f13a-3593606a834c"
      },
      "outputs": [
        {
          "name": "stdout",
          "output_type": "stream",
          "text": [
            "Введите строку:67325417FGFJHGFHGFgfhkgwevcewkhgvcakwegvkahew\n",
            "67325417fgfjhgfhgfgfhkgwevcewkhgvcakwegvkahew\n"
          ]
        }
      ],
      "source": [
        "f = 0\n",
        "i = 0\n",
        "x = input('Введите строку:')\n",
        "for i in range(len(x)):\n",
        "    if x[i].isupper() == True:\n",
        "      f += 1\n",
        "    elif x[i].isupper() == False:\n",
        "      if x[i] == ' ':\n",
        "        i += 1\n",
        "if f > i:\n",
        "    print(x.upper())\n",
        "elif f < i:\n",
        "    print(x. lower())\n",
        "else:\n",
        "    print(x)\n",
        "\n"
      ]
    },
    {
      "cell_type": "markdown",
      "metadata": {
        "id": "fuwKJEWPBOUQ"
      },
      "source": [
        "# Задание 2\n",
        "\n",
        "Дано слово \"объектно-ориентированный\". Используя индексацию и срезы составьте из него как можно больше слов \"объект\", \"ориентир\", \"тир\", \"кот\", \"рента\" и тд. Выведите их на экран."
      ]
    },
    {
      "cell_type": "code",
      "execution_count": null,
      "metadata": {
        "colab": {
          "base_uri": "https://localhost:8080/"
        },
        "id": "4DuWI2GZBOUQ",
        "outputId": "b2d00be2-b5ca-44cf-f0b5-0fc2f9fd1203"
      },
      "outputs": [
        {
          "name": "stdout",
          "output_type": "stream",
          "text": [
            "объект\n",
            "тир\n",
            "кот\n",
            "ориентир\n",
            "рента\n",
            "вино\n",
            "вина\n",
            "ров\n",
            "вино\n",
            "окно\n",
            "енот\n"
          ]
        }
      ],
      "source": [
        "x = 'объектно-ориентированный'\n",
        "print(''.join(x[:6]))\n",
        "print(''.join(x[14:17]))\n",
        "print(''.join(x[4] + x[7] + x[5]))\n",
        "print(''.join(x[9:17]))\n",
        "print(''.join(x[10] + x[12:15] + x[-5]))\n",
        "print(''.join(x[-6] + x[11] + x[-3] + x[0]))\n",
        "print(''.join(x[-6] + x[11] + x[-3] + x[-5]))\n",
        "print(''.join(x[16:19]))\n",
        "print(''.join(x[-6] + x[11] + x[-3] + x[0]))\n",
        "print(''.join(x[0] + x[4] + x[-3] + x[0]))\n",
        "print(''.join(x[3] + x[-3] + x[0] + x[14]))"
      ]
    },
    {
      "cell_type": "markdown",
      "metadata": {
        "id": "96VoU8F_BOUQ"
      },
      "source": [
        "# Задание 3\n",
        "\n",
        "Строковый метод isdigit() проверяет, состоит ли строка только из цифр. Напишите программу, которая запрашивает с ввода целые числа и выводит их сумму. В случае некорректного ввода программа не должна завершаться с ошибкой, а должна продолжать работу, удаляя из введённой строки все символы кроме цифр. При отсутствии цифр запрс пользователю повторяется.\n",
        "\n",
        "Обработчик исключений try-except использовать нельзя."
      ]
    },
    {
      "cell_type": "code",
      "execution_count": null,
      "metadata": {
        "colab": {
          "base_uri": "https://localhost:8080/"
        },
        "id": "yIDgz5P7BOUQ",
        "outputId": "d857ae5c-6670-467c-82d1-df639feb72bf"
      },
      "outputs": [
        {
          "name": "stdout",
          "output_type": "stream",
          "text": [
            "13254rtfjhgk\n",
            "['1', '3', '2', '5', '4', 0, 0, 0, 0, 0, 0, 0] 15\n"
          ]
        }
      ],
      "source": [
        "f = input('Введите строку:')\n",
        "n = 1\n",
        "x = [f[i:i+n] for i in range(0, len(f), n)]\n",
        "sum = 0\n",
        "for i in range(len(x)):\n",
        "    if x[i].isdigit() == True:\n",
        "        sum += int(x[i])\n",
        "\n",
        "else:\n",
        "    for i in range(len(x)):\n",
        "        if x[i].isdigit() == False:\n",
        "            x[i] = 0\n",
        "print(x, sum)"
      ]
    },
    {
      "cell_type": "markdown",
      "metadata": {
        "id": "YcWOaJbgBOUQ"
      },
      "source": [
        "# Задание 4\n",
        "\n",
        "Создайте словарь, где ключами являются числа, а значениями – строки. Примените к нему метод items(), полученный объект dict_items передайте в написанную вами функцию, которая создает и возвращает новый словарь, \"обратный\" исходному, т. е. ключами являются строки, а значениями – числа. "
      ]
    },
    {
      "cell_type": "code",
      "execution_count": null,
      "metadata": {
        "colab": {
          "base_uri": "https://localhost:8080/"
        },
        "id": "h5qvIZn2BOUQ",
        "outputId": "333a76c8-d3e8-4802-c40e-7af6850bfc17"
      },
      "outputs": [
        {
          "name": "stdout",
          "output_type": "stream",
          "text": [
            "Первоначальные значения:\n",
            "Ключ: 1 Значение: a\n",
            "Ключ: 2 Значение: b\n",
            "Ключ: 3 Значение: c\n",
            "Значения после:\n",
            "{'a': 1, 'b': 2, 'c': 3}\n"
          ]
        }
      ],
      "source": [
        "x = {1 : 'a', 2 : 'b', 3 : 'c'}\n",
        "print('Первоначальные значения:')\n",
        "for keys, values in x.items(): \n",
        "  print('Ключ:',keys,'Значение:',values)\n",
        "\n",
        "print('Значения после:')\n",
        "\n",
        "def f(x):\n",
        "  return {y:x for (x,y) in x.items()}\n",
        "\n",
        "print(f(x))\n",
        "\n",
        "\n"
      ]
    },
    {
      "cell_type": "markdown",
      "metadata": {
        "id": "YrpSVWGzBOUR"
      },
      "source": [
        "# Задание 5. (Снова в школу...)\n",
        "\n",
        "Опишите структуру данных (базу данных) на основе словаря и интерфейс работы с ней (функцию). \n",
        "\n",
        "Создайте словарь school, и наполните его данными, которые бы отражали количество учащихся в разных классах (1а, 1б, 2б, 6а, 7в и т.п.). И функцию для внесения изменений в словарь в рамках следующего функционала: \n",
        "а) в одном из классов изменилось количество учащихся; \n",
        "б) в школе появился новый класс; \n",
        "с) в школе был расформирован (удален) класс, в связи с чем ученики были равномерно распределены по другим; \n",
        "d) выгрузка данных: общее количество учащихся в школе, общее колличество классав, распределение учеников по классам.\n",
        "\n",
        "P.S. Дополнительно.\n",
        "\n",
        "Подумайте как лучше всего хранить такую базу данных в файле. Попробуйте реализовать свою идею."
      ]
    },
    {
      "cell_type": "code",
      "execution_count": null,
      "metadata": {
        "colab": {
          "base_uri": "https://localhost:8080/"
        },
        "id": "6VDgD5QxBOUR",
        "outputId": "2d6b8b79-91e5-4ddd-e926-aa8ab88ccb11"
      },
      "outputs": [
        {
          "name": "stdout",
          "output_type": "stream",
          "text": [
            "Выберите номер операции:1.Изменить количество учеников в классе2.Добавить новый класс3.в школе был расформирован один из классов4.общее количество учащихся в школе, общее колличество классов, распределение учеников по классам\n",
            "Номер операции:4\n",
            "Общее количество классво: 33 Общее количество учеников: 443\n",
            "Номер класса: 1 Количество учеников из всех букв: 31\n",
            "Номер класса: 2 Количество учеников из всех букв: 37\n",
            "Номер класса: 3 Количество учеников из всех букв: 53\n",
            "Номер класса: 4 Количество учеников из всех букв: 48\n",
            "Номер класса: 5 Количество учеников из всех букв: 58\n",
            "Номер класса: 6 Количество учеников из всех букв: 48\n",
            "Номер класса: 7 Количество учеников из всех букв: 39\n",
            "Номер класса: 8 Количество учеников из всех букв: 30\n",
            "Номер класса: 9 Количество учеников из всех букв: 24\n",
            "Номер класса: 10 Количество учеников из всех букв: 33\n",
            "Номер класса: 11 Количество учеников из всех букв: 42\n"
          ]
        }
      ],
      "source": [
        "def school(x):\n",
        "    return {\n",
        "        1: {\n",
        "           'a': 12,\n",
        "           'b': 10,\n",
        "           'c': 9\n",
        "        },\n",
        "        2: {\n",
        "           'a': 18,\n",
        "           'b': 11,\n",
        "           'c': 8\n",
        "        },\n",
        "        3: {\n",
        "           'a': 17,\n",
        "           'b': 16,\n",
        "           'c': 20\n",
        "        },\n",
        "        4: {\n",
        "           'a': 22,\n",
        "           'b': 13,\n",
        "           'c': 13\n",
        "        },\n",
        "        5: {\n",
        "           'a': 21,\n",
        "           'b': 19,\n",
        "           'c': 18\n",
        "        },\n",
        "        6: {\n",
        "           'a': 17,\n",
        "           'b': 16,\n",
        "           'c': 15\n",
        "        },\n",
        "        7: {\n",
        "           'a': 14,\n",
        "           'b': 13,\n",
        "           'c': 12\n",
        "        },\n",
        "        8: {\n",
        "           'a': 11,\n",
        "           'b': 10,\n",
        "           'c': 9\n",
        "        },\n",
        "        9: {\n",
        "           'a': 8,\n",
        "           'b': 7,\n",
        "           'c': 9\n",
        "        },\n",
        "        10: {\n",
        "           'a': 10,\n",
        "           'b': 11,\n",
        "           'c': 12\n",
        "        },\n",
        "        11: {\n",
        "           'a': 13,\n",
        "           'b': 14,\n",
        "           'c': 15\n",
        "        }\n",
        "    }.get(x, None)\n",
        "\n",
        "print('Выберите номер операции:\\\n",
        "1.Изменить количество учеников в классе\\\n",
        "2.Добавить новый класс\\\n",
        "3.в школе был расформирован один из классов\\\n",
        "4.общее количество учащихся в школе, общее колличество классов, распределение учеников по классам')\n",
        "\n",
        "h = int(input('Номер операции:'))\n",
        "if h == 1:\n",
        "  x = int(input('Выберите номер класса(1-11):'))\n",
        "  f = int(input('Выберите букву класса(1-a,2-b,3-c):'))\n",
        "\n",
        "  for i in range(1,12):\n",
        "    dic = dict(school(i))\n",
        "    if x == i and f == 1: \n",
        "        f = int(input('Введите количество учеников:'))\n",
        "        dic['a'] = f\n",
        "        print(dic)\n",
        "    if x == i and f == 2: \n",
        "        f = int(input('Введите количество учеников:'))\n",
        "        dic['b'] = f\n",
        "        print(dic)\n",
        "    if x == i and f == 3: \n",
        "        f = int(input('Введите количество учеников:'))\n",
        "        dic['c'] = f\n",
        "        print(dic)\n",
        "\n",
        "if h == 2:\n",
        "  x = int(input('Введите номер класса:'))\n",
        "  y = str(input('Введите букву класса:'))\n",
        "  z = int(input('Введите количество учеников:'))\n",
        "  dic = dict(school(x))\n",
        "  dic[y] = z \n",
        "  print(dic)\n",
        "\n",
        "\n",
        "if h == 3:\n",
        "  x = int(input('Введите номер класса:'))\n",
        "  y = str(input('Введите букву класса:'))\n",
        "  dic = dict(school(x))\n",
        "  dic.pop(y)\n",
        "  print(dic)\n",
        "\n",
        "\n",
        "if h == 4:\n",
        "  x = 11 * 3\n",
        "  y = 443\n",
        "  print('Общее количество классво:',x, 'Общее количество учеников:',y,)\n",
        "  for i in range(1,12):\n",
        "    dic = dict(school(i))\n",
        "    t = sum(dic[x] for x in dic)\n",
        "    print('Номер класса:',i,'Количество учеников из всех букв:',t)\n",
        "\n",
        "\n"
      ]
    },
    {
      "cell_type": "markdown",
      "metadata": {
        "id": "391xBWP6BOUR"
      },
      "source": [
        "# Домашнее задание (дополнительное):"
      ]
    },
    {
      "cell_type": "markdown",
      "metadata": {
        "id": "BTLGqH49BOUR"
      },
      "source": [
        "# Задание. Реверс словаря.\n",
        "\n",
        "Создайте словарь, где ключами являются цифры, а значениями – строки. Передайте словарь в функцию, которая создает и возвращает новый словарь, \"обратный\" исходному, при этом ключами являются буквы составляющие строки, а значениями – числа составленные из цифр в порядке соответствующем.\n",
        "\n",
        "Например: \n",
        "\n",
        "Исходный словарь: {1: 'аcc', 2: 'сab', 3: 'ccb'}\n",
        "\n",
        "Выходной словарь: {'а': 12, 'b': 23, 'c': 11233}"
      ]
    },
    {
      "cell_type": "code",
      "execution_count": null,
      "metadata": {
        "id": "W2yPpH9OBOUR"
      },
      "outputs": [],
      "source": []
    },
    {
      "cell_type": "markdown",
      "metadata": {
        "id": "t3i3VB4aBOUR"
      },
      "source": [
        "# Задание. Разрезание таблиц. \n",
        "\n",
        "Заполните квадратную таблицу порядка n по спирали по часовой стрелке начиная с левого верхнего угла. В напишите функцию принимающую данную таблицу в подходящем формате, найдите строку с наибольшим количеством нулей и столбец с максимальной суммой элементов. Разрежьте по этой строке и столбцу таблицу и верните из функции получившийся результат как отдельные таблицы, после чего выведете их на печать."
      ]
    },
    {
      "cell_type": "code",
      "execution_count": null,
      "metadata": {
        "id": "nrg8CtJvBOUR"
      },
      "outputs": [],
      "source": []
    },
    {
      "cell_type": "markdown",
      "metadata": {
        "id": "48CYi8dKBOUR"
      },
      "source": [
        "# Задание. Пары.\n",
        "\n",
        "На вход программы поступает последовательность из N целых положительных чисел, все числа в последовательности различны. Рассматриваются все пары различных элементов последовательности (элементы пары не обязаны стоять в последовательности рядом, порядок элементов в паре не важен). Необходимо определить количество пар, для которых произведение элементов делится на 26.\n",
        "Описание входных и выходных данных.\n",
        "\n",
        "В первой строке входных данных задаётся количество чисел N (1 ≤ N ≤ 1000). В каждой из последующих N строк записано одно целое положительное число, не превышающее 10 000.\n",
        "\n",
        "В качестве результата программа должна напечатать одно число: количество пар, в которых произведение элементов кратно 26.\n",
        "\n",
        "Пример входных данных: 4 2 6 13 39\n",
        "\n",
        "Пример выходных данных: 4\n",
        "\n",
        "Из четырёх заданных чисел можно составить 6 попарных произведений:\n",
        "\n",
        "2·6 = 12 \n",
        "\n",
        "2·13 = 26 \n",
        "\n",
        "2·39 = 78 \n",
        "\n",
        "6·13 = 78\n",
        "\n",
        "6·39 = 234 \n",
        "\n",
        "13·39 = 507\n",
        "\n",
        "Из них на 26 делятся 4 произведения:\n",
        "\n",
        "2·13=26\n",
        "\n",
        "2·39=78\n",
        "\n",
        "6·13=78\n",
        "\n",
        "6·39=234\n",
        "\n",
        "Требуется написать эффективную по времени и по памяти программу для решения описанной задачи.\n",
        "\n",
        "(Программа считается эффективной по времени, если при увеличении количества исходных чисел N в k раз время работы программы увеличивается не более чем в k раз. Программа считается эффективной по памяти, если память, необходимая для хранения всех переменных программы, не превышает 1 Кбайт и не меняется с ростом N.)"
      ]
    },
    {
      "cell_type": "code",
      "execution_count": null,
      "metadata": {
        "id": "yS6ML3QlBOUS"
      },
      "outputs": [],
      "source": []
    }
  ],
  "metadata": {
    "colab": {
      "collapsed_sections": [
        "k7UdVbveBOT8",
        "F488iQxFBOT_",
        "1OD0XfIOBOUB",
        "oBIPcJ2-BOUE",
        "oJmSkHvUBOUG",
        "Nfjh2RCsBOUI",
        "oG0pAo_RBOUJ",
        "dp4zJKFmBOUP",
        "391xBWP6BOUR"
      ],
      "provenance": []
    },
    "kernelspec": {
      "display_name": "Python 3",
      "language": "python",
      "name": "python3"
    },
    "language_info": {
      "codemirror_mode": {
        "name": "ipython",
        "version": 3
      },
      "file_extension": ".py",
      "mimetype": "text/x-python",
      "name": "python",
      "nbconvert_exporter": "python",
      "pygments_lexer": "ipython3",
      "version": "3.11.2"
    },
    "vscode": {
      "interpreter": {
        "hash": "0d4abcbc6d19e2f7bf5913a55112817776e6985fc410731ba664caa1d713923a"
      }
    }
  },
  "nbformat": 4,
  "nbformat_minor": 0
}
