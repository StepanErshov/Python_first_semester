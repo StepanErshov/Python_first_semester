{
  "cells": [
    {
      "cell_type": "markdown",
      "metadata": {
        "id": "FNrvrxNoHrbl"
      },
      "source": [
        "# Лабораторная работа 3. Функции."
      ]
    },
    {
      "cell_type": "markdown",
      "metadata": {
        "id": "b5V9gCcLHrbn"
      },
      "source": [
        "Функции широко используются в программировании и являются одним из основных понятий, которые необходимо освоить. Функции в Python могут иметь ряд входных параметров и возвращать одно или несколько значений или ничего не возвращать. Цель использования функций состоит из двух частей:\n",
        "\n",
        "- группировать строки кода, которые естественным образом связаны друг с другом\n",
        "\n",
        "- параметризовать набор выражений таких, которые можно написать только один раз, а затем использовать с разными параметрами"
      ]
    },
    {
      "cell_type": "markdown",
      "metadata": {
        "id": "4P23g9eTHrbo"
      },
      "source": [
        "В языке программирования Python функции определяются с помощью оператора def. "
      ]
    },
    {
      "cell_type": "markdown",
      "metadata": {
        "id": "5HFgyJkJHrbp"
      },
      "source": [
        "Как и другие сложные инструкции вроде условного оператора и циклов функция состоит из заголовка и тела. Заголовок оканчивается двоеточием и переходом на новую строку. Тело имеет отступ. Ключевое слово def сообщает интерпретатору, что перед ним определение функции. За def следует имя функции. После имени функции ставятся скобки, в них указываются параметры. После двоеточия следует тело, содержащее инструкции, которые выполняются при вызове функции. \n",
        "\n",
        "Следует различать определение функции и ее вызов. В программном коде они не рядом и не вместе. Можно определить функцию, но ни разу ее не вызвать. Нельзя вызвать функцию, которая не была определена. Определив функцию, но ни разу не вызвав ее, вы никогда не выполните ее тела."
      ]
    },
    {
      "cell_type": "markdown",
      "metadata": {
        "id": "JbNG9ccxHrbp"
      },
      "source": [
        "Если функция содержит инструкции if-elif-else, каждый из блока может возвращать значение с помощью return:"
      ]
    },
    {
      "cell_type": "code",
      "execution_count": null,
      "metadata": {
        "id": "St8oUgt7Hrbp"
      },
      "outputs": [],
      "source": [
        "def check_sign(x):\n",
        "    if x > 0:\n",
        "        return print('это положительное число')\n",
        "    elif x < 0:\n",
        "        return print('это отрицательное число')\n",
        "    else:\n",
        "        return print('это число равно нулю')"
      ]
    },
    {
      "cell_type": "markdown",
      "metadata": {
        "id": "ACfTgRwjHrbq"
      },
      "source": [
        "В этой ситуации только один блок будет выполнен при вызове функции check_sign."
      ]
    },
    {
      "cell_type": "code",
      "execution_count": null,
      "metadata": {
        "colab": {
          "base_uri": "https://localhost:8080/"
        },
        "id": "TXKIMNrLHrbq",
        "outputId": "635e8f3a-af8c-4cd3-dd5b-b6553df51c15"
      },
      "outputs": [
        {
          "name": "stdout",
          "output_type": "stream",
          "text": [
            "это число равно нулю\n"
          ]
        }
      ],
      "source": [
        "check_sign(0)"
      ]
    },
    {
      "cell_type": "markdown",
      "metadata": {
        "id": "j1pHH9lEHrbr"
      },
      "source": [
        "# Пример 1."
      ]
    },
    {
      "cell_type": "markdown",
      "metadata": {
        "id": "9Z4OwyajHrbr"
      },
      "source": [
        "Функция может не иметь возвращаемого значения (в этом случае инструкция return опускается), а также возвращать более одного значения."
      ]
    },
    {
      "cell_type": "code",
      "execution_count": null,
      "metadata": {
        "id": "58ePPAa3Hrbs"
      },
      "outputs": [],
      "source": [
        "def xy(v0x, v0y, t):\n",
        "    g = 9.81\n",
        "    return v0x*t, v0y*t - 0.5*g*t**2"
      ]
    },
    {
      "cell_type": "markdown",
      "metadata": {
        "id": "uqSnIXfcHrbs"
      },
      "source": [
        "При этом возвращаемые значения разделяются запятой. При вызове функции аргументы должны следовать в том же порядке, как и в определении. Теперь мы можем напечатать результат следующим образом:"
      ]
    },
    {
      "cell_type": "code",
      "execution_count": null,
      "metadata": {
        "colab": {
          "base_uri": "https://localhost:8080/"
        },
        "id": "abtQQ9PkHrbs",
        "outputId": "0b1f19b3-3b9d-48db-ba4c-10d6f8f1eb25"
      },
      "outputs": [
        {
          "name": "stdout",
          "output_type": "stream",
          "text": [
            "(1.2, 1.2342)\n"
          ]
        }
      ],
      "source": [
        "initial_velocity_x = 2.0\n",
        "initial_velocity_y = 5.0\n",
        "\n",
        "time = 0.6\n",
        "\n",
        "print (xy(initial_velocity_x, initial_velocity_y, time))"
      ]
    },
    {
      "cell_type": "markdown",
      "metadata": {
        "id": "BdpHSoQsHrbs"
      },
      "source": [
        "Два возвращаемых значения могут быть присвоены двум переменным, например, так"
      ]
    },
    {
      "cell_type": "code",
      "execution_count": null,
      "metadata": {
        "colab": {
          "base_uri": "https://localhost:8080/"
        },
        "id": "VcrlzmEDHrbt",
        "outputId": "60777c49-d58e-4d52-b564-d8a301ba990c"
      },
      "outputs": [
        {
          "name": "stdout",
          "output_type": "stream",
          "text": [
            "1.2 1.2342\n"
          ]
        }
      ],
      "source": [
        "x, y = xy(initial_velocity_x, initial_velocity_y, time)\n",
        "\n",
        "print(x, y)"
      ]
    },
    {
      "cell_type": "markdown",
      "metadata": {
        "id": "ChPILQxAHrbt"
      },
      "source": [
        "Теперь переменные x и y могут использоваться в коде."
      ]
    },
    {
      "cell_type": "markdown",
      "metadata": {
        "id": "Gdez4BvoHrbt"
      },
      "source": [
        "Переменные, которые определены внутри функции (например, g в xy), являются локальными переменными. Это означает, что они видимы только внутри функции. Поэтому, если мы случайно попытаемся использовать переменную g вне функции, мы получим сообщение об ошибке. Переменная time определена вне функции и поэтому является глобальной переменной. Она видима как вне, так и внутри функции(ий). Если мы определим одну глобальную и одну локальную переменные с одним и тем же именем, то внутри функции будет видима только локальная переменная, при этом глобальная переменная не изменяется при изменении локальной переменной с тем же именем.\n",
        "\n",
        "Аргументы перечисленные в заголовке определения функции, как правило, являются локальными переменными. Если нужно изменить значение глобальной переменной внутри функции, следует определить переменную внутри функции как глобальную, т.е., если глобальная переменная имеет имя x, то нам нужно написать global x внутри определения функции, прежде чем изменять её значение. После выполнения функции, x будет иметь измененное значение. Следует стараться определять переменные там, где они необходимы.\n",
        "\n",
        "Еще один полезный способ управления параметрами в Python заключается в использовании именованных аргументов. Этот подход позволяет задавать аргументам значения по умолчанию и дает больше свободы в вызове функций, так как порядок и количество аргументов может варьироваться."
      ]
    },
    {
      "cell_type": "code",
      "execution_count": null,
      "metadata": {
        "id": "7mPmnzHyHrbt"
      },
      "outputs": [],
      "source": [
        "def xy(t, v0x = 0, v0y = 0):\n",
        "    g = 9.81\n",
        "    return v0x*t, v0y*t - 0.5*g*t**2"
      ]
    },
    {
      "cell_type": "markdown",
      "metadata": {
        "id": "jxP7mmu5Hrbu"
      },
      "source": [
        "Здесь t — обычный или позиционный аргумент, тогда как v0x и v0y — именованные аргументы. В общем случае, может быть несколько позиционных и несколько именованных аргументов, но позиционные аргументы всегда должны следовать перед именованными в определении функции. Именованные аргументы имеют значение по умолчанию, в нашем примере vx0 и v0y по умолчанию равны нулю. В сценарии функция xy_named может быть вызвана разными способами. Например"
      ]
    },
    {
      "cell_type": "code",
      "execution_count": null,
      "metadata": {
        "colab": {
          "base_uri": "https://localhost:8080/"
        },
        "id": "EtMFzSYxHrbu",
        "outputId": "7f653ec3-1b96-49de-db85-41aa5fada839"
      },
      "outputs": [
        {
          "name": "stdout",
          "output_type": "stream",
          "text": [
            "(0.0, -1.7658)\n"
          ]
        }
      ],
      "source": [
        "print (xy(0.6))"
      ]
    },
    {
      "cell_type": "markdown",
      "metadata": {
        "id": "kDc0MdkGHrbu"
      },
      "source": [
        "выполнит вычисления с t = 0.6 и значениями,заданными по умолчанию (в нашем случае 0) для v0x и v0y. Два возвращаемых функцией xy_named значения будут выведены на экран. Если мы хотим использовать другое значение для переменной v0y, мы можем, например, написать"
      ]
    },
    {
      "cell_type": "code",
      "execution_count": null,
      "metadata": {
        "colab": {
          "base_uri": "https://localhost:8080/"
        },
        "id": "L5FUFPpDHrbu",
        "outputId": "ea6118ce-4c52-410b-c96e-5527321d3d9c"
      },
      "outputs": [
        {
          "name": "stdout",
          "output_type": "stream",
          "text": [
            "(0.0, 0.6341999999999999)\n"
          ]
        }
      ],
      "source": [
        "print (xy(0.6, v0y = 4.0))"
      ]
    },
    {
      "cell_type": "markdown",
      "metadata": {
        "id": "bQa20n2MHrbv"
      },
      "source": [
        "Функция также может быть определена внутри другой функции. В этом случае она становится локальной или вложенной функцией, видимой только функцией, внутри которой она определена. Функции определенные в главном сценарии называются глобальными функциями. Вложенная функция имеет полный доступ ко всем переменным родительской функции, т.е. функции, внутри которой она определена.\n",
        "\n",
        "Короткие функции могут определяться компактно с помощью лямбда функций:"
      ]
    },
    {
      "cell_type": "code",
      "execution_count": null,
      "metadata": {
        "id": "wnbu8BZjHrbv"
      },
      "outputs": [],
      "source": [
        "f = lambda x, y: x + 2*y"
      ]
    },
    {
      "cell_type": "code",
      "execution_count": null,
      "metadata": {
        "colab": {
          "base_uri": "https://localhost:8080/"
        },
        "id": "Cujj0E6wHrbv",
        "outputId": "6d15c2cc-be68-407f-d271-5e2d7eed06ff"
      },
      "outputs": [
        {
          "data": {
            "text/plain": [
              "5"
            ]
          },
          "execution_count": 10,
          "metadata": {},
          "output_type": "execute_result"
        }
      ],
      "source": [
        "f(1,2)"
      ]
    },
    {
      "cell_type": "markdown",
      "metadata": {
        "id": "XN7YRdvCHrbw"
      },
      "source": [
        "эквивалентно"
      ]
    },
    {
      "cell_type": "code",
      "execution_count": null,
      "metadata": {
        "id": "T10fCs6fHrbx"
      },
      "outputs": [],
      "source": [
        "def f(x, y):\n",
        "    return x + 2*y"
      ]
    },
    {
      "cell_type": "markdown",
      "metadata": {
        "id": "GflnhMCDHrbx"
      },
      "source": [
        "Синтаксис состоит из ключевого слова lambda и следующих за ним набора аргументов, двоеточия и некоторого выражения, дающим в результате объект, возвращаемый функцией. Лямбда функции особенно удобно использовать в качестве аргументов функций:"
      ]
    },
    {
      "cell_type": "code",
      "execution_count": null,
      "metadata": {
        "colab": {
          "base_uri": "https://localhost:8080/"
        },
        "id": "kwzxVwuFHrbx",
        "outputId": "12fb2a14-b711-4ca5-ccde-6616012d60fb"
      },
      "outputs": [
        {
          "name": "stdout",
          "output_type": "stream",
          "text": [
            "6\n"
          ]
        }
      ],
      "source": [
        "def treat_xy(f, x, y):\n",
        "    return f(x,y)\n",
        "\n",
        "print (treat_xy(lambda x, y: x*y, 2, 3))"
      ]
    },
    {
      "cell_type": "markdown",
      "metadata": {
        "id": "YpUDGvBzHrby"
      },
      "source": [
        "Видно, что treat_xy принимает имя функции в качестве первого аргумента. Внутри treat_xy это имя используется для вызова соответствующей функции."
      ]
    },
    {
      "cell_type": "markdown",
      "metadata": {
        "id": "t5-mxknnHrby"
      },
      "source": [
        "# Издержки при вызове функций\n",
        "\n",
        "Вызов функций имеет недостаток, заключающийся в замедлении выполнения программы. Как правило, разбиение программы на функции считается хорошим тоном, но в частях, содержащий очень интенсивные вычисления, например, внутри длинных циклов, нужно находить баланс между удобством вызова функции и вычислительной эффективностью, избегающей вызовы функций. Можно предложить правило, когда разрабатывается программа, содержащая много функций, а затем на стадии оптимизации, когда все вычисления корректны, удалять вызовы функций, которые замедляют выполнение кода.\n",
        "\n",
        "Ниже приведен небольшой пример, где вычисляется процессорное время при выполнение вычислений с массивами при использовании и без использования вспомогательной функции"
      ]
    },
    {
      "cell_type": "code",
      "execution_count": null,
      "metadata": {
        "id": "W7fug7iFHrby"
      },
      "outputs": [],
      "source": [
        "import numpy as np\n",
        "\n",
        "n = 1000000\n",
        "a = np.zeros(n)\n",
        "\n",
        "def add(a, b):\n",
        "    return a+b"
      ]
    },
    {
      "cell_type": "code",
      "execution_count": null,
      "metadata": {
        "colab": {
          "base_uri": "https://localhost:8080/"
        },
        "id": "RaTcd97bHrby",
        "outputId": "da2cd9b4-e407-46a0-a25d-50a9744204d6"
      },
      "outputs": [
        {
          "name": "stdout",
          "output_type": "stream",
          "text": [
            "271 ms ± 6.22 ms per loop (mean ± std. dev. of 7 runs, 1 loop each)\n",
            "199 ms ± 11.2 ms per loop (mean ± std. dev. of 7 runs, 1 loop each)\n"
          ]
        }
      ],
      "source": [
        "%timeit for i in range (n): a[i] = add(i, i+1)\n",
        "    \n",
        "%timeit for i in range (n): a[i] = i + i+1"
      ]
    },
    {
      "cell_type": "markdown",
      "metadata": {
        "id": "Q9fA49JqHrby"
      },
      "source": [
        "# Пример 2. Разбор строки"
      ]
    },
    {
      "cell_type": "markdown",
      "metadata": {
        "id": "aEtqG1c5Hrbz"
      },
      "source": [
        "Рассмотрим программу, которая определяет тип каждого символа строки введённой пользователем"
      ]
    },
    {
      "cell_type": "code",
      "execution_count": null,
      "metadata": {
        "id": "RYalIL1UHrbz"
      },
      "outputs": [],
      "source": [
        "def STRparsing():\n",
        "    s=input('Введите что-нибудь: ')\n",
        "    n = len(s)\n",
        "    print('Вы ввели %i символа(-ов)' %(n))\n",
        "    \n",
        "    for i in range(n):\n",
        "        if '0' <= s[i] <= '9':\n",
        "            print ('%2s - это число' %(s[i]))\n",
        "        elif 'a' <= s[i] <= 'z':\n",
        "            print ('%2s - это маленькая буква латинского алфавита' %(s[i]))\n",
        "        else:\n",
        "            print ('%2s - это загадочный символ' %(s[i]))"
      ]
    },
    {
      "cell_type": "markdown",
      "metadata": {
        "id": "iuzbYJiiHrb0"
      },
      "source": [
        "Вызовем это программу:"
      ]
    },
    {
      "cell_type": "code",
      "execution_count": null,
      "metadata": {
        "colab": {
          "base_uri": "https://localhost:8080/"
        },
        "id": "6OmoACj_Hrb0",
        "outputId": "ec785d47-b0f3-485f-b0a5-3b605529ac56"
      },
      "outputs": [
        {
          "name": "stdout",
          "output_type": "stream",
          "text": [
            "Введите что-нибудь: 177\n",
            "Вы ввели 3 символа(-ов)\n",
            " 1 - это число\n",
            " 7 - это число\n",
            " 7 - это число\n"
          ]
        }
      ],
      "source": [
        "STRparsing()"
      ]
    },
    {
      "cell_type": "markdown",
      "metadata": {
        "id": "iPxxzY0qHrb1"
      },
      "source": [
        "# Упражнение 1. \n",
        "\n",
        "Научити программу распознавать ещё какие-нибудь символы (например, латинские заглавные или символы кирилици). Обратите внимание, что по умолчанию используется кодировка UTF-8 (Unicode Transformation Format, 8-bit — «формат преобразования Юникода, 8-бит»), допускающая задания 1 112 064 символа (https://unicode-table.com/ru/#cjk-unified-ideographs)."
      ]
    },
    {
      "cell_type": "code",
      "execution_count": null,
      "metadata": {
        "id": "B8F-sLr3Hrb1"
      },
      "outputs": [],
      "source": [
        "def STRparsing():\n",
        "    s=input('Введите что-нибудь: ')\n",
        "    n = len(s)\n",
        "    print('Вы ввели %i символа(-ов)' %(n))\n",
        "    \n",
        "    for i in range(n):\n",
        "        if '0' <= s[i] <= '9':\n",
        "            print ('%2s - это число' %(s[i]))\n",
        "        elif 'a' <= s[i] <= 'z':\n",
        "            print ('%2s - это маленькая буква латинского алфавита' %(s[i]))\n",
        "        else:\n",
        "            print ('%2s - это загадочный символ' %(s[i]))"
      ]
    },
    {
      "cell_type": "markdown",
      "metadata": {
        "id": "3mdp75fVHrb1"
      },
      "source": [
        "# Пример 3.\n",
        "\n",
        "Напишим программу определяющую результат логического вырожения, которое истинно тогда и только тогда, когда все три числа x, y и z больше 10.\n",
        "\n",
        "(Реализовать эту программу с помощью логических вырожений, без условного оператора.)"
      ]
    },
    {
      "cell_type": "code",
      "execution_count": null,
      "metadata": {
        "id": "2Uye9mgAHrb1"
      },
      "outputs": [],
      "source": [
        "def Logic1(x,y,z):\n",
        "    \n",
        "    logic = x > 10 and y > 10 and z > 10\n",
        "\n",
        "    return logic"
      ]
    },
    {
      "cell_type": "code",
      "execution_count": null,
      "metadata": {
        "colab": {
          "base_uri": "https://localhost:8080/"
        },
        "id": "EmqFOgxvHrb1",
        "outputId": "f92d4329-51d6-4537-94af-449523772d54"
      },
      "outputs": [
        {
          "name": "stdout",
          "output_type": "stream",
          "text": [
            "Результат этого логического выражения для заданных чисел: True <class 'bool'>\n"
          ]
        }
      ],
      "source": [
        "logic = Logic1(11,12,13)\n",
        "print('Результат этого логического выражения для заданных чисел: %s' %(logic), type(logic))"
      ]
    },
    {
      "cell_type": "markdown",
      "metadata": {
        "id": "mlDojhiLHrb2"
      },
      "source": [
        "# Упражнение 2. \n",
        "\n",
        "Напишим программу определяющую результат логического вырожения, которое истинно тогда и только тогда, когда:\n",
        "\n",
        "- хотя бы одно из трех чисел X, Y, Z больше 10;\n",
        "- ровно одно число из X, Y, Z больше 10.\n",
        "\n",
        "(Реализовать эту программу с помощью логических вырожений, без условного оператора.)"
      ]
    },
    {
      "cell_type": "code",
      "execution_count": null,
      "metadata": {
        "colab": {
          "base_uri": "https://localhost:8080/"
        },
        "id": "w-Q4uPR_Hrb2",
        "outputId": "2623eb1d-7890-4a69-c802-5433bc99b620"
      },
      "outputs": [
        {
          "name": "stdout",
          "output_type": "stream",
          "text": [
            "(True, True)\n"
          ]
        }
      ],
      "source": [
        "def Logic1(x,y,z):\n",
        "    \n",
        "    logic = (x > 10 or y > 10 or z > 10) # XOR\n",
        "    logic2 = (x > 10 and y <= 10 and z <= 10) or (x <= 10 and y > 10 and z <= 10) or (x <= 10 and y <= 10 and z > 10) \n",
        "    return logic, logic2\n",
        "print(Logic1(111, 0, 0))"
      ]
    },
    {
      "cell_type": "markdown",
      "metadata": {
        "id": "AtV6Sm0eHrb2"
      },
      "source": [
        "# Упражнение 3.\n",
        "\n",
        "Напишим программу определяющую результат логического вырожения, которое истинно тогда и только тогда, когда число x трехзначное и цифра 7 входит в его десятичную запись, и ложно в противном случае.\n",
        "\n",
        "(Реализовать эту программу с помощью логических вырожений, без условного оператора.)"
      ]
    },
    {
      "cell_type": "code",
      "execution_count": null,
      "metadata": {
        "colab": {
          "base_uri": "https://localhost:8080/"
        },
        "id": "7SHljYECHrb3",
        "outputId": "9d7ef852-8d1a-4d3b-8d34-ab2cc4091824"
      },
      "outputs": [
        {
          "name": "stdout",
          "output_type": "stream",
          "text": [
            "Введите число123\n",
            "False\n"
          ]
        }
      ],
      "source": [
        "def f(n):\n",
        "  n = str(n)\n",
        "  return len(n) == 3 and n.count('7') >= 1\n",
        "n = int(input('Введите число'))\n",
        "print(f(n))"
      ]
    },
    {
      "cell_type": "markdown",
      "metadata": {
        "id": "Z3uPkRDAHrb3"
      },
      "source": [
        "# Домашнее задание (базовое):"
      ]
    },
    {
      "cell_type": "markdown",
      "metadata": {
        "id": "JYNBsSgYHrb3"
      },
      "source": [
        "# Задание 1.\n",
        "\n",
        "Напишите программу определяющую результат логического вырожения, которое истинно тогда и только тогда, когда число x:\n",
        "\n",
        "- трехзначное и положительное, с 0 в конце;\n",
        "- нечетное, делится на 3 или на 5;\n",
        "- принадлежит отрезку числовой прямой [2, 6];\n",
        "- трехзначное и все его цифры одинаковые.\n",
        "\n",
        "(Реализовать эту программу с помощью логических вырожений, без условного оператора.)"
      ]
    },
    {
      "cell_type": "code",
      "execution_count": null,
      "metadata": {
        "id": "FH9UPTBCHrb3"
      },
      "outputs": [],
      "source": [
        "def f(x):\n",
        "  y = str(x)\n",
        "  z = bool(len(y)==3 and y[2]=='0' and x>0 )\n",
        "  return z\n",
        "def g(x):\n",
        "  x = str(x)\n",
        "  a = bool(int(x)%2==1 and (int(x)%3==0 or int(x)%5==0))\n",
        "  return a\n",
        "def h(x):\n",
        "  x = str(x)\n",
        "  b = bool(2<=int(x)<=6)\n",
        "  return b\n",
        "def p(x):\n",
        "  x = str(x)\n",
        "  c = bool(len(x) == 3 and x[0] == x[1] == x[2])\n",
        "  return c\n",
        "x = int(input('Введите число '))\n",
        "su = f(x) or g(x) or h(x) or p(x)\n",
        "print(su)\n",
        "  \n"
      ]
    },
    {
      "cell_type": "markdown",
      "metadata": {
        "id": "jhMjoDPMHrb3"
      },
      "source": [
        "# Задание 2.\n",
        "\n",
        "Напишите программу определяющую результат логического вырожения, в котором используются числа 3 и 5, переменная x и логические операции, при этом:\n",
        "\n",
        "- выражение, истинное при любом x;\n",
        "- выражение, ложное при любом x.\n",
        "\n",
        "(Реализовать эту программу с помощью логических вырожений, без условного оператора.)"
      ]
    },
    {
      "cell_type": "code",
      "execution_count": null,
      "metadata": {
        "id": "5ieUEJAhHrb3"
      },
      "outputs": [],
      "source": [
        "def f(x):\n",
        "  c = x >= 3 or x < 3\n",
        "  return c\n",
        "def g(x):\n",
        "  c = x >= 5 and x < 5 \n",
        "  return c\n",
        "print(f(9),g(9))"
      ]
    },
    {
      "cell_type": "markdown",
      "metadata": {
        "id": "rYz9LZvLHrb3"
      },
      "source": [
        "# Задание 3.\n",
        "\n",
        "Напишите программу определяющую результат логического вырожения, которое истинно тогда и только тогда, когда координаты (x,y) принадлежат заштрихаванной области.\n",
        "\n",
        "(Реализовать эту программу с помощью логических вырожений, без условного оператора.)"
      ]
    },
    {
      "cell_type": "code",
      "execution_count": null,
      "metadata": {
        "colab": {
          "base_uri": "https://localhost:8080/",
          "height": 865
        },
        "id": "1J590-G1Hrb4",
        "outputId": "a4ef23cf-7131-4d67-e7b0-0f283e47a725"
      },
      "outputs": [
        {
          "ename": "FileNotFoundError",
          "evalue": "ignored",
          "output_type": "error",
          "traceback": [
            "\u001b[0;31m---------------------------------------------------------------------------\u001b[0m",
            "\u001b[0;31mTypeError\u001b[0m                                 Traceback (most recent call last)",
            "\u001b[0;32m/usr/local/lib/python3.7/dist-packages/IPython/core/display.py\u001b[0m in \u001b[0;36m_data_and_metadata\u001b[0;34m(self, always_both)\u001b[0m\n\u001b[1;32m   1271\u001b[0m         \u001b[0;32mtry\u001b[0m\u001b[0;34m:\u001b[0m\u001b[0;34m\u001b[0m\u001b[0;34m\u001b[0m\u001b[0m\n\u001b[0;32m-> 1272\u001b[0;31m             \u001b[0mb64_data\u001b[0m \u001b[0;34m=\u001b[0m \u001b[0mb2a_base64\u001b[0m\u001b[0;34m(\u001b[0m\u001b[0mself\u001b[0m\u001b[0;34m.\u001b[0m\u001b[0mdata\u001b[0m\u001b[0;34m)\u001b[0m\u001b[0;34m.\u001b[0m\u001b[0mdecode\u001b[0m\u001b[0;34m(\u001b[0m\u001b[0;34m'ascii'\u001b[0m\u001b[0;34m)\u001b[0m\u001b[0;34m\u001b[0m\u001b[0;34m\u001b[0m\u001b[0m\n\u001b[0m\u001b[1;32m   1273\u001b[0m         \u001b[0;32mexcept\u001b[0m \u001b[0mTypeError\u001b[0m\u001b[0;34m:\u001b[0m\u001b[0;34m\u001b[0m\u001b[0;34m\u001b[0m\u001b[0m\n",
            "\u001b[0;31mTypeError\u001b[0m: a bytes-like object is required, not 'str'",
            "\nDuring handling of the above exception, another exception occurred:\n",
            "\u001b[0;31mFileNotFoundError\u001b[0m                         Traceback (most recent call last)",
            "\u001b[0;32m/usr/local/lib/python3.7/dist-packages/IPython/core/formatters.py\u001b[0m in \u001b[0;36m__call__\u001b[0;34m(self, obj, include, exclude)\u001b[0m\n\u001b[1;32m    968\u001b[0m \u001b[0;34m\u001b[0m\u001b[0m\n\u001b[1;32m    969\u001b[0m             \u001b[0;32mif\u001b[0m \u001b[0mmethod\u001b[0m \u001b[0;32mis\u001b[0m \u001b[0;32mnot\u001b[0m \u001b[0;32mNone\u001b[0m\u001b[0;34m:\u001b[0m\u001b[0;34m\u001b[0m\u001b[0;34m\u001b[0m\u001b[0m\n\u001b[0;32m--> 970\u001b[0;31m                 \u001b[0;32mreturn\u001b[0m \u001b[0mmethod\u001b[0m\u001b[0;34m(\u001b[0m\u001b[0minclude\u001b[0m\u001b[0;34m=\u001b[0m\u001b[0minclude\u001b[0m\u001b[0;34m,\u001b[0m \u001b[0mexclude\u001b[0m\u001b[0;34m=\u001b[0m\u001b[0mexclude\u001b[0m\u001b[0;34m)\u001b[0m\u001b[0;34m\u001b[0m\u001b[0;34m\u001b[0m\u001b[0m\n\u001b[0m\u001b[1;32m    971\u001b[0m             \u001b[0;32mreturn\u001b[0m \u001b[0;32mNone\u001b[0m\u001b[0;34m\u001b[0m\u001b[0;34m\u001b[0m\u001b[0m\n\u001b[1;32m    972\u001b[0m         \u001b[0;32melse\u001b[0m\u001b[0;34m:\u001b[0m\u001b[0;34m\u001b[0m\u001b[0;34m\u001b[0m\u001b[0m\n",
            "\u001b[0;32m/usr/local/lib/python3.7/dist-packages/IPython/core/display.py\u001b[0m in \u001b[0;36m_repr_mimebundle_\u001b[0;34m(self, include, exclude)\u001b[0m\n\u001b[1;32m   1260\u001b[0m         \u001b[0;32mif\u001b[0m \u001b[0mself\u001b[0m\u001b[0;34m.\u001b[0m\u001b[0membed\u001b[0m\u001b[0;34m:\u001b[0m\u001b[0;34m\u001b[0m\u001b[0;34m\u001b[0m\u001b[0m\n\u001b[1;32m   1261\u001b[0m             \u001b[0mmimetype\u001b[0m \u001b[0;34m=\u001b[0m \u001b[0mself\u001b[0m\u001b[0;34m.\u001b[0m\u001b[0m_mimetype\u001b[0m\u001b[0;34m\u001b[0m\u001b[0;34m\u001b[0m\u001b[0m\n\u001b[0;32m-> 1262\u001b[0;31m             \u001b[0mdata\u001b[0m\u001b[0;34m,\u001b[0m \u001b[0mmetadata\u001b[0m \u001b[0;34m=\u001b[0m \u001b[0mself\u001b[0m\u001b[0;34m.\u001b[0m\u001b[0m_data_and_metadata\u001b[0m\u001b[0;34m(\u001b[0m\u001b[0malways_both\u001b[0m\u001b[0;34m=\u001b[0m\u001b[0;32mTrue\u001b[0m\u001b[0;34m)\u001b[0m\u001b[0;34m\u001b[0m\u001b[0;34m\u001b[0m\u001b[0m\n\u001b[0m\u001b[1;32m   1263\u001b[0m             \u001b[0;32mif\u001b[0m \u001b[0mmetadata\u001b[0m\u001b[0;34m:\u001b[0m\u001b[0;34m\u001b[0m\u001b[0;34m\u001b[0m\u001b[0m\n\u001b[1;32m   1264\u001b[0m                 \u001b[0mmetadata\u001b[0m \u001b[0;34m=\u001b[0m \u001b[0;34m{\u001b[0m\u001b[0mmimetype\u001b[0m\u001b[0;34m:\u001b[0m \u001b[0mmetadata\u001b[0m\u001b[0;34m}\u001b[0m\u001b[0;34m\u001b[0m\u001b[0;34m\u001b[0m\u001b[0m\n",
            "\u001b[0;32m/usr/local/lib/python3.7/dist-packages/IPython/core/display.py\u001b[0m in \u001b[0;36m_data_and_metadata\u001b[0;34m(self, always_both)\u001b[0m\n\u001b[1;32m   1273\u001b[0m         \u001b[0;32mexcept\u001b[0m \u001b[0mTypeError\u001b[0m\u001b[0;34m:\u001b[0m\u001b[0;34m\u001b[0m\u001b[0;34m\u001b[0m\u001b[0m\n\u001b[1;32m   1274\u001b[0m             raise FileNotFoundError(\n\u001b[0;32m-> 1275\u001b[0;31m                 \"No such file or directory: '%s'\" % (self.data))\n\u001b[0m\u001b[1;32m   1276\u001b[0m         \u001b[0mmd\u001b[0m \u001b[0;34m=\u001b[0m \u001b[0;34m{\u001b[0m\u001b[0;34m}\u001b[0m\u001b[0;34m\u001b[0m\u001b[0;34m\u001b[0m\u001b[0m\n\u001b[1;32m   1277\u001b[0m         \u001b[0;32mif\u001b[0m \u001b[0mself\u001b[0m\u001b[0;34m.\u001b[0m\u001b[0mmetadata\u001b[0m\u001b[0;34m:\u001b[0m\u001b[0;34m\u001b[0m\u001b[0;34m\u001b[0m\u001b[0m\n",
            "\u001b[0;31mFileNotFoundError\u001b[0m: No such file or directory: 'fig.png'"
          ]
        },
        {
          "ename": "FileNotFoundError",
          "evalue": "ignored",
          "output_type": "error",
          "traceback": [
            "\u001b[0;31m---------------------------------------------------------------------------\u001b[0m",
            "\u001b[0;31mTypeError\u001b[0m                                 Traceback (most recent call last)",
            "\u001b[0;32m/usr/local/lib/python3.7/dist-packages/IPython/core/display.py\u001b[0m in \u001b[0;36m_data_and_metadata\u001b[0;34m(self, always_both)\u001b[0m\n\u001b[1;32m   1271\u001b[0m         \u001b[0;32mtry\u001b[0m\u001b[0;34m:\u001b[0m\u001b[0;34m\u001b[0m\u001b[0;34m\u001b[0m\u001b[0m\n\u001b[0;32m-> 1272\u001b[0;31m             \u001b[0mb64_data\u001b[0m \u001b[0;34m=\u001b[0m \u001b[0mb2a_base64\u001b[0m\u001b[0;34m(\u001b[0m\u001b[0mself\u001b[0m\u001b[0;34m.\u001b[0m\u001b[0mdata\u001b[0m\u001b[0;34m)\u001b[0m\u001b[0;34m.\u001b[0m\u001b[0mdecode\u001b[0m\u001b[0;34m(\u001b[0m\u001b[0;34m'ascii'\u001b[0m\u001b[0;34m)\u001b[0m\u001b[0;34m\u001b[0m\u001b[0;34m\u001b[0m\u001b[0m\n\u001b[0m\u001b[1;32m   1273\u001b[0m         \u001b[0;32mexcept\u001b[0m \u001b[0mTypeError\u001b[0m\u001b[0;34m:\u001b[0m\u001b[0;34m\u001b[0m\u001b[0;34m\u001b[0m\u001b[0m\n",
            "\u001b[0;31mTypeError\u001b[0m: a bytes-like object is required, not 'str'",
            "\nDuring handling of the above exception, another exception occurred:\n",
            "\u001b[0;31mFileNotFoundError\u001b[0m                         Traceback (most recent call last)",
            "\u001b[0;32m/usr/local/lib/python3.7/dist-packages/IPython/core/formatters.py\u001b[0m in \u001b[0;36m__call__\u001b[0;34m(self, obj)\u001b[0m\n\u001b[1;32m    343\u001b[0m             \u001b[0mmethod\u001b[0m \u001b[0;34m=\u001b[0m \u001b[0mget_real_method\u001b[0m\u001b[0;34m(\u001b[0m\u001b[0mobj\u001b[0m\u001b[0;34m,\u001b[0m \u001b[0mself\u001b[0m\u001b[0;34m.\u001b[0m\u001b[0mprint_method\u001b[0m\u001b[0;34m)\u001b[0m\u001b[0;34m\u001b[0m\u001b[0;34m\u001b[0m\u001b[0m\n\u001b[1;32m    344\u001b[0m             \u001b[0;32mif\u001b[0m \u001b[0mmethod\u001b[0m \u001b[0;32mis\u001b[0m \u001b[0;32mnot\u001b[0m \u001b[0;32mNone\u001b[0m\u001b[0;34m:\u001b[0m\u001b[0;34m\u001b[0m\u001b[0;34m\u001b[0m\u001b[0m\n\u001b[0;32m--> 345\u001b[0;31m                 \u001b[0;32mreturn\u001b[0m \u001b[0mmethod\u001b[0m\u001b[0;34m(\u001b[0m\u001b[0;34m)\u001b[0m\u001b[0;34m\u001b[0m\u001b[0;34m\u001b[0m\u001b[0m\n\u001b[0m\u001b[1;32m    346\u001b[0m             \u001b[0;32mreturn\u001b[0m \u001b[0;32mNone\u001b[0m\u001b[0;34m\u001b[0m\u001b[0;34m\u001b[0m\u001b[0m\n\u001b[1;32m    347\u001b[0m         \u001b[0;32melse\u001b[0m\u001b[0;34m:\u001b[0m\u001b[0;34m\u001b[0m\u001b[0;34m\u001b[0m\u001b[0m\n",
            "\u001b[0;32m/usr/local/lib/python3.7/dist-packages/IPython/core/display.py\u001b[0m in \u001b[0;36m_repr_png_\u001b[0;34m(self)\u001b[0m\n\u001b[1;32m   1290\u001b[0m     \u001b[0;32mdef\u001b[0m \u001b[0m_repr_png_\u001b[0m\u001b[0;34m(\u001b[0m\u001b[0mself\u001b[0m\u001b[0;34m)\u001b[0m\u001b[0;34m:\u001b[0m\u001b[0;34m\u001b[0m\u001b[0;34m\u001b[0m\u001b[0m\n\u001b[1;32m   1291\u001b[0m         \u001b[0;32mif\u001b[0m \u001b[0mself\u001b[0m\u001b[0;34m.\u001b[0m\u001b[0membed\u001b[0m \u001b[0;32mand\u001b[0m \u001b[0mself\u001b[0m\u001b[0;34m.\u001b[0m\u001b[0mformat\u001b[0m \u001b[0;34m==\u001b[0m \u001b[0mself\u001b[0m\u001b[0;34m.\u001b[0m\u001b[0m_FMT_PNG\u001b[0m\u001b[0;34m:\u001b[0m\u001b[0;34m\u001b[0m\u001b[0;34m\u001b[0m\u001b[0m\n\u001b[0;32m-> 1292\u001b[0;31m             \u001b[0;32mreturn\u001b[0m \u001b[0mself\u001b[0m\u001b[0;34m.\u001b[0m\u001b[0m_data_and_metadata\u001b[0m\u001b[0;34m(\u001b[0m\u001b[0;34m)\u001b[0m\u001b[0;34m\u001b[0m\u001b[0;34m\u001b[0m\u001b[0m\n\u001b[0m\u001b[1;32m   1293\u001b[0m \u001b[0;34m\u001b[0m\u001b[0m\n\u001b[1;32m   1294\u001b[0m     \u001b[0;32mdef\u001b[0m \u001b[0m_repr_jpeg_\u001b[0m\u001b[0;34m(\u001b[0m\u001b[0mself\u001b[0m\u001b[0;34m)\u001b[0m\u001b[0;34m:\u001b[0m\u001b[0;34m\u001b[0m\u001b[0;34m\u001b[0m\u001b[0m\n",
            "\u001b[0;32m/usr/local/lib/python3.7/dist-packages/IPython/core/display.py\u001b[0m in \u001b[0;36m_data_and_metadata\u001b[0;34m(self, always_both)\u001b[0m\n\u001b[1;32m   1273\u001b[0m         \u001b[0;32mexcept\u001b[0m \u001b[0mTypeError\u001b[0m\u001b[0;34m:\u001b[0m\u001b[0;34m\u001b[0m\u001b[0;34m\u001b[0m\u001b[0m\n\u001b[1;32m   1274\u001b[0m             raise FileNotFoundError(\n\u001b[0;32m-> 1275\u001b[0;31m                 \"No such file or directory: '%s'\" % (self.data))\n\u001b[0m\u001b[1;32m   1276\u001b[0m         \u001b[0mmd\u001b[0m \u001b[0;34m=\u001b[0m \u001b[0;34m{\u001b[0m\u001b[0;34m}\u001b[0m\u001b[0;34m\u001b[0m\u001b[0;34m\u001b[0m\u001b[0m\n\u001b[1;32m   1277\u001b[0m         \u001b[0;32mif\u001b[0m \u001b[0mself\u001b[0m\u001b[0;34m.\u001b[0m\u001b[0mmetadata\u001b[0m\u001b[0;34m:\u001b[0m\u001b[0;34m\u001b[0m\u001b[0;34m\u001b[0m\u001b[0m\n",
            "\u001b[0;31mFileNotFoundError\u001b[0m: No such file or directory: 'fig.png'"
          ]
        },
        {
          "data": {
            "text/plain": [
              "<IPython.core.display.Image object>"
            ]
          },
          "execution_count": 9,
          "metadata": {},
          "output_type": "execute_result"
        }
      ],
      "source": [
        "# Так можно добавлять картинки\n",
        "\n",
        "from IPython.display import Image           # вызов из библиотеки определённой функции\n",
        "Image(\"fig.png\")                            # вызов функции и передача ей в качестве аргумента пути к файлу \n",
        "\n",
        "# (в данном случае фаил находится в той же папке)"
      ]
    },
    {
      "cell_type": "code",
      "execution_count": null,
      "metadata": {
        "colab": {
          "base_uri": "https://localhost:8080/"
        },
        "id": "jPrC-7S7Hrb4",
        "outputId": "b8696993-52ef-4983-fad6-fc3b39ec1f52"
      },
      "outputs": [
        {
          "name": "stdout",
          "output_type": "stream",
          "text": [
            "False\n",
            "True\n",
            "False\n"
          ]
        }
      ],
      "source": [
        "#a\n",
        "def f(x,y):\n",
        "  return(x >= 4 and y >=3) or ((y <= -x) and  (y <= 3) and (x <=4))\n",
        "print(f(3,4))\n",
        "#б\n",
        "def f(x,y):\n",
        "  return ((x**2 + y**2) >= 9) and ((-3 <= x <= 3) and (-3 <= x <= 3))\n",
        "print(f(3,3))\n",
        "#с\n",
        "def f(x,y):\n",
        "  return (x**2 + y**2 >= 25) and ((0 <= x <= 5) and (0 <= y <= 5))\n",
        "print(f(0,6))"
      ]
    },
    {
      "cell_type": "markdown",
      "metadata": {
        "id": "NqbGeQuUHrb4"
      },
      "source": [
        "# Задание 4\n",
        "\n",
        "В программировании можно из одной функции вызывать другую. Для иллюстрации этой возможности напишите программу по следующему описанию.\n",
        "\n",
        "Основная ветка программы, не считая заголовков функций, состоит из одной строки кода. Это вызов функции test(). В ней запрашивается на ввод целое число. Если оно положительное, то вызывается функция positive(), тело которой содержит команду вывода на экран слова \"Положительное\". Если число отрицательное, то вызывается функция negative(), ее тело содержит выражение вывода на экран слова \"Отрицательное\"."
      ]
    },
    {
      "cell_type": "code",
      "execution_count": null,
      "metadata": {
        "colab": {
          "base_uri": "https://localhost:8080/"
        },
        "id": "Bjp1pcpCHrb4",
        "outputId": "499305e4-2e44-49b7-e478-c091c540055c"
      },
      "outputs": [
        {
          "name": "stdout",
          "output_type": "stream",
          "text": [
            "Введите число123\n",
            "положительное\n"
          ]
        }
      ],
      "source": [
        "def pol():\n",
        "  print('положительное')\n",
        "def otr():\n",
        "  print('отрицательное')\n",
        "def vod(x):\n",
        "  x = int(input('Введите число'))\n",
        "  if x >= 0:\n",
        "      return pol()\n",
        "  else:\n",
        "      return otr()\n",
        "vod(x)"
      ]
    },
    {
      "cell_type": "markdown",
      "metadata": {
        "id": "iSn9zdLtHrb5"
      },
      "source": [
        "# Задание 5\n",
        "\n",
        "Напишите программу, в которой определены следующие четыре функции:\n",
        "\n",
        "1. Функция getInput() не имеет параметров, запрашивает ввод с клавиатуры и возвращает в основную программу полученную строку.\n",
        "\n",
        "2. Функция testInput() имеет один параметр. В теле она проверяет, можно ли переданное ей значение преобразовать к целому числу. Если можно, возвращает логическое True. Если нельзя – False.\n",
        "\n",
        "3. Функция strToInt() имеет один параметр. В теле преобразовывает переданное значение к целочисленному типу. Возвращает полученное число.\n",
        "\n",
        "4. Функция printInt() имеет один параметр. Она выводит переданное значение на экран и ничего не возвращает.\n",
        "\n",
        "В основной ветке программы вызовите первую функцию. То, что она вернула, передайте во вторую функцию. Если вторая функция вернула True, то те же данные (из первой функции) передайте в третью функцию, а возвращенное третьей функцией значение – в четвертую."
      ]
    },
    {
      "cell_type": "code",
      "execution_count": 49,
      "metadata": {
        "colab": {
          "base_uri": "https://localhost:8080/",
          "height": 269
        },
        "id": "q5VNwFXkHrb5",
        "outputId": "963e53b6-7d28-4b52-ebcc-329cb18482a1"
      },
      "outputs": [
        {
          "name": "stdout",
          "output_type": "stream",
          "text": [
            "Введите строку 213\n",
            "213\n"
          ]
        },
        {
          "ename": "NameError",
          "evalue": "ignored",
          "output_type": "error",
          "traceback": [
            "\u001b[0;31m---------------------------------------------------------------------------\u001b[0m",
            "\u001b[0;31mNameError\u001b[0m                                 Traceback (most recent call last)",
            "\u001b[0;32m<ipython-input-49-14374e5ae673>\u001b[0m in \u001b[0;36m<module>\u001b[0;34m\u001b[0m\n\u001b[1;32m     32\u001b[0m \u001b[0;32melse\u001b[0m\u001b[0;34m:\u001b[0m\u001b[0;34m\u001b[0m\u001b[0;34m\u001b[0m\u001b[0m\n\u001b[1;32m     33\u001b[0m   \u001b[0mprint\u001b[0m\u001b[0;34m(\u001b[0m\u001b[0;34m'ERROR'\u001b[0m\u001b[0;34m)\u001b[0m\u001b[0;34m\u001b[0m\u001b[0;34m\u001b[0m\u001b[0m\n\u001b[0;32m---> 34\u001b[0;31m \u001b[0;32mdel\u001b[0m \u001b[0mx\u001b[0m\u001b[0;34m\u001b[0m\u001b[0;34m\u001b[0m\u001b[0m\n\u001b[0m\u001b[1;32m     35\u001b[0m \u001b[0;34m\u001b[0m\u001b[0m\n\u001b[1;32m     36\u001b[0m \u001b[0;34m\u001b[0m\u001b[0m\n",
            "\u001b[0;31mNameError\u001b[0m: name 'x' is not defined"
          ]
        }
      ],
      "source": [
        "def getInput():\n",
        "  x = input('Введите строку ')\n",
        "  return x\n",
        "def testInput(a):\n",
        "  s = []\n",
        "  if a[0] in '123456789':\n",
        "    for i in range(len(a)):\n",
        "      if a[i] in '0123456789':\n",
        "        s.append(a[i])\n",
        "  if len(a) == len(s):\n",
        "    return bool(1)\n",
        "  else:\n",
        "    return bool(0)\n",
        "def strTolnt(z):\n",
        "  s = []\n",
        "  if a[0] in '123456789':\n",
        "    for i in range(len(a)):\n",
        "      if a[i] in '0123456789':\n",
        "        s.append(a[i])\n",
        "  if len(a) == len(s):\n",
        "    return int(a)\n",
        "  else:\n",
        "    return 'Нельзя преобразовать в число'\n",
        "def printInt(n):\n",
        "  print(n)\n",
        "a = getInput()\n",
        "testInput(a)\n",
        "if testInput(a)==bool(1):\n",
        "  z = a \n",
        "  strTolnt(z)\n",
        "  printInt(strTolnt(z))\n",
        "else:\n",
        "  print('ERROR')\n",
        "\n",
        "\n",
        "\n",
        "\n",
        "\n",
        "      "
      ]
    },
    {
      "cell_type": "markdown",
      "metadata": {
        "id": "Pbb3gxbHHrb5"
      },
      "source": [
        "# Домашнее задание (дополнительное):"
      ]
    },
    {
      "cell_type": "markdown",
      "metadata": {
        "id": "W53nS2gRHrb5"
      },
      "source": [
        "# Задание «Игра в арифметику».\n",
        "\n",
        "Напишите программу, которая проверяет пользователя на знание таблицы умножения. Пользователь сам вводит два целых однозначных числа. Программа задаёт вопрос: результат умножения первого числа на второе.  Пользователь должен ввести ответ и увидеть на экране правильно он ответил или нет. Если нет  – показать еще и правильный результат. Повторять процедуру пока пользователь не даст 5 правильных ответов. После трёх правильных ответов подряд программа должна выводить поощрительное, ободряющее сообщение (на ваш вкус), после трёх неправильных ответов подряд – «грязно выругаться» (на ваш вкус)."
      ]
    },
    {
      "cell_type": "code",
      "execution_count": null,
      "metadata": {
        "id": "9Iy11FztHrb5"
      },
      "outputs": [],
      "source": [
        "def f(x,y):\n",
        "  return x*y\n",
        "i = 0\n",
        "j = 0\n",
        "while i!= 5:\n",
        "  print('Введите два числа')\n",
        "  x=int(input('первое число:'))\n",
        "  y=int(input('второе число:'))\n",
        "  z=int(input('напишите результат умножения числа на число '))\n",
        "  if z != f(x,y):\n",
        "    j += 1\n",
        "    if j == 3:\n",
        "      print('вот ты тупой ')\n",
        "  else:\n",
        "    i += 1\n",
        "    if i == 3:\n",
        "      print('+респект +уважуха ')"
      ]
    },
    {
      "cell_type": "markdown",
      "metadata": {
        "id": "8tWIC0K6Hrb5"
      },
      "source": [
        "# Задание «Лишние буквы».\n",
        "\n",
        "Напишите функцию, которая удаляет из введённой пользователем строки все повторяющиеся символы и пробелы. После чего выводит полученный результат на экран. Например, если было введено \"abc cde def\", то должно быть выведено \"abcdef\"."
      ]
    },
    {
      "cell_type": "code",
      "execution_count": 51,
      "metadata": {
        "colab": {
          "base_uri": "https://localhost:8080/"
        },
        "id": "5UCyGx4mHrb6",
        "outputId": "bb48295c-c378-472d-b779-fa15379e60b4"
      },
      "outputs": [
        {
          "name": "stdout",
          "output_type": "stream",
          "text": [
            "1.2342\n"
          ]
        }
      ],
      "source": [
        "def f(x):\n",
        "  x = int(input('Введите строку'))\n",
        "  y = ' '\n",
        "  for i in range(len(x)):\n",
        "    if y.find(x[i]) == -1 and x[i] != ' ':\n",
        "        y += x[i]\n",
        "print(y)\n",
        "\n",
        "\n",
        "\n"
      ]
    }
  ],
  "metadata": {
    "colab": {
      "collapsed_sections": [
        "Z3uPkRDAHrb3",
        "Pbb3gxbHHrb5"
      ],
      "provenance": []
    },
    "kernelspec": {
      "display_name": "Python 3",
      "language": "python",
      "name": "python3"
    },
    "language_info": {
      "codemirror_mode": {
        "name": "ipython",
        "version": 3
      },
      "file_extension": ".py",
      "mimetype": "text/x-python",
      "name": "python",
      "nbconvert_exporter": "python",
      "pygments_lexer": "ipython3",
      "version": "3.7.9"
    }
  },
  "nbformat": 4,
  "nbformat_minor": 0
}
