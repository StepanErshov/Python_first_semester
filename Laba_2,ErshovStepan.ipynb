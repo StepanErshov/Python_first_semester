{
  "cells": [
    {
      "cell_type": "markdown",
      "metadata": {
        "id": "1Du0PaZYfw3o"
      },
      "source": [
        "# Лабораторная работа 2. Циклы и списки."
      ]
    },
    {
      "cell_type": "markdown",
      "metadata": {
        "id": "gr01AzpPfw3q"
      },
      "source": [
        "# Справочная информация:"
      ]
    },
    {
      "cell_type": "markdown",
      "metadata": {
        "id": "VQtdFpeHfw3r"
      },
      "source": [
        "# 1. Типы данных"
      ]
    },
    {
      "cell_type": "markdown",
      "metadata": {
        "id": "M7Oc1dR5fw3r"
      },
      "source": [
        "Основными типами данных в любом языке программирования являются:\n",
        "\n",
        "целые числа, вещественные числа, строки (символы), логические переменные (True (истина) или False (ложь)).\n",
        "\n",
        "Они могут быть записаны следующим образом"
      ]
    },
    {
      "cell_type": "code",
      "execution_count": null,
      "metadata": {
        "id": "3inFYdQ-fw3s",
        "outputId": "0bd229c1-9e80-4655-edc5-6ac8bc19dd58"
      },
      "outputs": [
        {
          "name": "stdout",
          "output_type": "stream",
          "text": [
            "1 1.0 1 True False\n"
          ]
        }
      ],
      "source": [
        "print(1, 1.0, '1', 1<2, 2<1)"
      ]
    },
    {
      "cell_type": "markdown",
      "metadata": {
        "id": "MFl-b-9Sfw3u"
      },
      "source": [
        "Функцией type возвращает тип аргумента: "
      ]
    },
    {
      "cell_type": "code",
      "execution_count": null,
      "metadata": {
        "id": "M5vxHh5Dfw3v",
        "outputId": "533a100b-8898-478d-cc1b-d01ea1a942d5"
      },
      "outputs": [
        {
          "data": {
            "text/plain": [
              "(int, float, str, bool, bool)"
            ]
          },
          "execution_count": 5,
          "metadata": {},
          "output_type": "execute_result"
        }
      ],
      "source": [
        "(type(1), type(1.0), type('1'), type(1<2), type(2<1))"
      ]
    },
    {
      "cell_type": "markdown",
      "metadata": {
        "id": "8ME3AIynfw3v"
      },
      "source": [
        "# 1.2 Операции с числами: $A+B$, $A-B$, $A*B$, $A/B$, $A^B$"
      ]
    },
    {
      "cell_type": "code",
      "execution_count": null,
      "metadata": {
        "id": "Dq1sdZtMfw3v",
        "outputId": "b9528aba-2463-4328-cd45-acb6b4e72bc0"
      },
      "outputs": [
        {
          "name": "stdout",
          "output_type": "stream",
          "text": [
            " A + B =  3\n",
            " A - B =  -1\n",
            " A * B =  2\n",
            " A / B =  0.5\n",
            " A ^ B =  1\n"
          ]
        }
      ],
      "source": [
        "# комментарий: с целыми числами\n",
        "A=1 \n",
        "B=2\n",
        "print (' A + B = ',A+B) # сумма\n",
        "print (' A - B = ',A-B) # разность;\n",
        "print (' A * B = ',A*B) # произведение;\n",
        "print (' A / B = ',A/B) # частное;\n",
        "print (' A ^ B = ',A**B) # возведение в степень."
      ]
    },
    {
      "cell_type": "code",
      "execution_count": null,
      "metadata": {
        "id": "vwZFImHbfw3w",
        "outputId": "84af43f9-531b-4e64-fa0f-1fd7ddce0e80"
      },
      "outputs": [
        {
          "name": "stdout",
          "output_type": "stream",
          "text": [
            " A + B  =  3.0\n",
            " A - B  =  -1.0\n",
            " A * B  =  2.0\n",
            " A / B  =  0.5\n",
            " A % B  =  1.0\n",
            " A // B =  0.0\n",
            " A ^ B  =  1.0\n"
          ]
        }
      ],
      "source": [
        "# комментарий: с вещественными числами\n",
        "A=1.0 \n",
        "B=2.0\n",
        "print (' A + B  = ',A+B)  # сумма\n",
        "print (' A - B  = ',A-B)  # разность;\n",
        "print (' A * B  = ',A*B)  # произведение;\n",
        "print (' A / B  = ',A/B)  # частное;\n",
        "print (' A % B  = ',A%B)  #  остаток от деления;\n",
        "print (' A // B = ',A//B) # деление без остатка;\n",
        "print (' A ^ B  = ',A**B) # возведение в степень."
      ]
    },
    {
      "cell_type": "code",
      "execution_count": null,
      "metadata": {
        "id": "FsdRA-cDfw3w",
        "outputId": "cc68c911-692e-4640-ffff-47b488405186"
      },
      "outputs": [
        {
          "name": "stdout",
          "output_type": "stream",
          "text": [
            " A / B =  0.5 возвращаемый тип -  <class 'float'>\n",
            " A / B =  0 возвращаемый тип -  <class 'int'>\n"
          ]
        }
      ],
      "source": [
        "# комментарий: ещё о целых числах, без автоматического переопределения типа было бы так\n",
        "A=1\n",
        "B=2\n",
        "print (' A / B = ',A/B, 'возвращаемый тип - ', type(A/B)) # автоматическое переопределение;\n",
        "print (' A / B = ',(int)(A/B), 'возвращаемый тип - ', type((int)(A/B))) # без автоматического переопределения;"
      ]
    },
    {
      "cell_type": "markdown",
      "metadata": {
        "id": "r3qhhLoqfw3x"
      },
      "source": [
        "# 1.2 Операции над строками"
      ]
    },
    {
      "cell_type": "code",
      "execution_count": null,
      "metadata": {
        "id": "F1frhJhTfw3x",
        "outputId": "e30187a7-49a8-41a2-b722-86b67ffc0a94"
      },
      "outputs": [
        {
          "name": "stdout",
          "output_type": "stream",
          "text": [
            " Ast + Bst =   я люблю и информатику \n",
            "(Ast + Bst) * n =   я люблю  информатику  я люблю  информатику  я люблю  информатику \n"
          ]
        }
      ],
      "source": [
        "Ast=' я люблю ' \n",
        "Bst=' информатику '\n",
        "n=3\n",
        "print (' Ast + Bst = ',Ast+'и'+Bst)  # конкатенация \n",
        "print ('(Ast + Bst) * n = ',(Ast+Bst)*n)  # повторение n раз"
      ]
    },
    {
      "cell_type": "markdown",
      "metadata": {
        "id": "AutZyiQgfw3y"
      },
      "source": [
        "# 1.3 Логические операции"
      ]
    },
    {
      "cell_type": "code",
      "execution_count": null,
      "metadata": {
        "id": "HCU6a8Lffw3y",
        "outputId": "854f646e-46f5-4c62-b117-5864b1189a3e"
      },
      "outputs": [
        {
          "name": "stdout",
          "output_type": "stream",
          "text": [
            " A >  B  ?  False\n",
            " A <  B  ?  True\n",
            " A >= B  ?  False\n",
            " A <= B  ?  True\n",
            " A == B  ?  False\n",
            " A != B ?  True\n",
            " A < B < A+B ?  True\n",
            " A < B и B < A+B  ?  True\n",
            " A < B или A > B  ?  True\n",
            "\n",
            " True False False True\n",
            "\n",
            " True \t False\n"
          ]
        }
      ],
      "source": [
        "A=1.0 \n",
        "B=2.0\n",
        "print (' A >  B  ? ',A>B)   # больше\n",
        "print (' A <  B  ? ',A<B)   # меньша\n",
        "print (' A >= B  ? ',A>=B)  # больше или равно\n",
        "print (' A <= B  ? ',A<=B)  # меньше или равно\n",
        "print (' A == B  ? ',A==B)  # равно\n",
        "print (' A != B ? ',A!=B)   # не равно\n",
        "print (' A < B < A+B ? ',A<B<A+B) # из интервала\n",
        "print (' A < B и B < A+B  ? ',A<B and B<A+B) # и (*)\n",
        "print (' A < B или A > B  ? ',A<B or A>B) # или (+)\n",
        "\n",
        "print ('\\n',A<B , A>B, A<B * A>B, A<B + A>B)  # \\n - знак перехода на строку\n",
        "\n",
        "print ('\\n',bool(1), '\\t', bool(0))  # \\t - знак табуляции"
      ]
    },
    {
      "cell_type": "markdown",
      "metadata": {
        "id": "6sHwIxUUfw3y"
      },
      "source": [
        "# 2 Основные инструкции"
      ]
    },
    {
      "cell_type": "markdown",
      "metadata": {
        "id": "VBKvYtXufw3z"
      },
      "source": [
        "# 2.1 Операции ввода/вывода"
      ]
    },
    {
      "cell_type": "markdown",
      "metadata": {
        "collapsed": true,
        "id": "wnWohg6dfw3z"
      },
      "source": [
        "Форматный вывод (это красиво): %ШиринаПоля.ТочностьТип\n",
        "\n",
        "% - указатель на вставку, тип: i - int, f - float, s - str, e - \"научное\" представление, g - \"компактное\" представление десятичного числа\n",
        "\n",
        "По умолчанию производится выравнивание по правому краю, для выравневания по левому нужно писать %- вместо %.\n",
        "\n",
        "(Кроме того, существует метод str.format() для форматного вывода строк.)"
      ]
    },
    {
      "cell_type": "code",
      "execution_count": null,
      "metadata": {
        "id": "yxsQwO2bfw3z",
        "outputId": "cd777ee3-1439-45ec-d7e1-dcfc5e71b053"
      },
      "outputs": [
        {
          "name": "stdout",
          "output_type": "stream",
          "text": [
            " A / B = 0.5000, возвращаемый тип - <class 'float'> \n",
            " A / B = 0     , возвращаемый тип - <class 'int'> \n"
          ]
        }
      ],
      "source": [
        "A=1 \n",
        "B=2\n",
        "print(\" A / B = %6.4f, возвращаемый тип - %s \" % (A/B, type(A/B)))\n",
        "print(\" A / B = %-6i, возвращаемый тип - %s \" % ((int)(A/B), type((int)(A/B))))"
      ]
    },
    {
      "cell_type": "markdown",
      "metadata": {
        "id": "3JlplGhafw30"
      },
      "source": [
        "В интерактивной сессии (или в программе, запущенной с командной строки) можно попросить пользователя что-нибудь ввести. Аргумент функции input - это приглашение для ввода (prompt). Можно использовать просто input(), тогда приглашения не будет. Но это неудобно, т.к. в этом случае трудно заметить, что программа чего-то ждёт."
      ]
    },
    {
      "cell_type": "code",
      "execution_count": null,
      "metadata": {
        "id": "vTrdk2Ozfw31",
        "outputId": "5b14d260-62f8-4448-9191-7512b0fbe92a"
      },
      "outputs": [
        {
          "name": "stdout",
          "output_type": "stream",
          "text": [
            "Введите число 1\n",
            "s =  1 <class 'str'>\n",
            "sf =  1.0 <class 'float'>\n"
          ]
        }
      ],
      "source": [
        "s=input('Введите число ')\n",
        "print('s = ', s, type(s))\n",
        "sf=float(s)\n",
        "print('sf = ', sf, type(sf))"
      ]
    },
    {
      "cell_type": "markdown",
      "metadata": {
        "id": "-pskCNE8fw31"
      },
      "source": [
        "Питон - интерпретатор, поэтому он может во время выполнения программы интерпретировать строки как куски исходного текста на языке питон. Так, функция eval интерпретирует строку как выражение и вычисляет его (в текущем контексте - подставляя текущие значения переменных)."
      ]
    },
    {
      "cell_type": "code",
      "execution_count": null,
      "metadata": {
        "id": "ob060udEfw32",
        "outputId": "de4d54f2-3fe6-4ee2-882b-bdea7affdc56"
      },
      "outputs": [
        {
          "name": "stdout",
          "output_type": "stream",
          "text": [
            "Введите операцию с переменной sf1+sf\n",
            "s =  1+sf <class 'str'>\n",
            "1+sf =  2.0\n"
          ]
        }
      ],
      "source": [
        "s=input('Введите операцию с переменной sf')\n",
        "print('s = ', s, type(s))\n",
        "print(s + ' = ', eval(s))"
      ]
    },
    {
      "cell_type": "markdown",
      "metadata": {
        "id": "kSo796sHfw32"
      },
      "source": [
        "А функция exec интерпретирует строку как оператор и выполняет его. Оператор может менять значения переменных в текущем пространстве имён."
      ]
    },
    {
      "cell_type": "code",
      "execution_count": null,
      "metadata": {
        "id": "sja-oUcufw32",
        "outputId": "a0cad186-c591-4ca8-9f82-c65f6df6418d"
      },
      "outputs": [
        {
          "name": "stdout",
          "output_type": "stream",
          "text": [
            "Введите выражение с переменной sf x = sf**2+sf\n"
          ]
        }
      ],
      "source": [
        "s=input('Введите выражение с переменной sf ')"
      ]
    },
    {
      "cell_type": "code",
      "execution_count": null,
      "metadata": {
        "id": "8jcgjtbRfw33",
        "outputId": "1a5c9acc-65ab-4268-9524-7f7686412763"
      },
      "outputs": [
        {
          "data": {
            "text/plain": [
              "'x = sf**2+sf'"
            ]
          },
          "execution_count": 8,
          "metadata": {},
          "output_type": "execute_result"
        }
      ],
      "source": [
        "s"
      ]
    },
    {
      "cell_type": "code",
      "execution_count": null,
      "metadata": {
        "id": "eVQnPujpfw33",
        "outputId": "57a947d9-c0d1-4e1e-8a66-1afb12aaecb7"
      },
      "outputs": [
        {
          "name": "stdout",
          "output_type": "stream",
          "text": [
            "2.0\n"
          ]
        }
      ],
      "source": [
        "exec(s)\n",
        "print(x)"
      ]
    },
    {
      "cell_type": "markdown",
      "metadata": {
        "id": "-THGgp_4fw33"
      },
      "source": [
        "# 2.2 Ветвление (или условная инструкция)"
      ]
    },
    {
      "cell_type": "raw",
      "metadata": {
        "id": "lzrIlG6Ffw33"
      },
      "source": [
        "Синтаксис:\n",
        "\n",
        "if Условие1:\n",
        "    Блок_инструкций_1 (выполняется если условие1 выполнено)\n",
        "elif Условие2:\n",
        "    Блок_инструкций_2 (выполняется если условие2 выполнено)    \n",
        "else:\n",
        "    Блок_инструкций_3 (выполняется если условия не выполнены)\n",
        "   \n",
        "или болеее компатно:   \n",
        "   \n",
        "A = инструкция1(выполняется когда верно условие) if условие else инструкция2"
      ]
    },
    {
      "cell_type": "code",
      "execution_count": null,
      "metadata": {
        "id": "_fpRXpGifw34",
        "outputId": "a7249cb0-523b-4b2f-b113-9dfd55d65b22"
      },
      "outputs": [
        {
          "name": "stdout",
          "output_type": "stream",
          "text": [
            "Введите целое число a: 1\n",
            "Введите целое число b: 2\n",
            "a - наименьшее из двух чисел\n"
          ]
        }
      ],
      "source": [
        "# Пример\n",
        "\n",
        "a = input('Введите целое число a: ') \n",
        "b = input('Введите целое число b: ') \n",
        "\n",
        "if a < b: \n",
        "    print ('a - наименьшее из двух чисел') \n",
        "elif a == b: \n",
        "    print ('a и b равны')\n",
        "else: \n",
        "    print ('b - наименьшее из двух чисел') "
      ]
    },
    {
      "cell_type": "code",
      "execution_count": null,
      "metadata": {
        "id": "t_illk4Cfw34",
        "outputId": "794d947c-744d-4981-e383-bff297804d4c"
      },
      "outputs": [
        {
          "name": "stdout",
          "output_type": "stream",
          "text": [
            "a - наименьшее из двух чисел\n"
          ]
        }
      ],
      "source": [
        "a = input('Введите целое число a: ') \n",
        "b = input('Введите целое число b: ') \n",
        "\n",
        "print ('a - наименьшее из двух чисел') if a<b else (print ('b - наименьшее из двух чисел') if a>b else print ('a и b равны'))"
      ]
    },
    {
      "cell_type": "markdown",
      "metadata": {
        "id": "exCY0H8afw34"
      },
      "source": [
        "# 2.3 Цикл"
      ]
    },
    {
      "cell_type": "raw",
      "metadata": {
        "collapsed": true,
        "id": "7Sv91Ofgfw35"
      },
      "source": [
        "Цикл while («пока») позволяет выполнить одну и ту же последовательность действий, пока проверяемое условие истинно. Условие записывается до тела цикла и проверяется до выполнения тела цикла. Как правило, цикл while используется, когда невозможно определить точное значение количества проходов исполнения цикла.\n",
        "\n",
        "Синтаксис цикла while:\n",
        "\n",
        "while Условие:\n",
        "    Блок_инструкций"
      ]
    },
    {
      "cell_type": "raw",
      "metadata": {
        "id": "N-nSmYoXfw35"
      },
      "source": [
        "АлдабаеваЦикл for\n",
        "\n",
        "Синтаксис:\n",
        "\n",
        "for i in range(10):      #   for i in range(от, до, шаг):        \n",
        "    Блок_инструкций\n",
        "    \n",
        "эквивалентно:\n",
        "\n",
        "i = 0\n",
        "while i < 10:\n",
        "    Блок_инструкций\n",
        "    i += 1"
      ]
    },
    {
      "cell_type": "markdown",
      "metadata": {
        "id": "n2MaVe5Ifw35"
      },
      "source": [
        "# 2.4 Обработка ошибок"
      ]
    },
    {
      "cell_type": "raw",
      "metadata": {
        "id": "22mEK8krfw35"
      },
      "source": [
        "try:\n",
        "    Блок_инструкций_1\n",
        "except:\n",
        "    Блок_инструкций_2 (выполняется в случае ошибки в Блок_инструкций_1)"
      ]
    },
    {
      "cell_type": "markdown",
      "metadata": {
        "id": "Raz2u5U8fw36"
      },
      "source": [
        "# 3 Функции"
      ]
    },
    {
      "cell_type": "markdown",
      "metadata": {
        "collapsed": true,
        "id": "mFXXGLFEfw36"
      },
      "source": [
        "Простейшая в мире функция: не имеет параметров, ничего не делает и ничего не возвращает. Оператор pass означает \"ничего не делай\"; он используется там, где синтаксически необходим оператор, а делать ничено не нужно (после if или elif, после def и т.д.)."
      ]
    },
    {
      "cell_type": "code",
      "execution_count": null,
      "metadata": {
        "id": "_fBiW_1yfw36"
      },
      "outputs": [],
      "source": [
        "def fun0():\n",
        "    pass"
      ]
    },
    {
      "cell_type": "code",
      "execution_count": null,
      "metadata": {
        "id": "WFlYkHylfw36"
      },
      "outputs": [],
      "source": [
        "fun0()"
      ]
    },
    {
      "cell_type": "markdown",
      "metadata": {
        "id": "cSU22mNNfw37"
      },
      "source": [
        "# Пример 1. \"Сравнение двух чисел\""
      ]
    },
    {
      "cell_type": "markdown",
      "metadata": {
        "id": "iuQ5a7xefw37"
      },
      "source": [
        "Рассмотрим программу которая умеет сравнивать два числа.\n",
        "Логика её работы приведена ниже."
      ]
    },
    {
      "cell_type": "code",
      "execution_count": null,
      "metadata": {
        "id": "-4_DcUabfw37",
        "outputId": "f2c731d0-1620-41d4-c535-467e478b50d6"
      },
      "outputs": [
        {
          "data": {
            "image/png": "[encoded data removed]",
            "text/plain": [
              "<IPython.core.display.Image object>"
            ]
          },
          "execution_count": 6,
          "metadata": {},
          "output_type": "execute_result"
        }
      ],
      "source": [
        "# Так можно добавлять картинки\n",
        "\n",
        "from IPython.display import Image              # вызов из библиотеки определённой функции\n",
        "Image(\"Схема сравнения чисел.png\")             # вызов функции и передача ей в качестве аргумента пути к файлу \n",
        "\n",
        "# (в данном случае фаил находится в той же папке)"
      ]
    },
    {
      "cell_type": "code",
      "execution_count": null,
      "metadata": {
        "id": "cMMRaApSfw37",
        "outputId": "514b9326-cef3-488b-93a1-97cadde6ac34"
      },
      "outputs": [
        {
          "name": "stdout",
          "output_type": "stream",
          "text": [
            "Введите целое число a: 20\n",
            "Введите целое число b: 4\n",
            "a - наименьшее из двух чисел\n"
          ]
        }
      ],
      "source": [
        "a = input('Введите целое число a: ')\n",
        "b = input('Введите целое число b: ')\n",
        "\n",
        "if a < b: \n",
        "    print ('a - наименьшее из двух чисел') \n",
        "elif a == b: \n",
        "    print ('a и b равны')\n",
        "else:\n",
        "    print ('b - наименьшее из двух чисел') "
      ]
    },
    {
      "cell_type": "markdown",
      "metadata": {
        "id": "GctVDaECfw38"
      },
      "source": [
        "# Упражнение 1. На сколько?"
      ]
    },
    {
      "cell_type": "markdown",
      "metadata": {
        "id": "6xLVKH_Qfw38"
      },
      "source": [
        "Добавьте в текст предыдущей программы вычисление разницы между этими числами и выводите эту информацию в сообщении с результатом."
      ]
    },
    {
      "cell_type": "code",
      "execution_count": null,
      "metadata": {
        "colab": {
          "base_uri": "https://localhost:8080/"
        },
        "id": "QB3ef5TIfw38",
        "outputId": "3479e660-a997-4837-8e1e-b62eebe03e77"
      },
      "outputs": [
        {
          "name": "stdout",
          "output_type": "stream",
          "text": [
            "Введите целое число a: 4\n",
            "Введите целое число b: 23\n",
            "a - наименьшее из двух чисел\n",
            "Разница между ними = 19\n"
          ]
        }
      ],
      "source": [
        "a = int(input('Введите целое число a: '))\n",
        "b = int(input('Введите целое число b: '))\n",
        "\n",
        "if a < b: \n",
        "    print ('a - наименьшее из двух чисел')\n",
        "    print('Разница между ними =', abs(a-b)) \n",
        "elif a == b: \n",
        "    print ('a и b равны')\n",
        "    print('Разница между ними =', abs(a-b)) \n",
        "else:\n",
        "    print ('b - наименьшее из двух чисел')\n",
        "    print('Разница между ними =', abs(b-a)) "
      ]
    },
    {
      "cell_type": "markdown",
      "metadata": {
        "id": "0Z3LrV4Wfw38"
      },
      "source": [
        "# Упражнение 2. \"Сравнение трёх чисел\""
      ]
    },
    {
      "cell_type": "markdown",
      "metadata": {
        "id": "725IXEzvfw39"
      },
      "source": [
        "Добавьте к сравнению третье число и выведите результат с информацией о величине максимального и минимального числа. \n",
        "\n",
        "Какое наименьшее число операторов сравнения (>, <, >=, <=) необходимо для решения этой задачи?"
      ]
    },
    {
      "cell_type": "code",
      "execution_count": null,
      "metadata": {
        "colab": {
          "base_uri": "https://localhost:8080/"
        },
        "id": "ktfizIAtfw39",
        "outputId": "23bb2ae6-b381-4ad5-e2d5-7a618e8fdadf"
      },
      "outputs": [
        {
          "name": "stdout",
          "output_type": "stream",
          "text": [
            "Введите 3 числа:\n",
            "12\n",
            "3\n",
            "4\n",
            "Разница max и min = 9\n"
          ]
        }
      ],
      "source": [
        "print('Введите 3 числа:')\n",
        "x = int(input())\n",
        "y = int(input())\n",
        "z = int(input())\n",
        "if x > y:\n",
        "  max = x\n",
        "  min = y\n",
        "else:\n",
        "  min = x\n",
        "  max = y\n",
        "if z < min:\n",
        "  z = min \n",
        "if z > max:\n",
        "  z = max \n",
        "if x == y == z:\n",
        "  print('Все числа равны')\n",
        "print('Разница max и min =', max - min)\n",
        "\n"
      ]
    },
    {
      "cell_type": "markdown",
      "metadata": {
        "id": "034mojyFfw39"
      },
      "source": [
        "# Пример 2. \"Метание мяча в деталях\""
      ]
    },
    {
      "cell_type": "markdown",
      "metadata": {
        "id": "T5BrNEqkfw39"
      },
      "source": [
        "Рассмотрим пример иллюстрирующий математическую модель описывающий траекторию полета мяча в воздухе. Из второго закона Ньютона, предполагая отсутствие сопротивления воздуха, мы можем вывести зависимость вертикального положения мяча от времени $t$:\n",
        "\n",
        "\n",
        "$$y(t)=v_0t−\\frac{1}{2}gt^2$$\n",
        "\n",
        "\n",
        "где $v_0$ — начальная скорость, $g$ — ускорение свободного падения, значение которого положим равным 9.80665 $м/c^2$.\n",
        "\n",
        "(Обратите внимание какие красивые формулы! Текстовые ячейки Jupiter поддерживают набор формул в синтаксесе вёрстки LaTeX, наиболее популярный набор макрорасширений (или макропакет) системы компьютерной вёрстки TeX.)"
      ]
    },
    {
      "cell_type": "markdown",
      "metadata": {
        "id": "MZVDzZt1fw39"
      },
      "source": [
        "Теперь нас будет интересовать траектория полёта меча."
      ]
    },
    {
      "cell_type": "markdown",
      "metadata": {
        "id": "pPbnmitNfw3-"
      },
      "source": [
        "Зададим исходные данные:"
      ]
    },
    {
      "cell_type": "code",
      "execution_count": null,
      "metadata": {
        "id": "WtdxWgFtfw3-"
      },
      "outputs": [],
      "source": [
        "# Программа для вычисления положения мяча при вертикальном движении\n",
        "\n",
        "v0 = 5       # Начальная скорость\n",
        "g = 9.80665  # Ускорение свободного падения\n",
        "\n",
        "tmax = 2*v0/g"
      ]
    },
    {
      "cell_type": "markdown",
      "metadata": {
        "id": "_dzuynJPfw3-"
      },
      "source": [
        "и определим несколько моментов времени."
      ]
    },
    {
      "cell_type": "markdown",
      "metadata": {
        "id": "Bt2ZgZT4fw3-"
      },
      "source": [
        "До этого момента все наши переменные могли содержать только одно число, будь оно хоть целым (int), хоть с плавающей точкой (float). Но иногда числа естественным образом группируются. Например, последовательность моментов времени представляют собой группу. Для групп в Python есть несколько специальных типов объектов, рассмотрим тип — list (список), который позволяет организовывать эти группы в последовательности. При этом, с помощью списков мы можем работать как с группой целиком, так и с членами этой группы по отдельности. При этом список может состоять из объектов разного типа, в том числе и из самих списков."
      ]
    },
    {
      "cell_type": "code",
      "execution_count": null,
      "metadata": {
        "id": "vAThSAqmfw3_",
        "outputId": "760160cd-c643-48b0-cee4-6f413dd3a22e"
      },
      "outputs": [
        {
          "name": "stdout",
          "output_type": "stream",
          "text": [
            "число моментов времени  5\n"
          ]
        }
      ],
      "source": [
        "t = [0, 1/4*tmax, 1/2*tmax, 3/4*tmax, tmax]      # список моментов времени\n",
        "\n",
        "n = len(t)  #  функция len() определяет \"длинну\" списка (количество эллементов)\n",
        "\n",
        "print(\"число моментов времени \", n)"
      ]
    },
    {
      "cell_type": "markdown",
      "metadata": {
        "id": "17NxRh0Bfw3_"
      },
      "source": [
        "Организуем с помощью цикла for перебор этих моментов"
      ]
    },
    {
      "cell_type": "code",
      "execution_count": null,
      "metadata": {
        "id": "t0BXqeaOfw3_",
        "outputId": "994198b3-24cf-4257-acf2-be25ef2f9cb4"
      },
      "outputs": [
        {
          "name": "stdout",
          "output_type": "stream",
          "text": [
            "в момент времени 0.00000000e+00 высота равна 0.00000000e+00\n",
            "в момент времени 2.54929053e-01 высота равна 9.55983950e-01\n",
            "в момент времени 5.09858106e-01 высота равна 1.27464527e+00\n",
            "в момент времени 7.64787160e-01 высота равна 9.55983950e-01\n",
            "в момент времени 1.01971621e+00 высота равна 0.00000000e+00\n"
          ]
        }
      ],
      "source": [
        "for i in [0,1,2,3,4]:\n",
        "    y = v0*t[i] - 1/2*g*t[i]**2\n",
        "    print (\"в момент времени %14.8e высота равна %14.8e\" %(t[i], y))"
      ]
    },
    {
      "cell_type": "markdown",
      "metadata": {
        "id": "usWTV86zfw4A"
      },
      "source": [
        "Теперь наша переменная t ссылается на объект типа list, который содержит последовательность. Все элементы в этом случае являются объектами типа int.\n",
        "\n",
        "Любой элемент в списке связан со своим индексом, который определяет позицию элемента в списке. Первый элемент имеет индекс 0, второй элемент — индекс 1 и так далее. Для того, чтобы вызвать какой-то элемент списка, достаточно вызвать его по индексу, например t[3].\n",
        "\n",
        "Элементы в списках можно удалять, добавлять, изменять, вставлять и так далее. Делается это с помощью методов. Методы определяются через точку. \n",
        "\n",
        "Например метод append для списка y запишется как y.append(v), и этот метод добавит элемент v в конец списка y. А метод y.insert(i,v) вставит новый элемент v на позицию i. "
      ]
    },
    {
      "cell_type": "code",
      "execution_count": null,
      "metadata": {
        "id": "suhirhxrfw4A",
        "outputId": "0837eefe-44e7-44d1-b584-256c9b388aab"
      },
      "outputs": [
        {
          "name": "stdout",
          "output_type": "stream",
          "text": [
            "[0.0, 0.9559839496668078, 1.2746452662224104, 0.9559839496668081, 0.0] <class 'list'>\n"
          ]
        }
      ],
      "source": [
        "y=[] # создаем пустой список\n",
        "for i in [0,1,2,3,4]:\n",
        "    y.append(v0*t[i] - 1/2*g*t[i]**2) # дописываем значение в конец списка \n",
        "\n",
        "print (y, type(y))"
      ]
    },
    {
      "cell_type": "markdown",
      "metadata": {
        "id": "LR5jJ8U6fw4A"
      },
      "source": [
        "Добавим ещё несколько моментов времени:"
      ]
    },
    {
      "cell_type": "code",
      "execution_count": null,
      "metadata": {
        "id": "dBrAcgHmfw4A",
        "outputId": "cfed592f-acb9-45e6-e40b-6213ee461426"
      },
      "outputs": [
        {
          "name": "stdout",
          "output_type": "stream",
          "text": [
            "[0, 0.12746452662224103, 0.25492905324448206, 0.38239357986672307, 0.5098581064889641, 0.6373226331112052, 0.7647871597334461, 0.8922516863556872, 1.0197162129779282] 9\n"
          ]
        }
      ],
      "source": [
        "t.insert(1, 1/8*tmax)\n",
        "t.insert(3, 3/8*tmax)\n",
        "t.insert(5, 5/8*tmax)\n",
        "t.insert(7, 7/8*tmax)\n",
        "\n",
        "n = len(t)\n",
        "print(t, n)"
      ]
    },
    {
      "cell_type": "markdown",
      "metadata": {
        "id": "LhdvBrYhfw4B"
      },
      "source": [
        "Вычислим значение y в новые моменты времени и вставим их список:"
      ]
    },
    {
      "cell_type": "code",
      "execution_count": null,
      "metadata": {
        "id": "jWBHxqwDfw4B",
        "outputId": "1abd64f5-d56c-4c2c-fa1f-4d930535fc73"
      },
      "outputs": [
        {
          "name": "stdout",
          "output_type": "stream",
          "text": [
            "[0.0, 0.5576573039723045, 0.9559839496668078, 1.1949799370835097, 1.2746452662224104, 1.1949799370835101, 0.9559839496668081, 0.557657303972305, 0.0]\n"
          ]
        }
      ],
      "source": [
        "for i in [1,3,5,7]:\n",
        "    y.insert(i,v0*t[i] - 1/2*g*t[i]**2) # дописываем значение в заданные позиции списка \n",
        "\n",
        "print (y)"
      ]
    },
    {
      "cell_type": "markdown",
      "metadata": {
        "id": "DrEwWclofw4B"
      },
      "source": [
        "С помощью del t[i] мы можем удалять любые элементы. Метод t.index(v) позволяет определить под каким индексом расположен интересующий нас элемент."
      ]
    },
    {
      "cell_type": "code",
      "execution_count": null,
      "metadata": {
        "id": "pvs177H-fw4B",
        "outputId": "6e757e0b-f054-49f3-a665-e76f8bcb30ae"
      },
      "outputs": [
        {
          "name": "stdout",
          "output_type": "stream",
          "text": [
            "[0, 0.12746452662224103, 0.25492905324448206, 0.38239357986672307, 0.5098581064889641, 0.6373226331112052, 0.7647871597334461, 0.8922516863556872, 1.0197162129779282]\n",
            "[0.12746452662224103, 0.25492905324448206, 0.38239357986672307, 0.5098581064889641, 0.6373226331112052, 0.7647871597334461, 0.8922516863556872, 1.0197162129779282]\n"
          ]
        }
      ],
      "source": [
        "print(t)\n",
        "\n",
        "del t[0]\n",
        "\n",
        "print(t)"
      ]
    },
    {
      "cell_type": "code",
      "execution_count": null,
      "metadata": {
        "id": "dlzKsS1ufw4B",
        "outputId": "46b3caa4-9b71-4739-ac59-06b4949b5c32"
      },
      "outputs": [
        {
          "data": {
            "text/plain": [
              "0"
            ]
          },
          "execution_count": 53,
          "metadata": {},
          "output_type": "execute_result"
        }
      ],
      "source": [
        "y.index(0)"
      ]
    },
    {
      "cell_type": "markdown",
      "metadata": {
        "id": "OwJ6OiWcfw4C"
      },
      "source": [
        "Поскольку прохождение по списку и создание соответствующего нового списка является часто встречаемой задачей, в Python имеется компактный синтаксис для решения этой проблемы, который часто называют генерацией списка. В общем виде это выглядит так:\n",
        "\n"
      ]
    },
    {
      "cell_type": "code",
      "execution_count": null,
      "metadata": {
        "id": "1s2RWzYnfw4C",
        "outputId": "7606ecb7-5e6e-44c0-81e0-ca5f02a966d1"
      },
      "outputs": [
        {
          "name": "stdout",
          "output_type": "stream",
          "text": [
            "[0.0, 0.10197162129779283, 0.20394324259558566, 0.30591486389337846, 0.4078864851911713, 0.5098581064889641, 0.6118297277867569, 0.7138013490845497, 0.8157729703823426, 0.9177445916801354, 1.0197162129779282]\n"
          ]
        }
      ],
      "source": [
        "n = 10\n",
        "t = [i/n*tmax for i in range(n+1)]\n",
        "print(t)"
      ]
    },
    {
      "cell_type": "markdown",
      "metadata": {
        "id": "juLAuZDafw4C"
      },
      "source": [
        "Вместо цикла for по заданным элементам списка мы можем использовать цикл for с генерированным списком индексов. Для этого в Python есть функция range, возвращающая список по порядку идущих чисел: range(от,до,шаг)"
      ]
    },
    {
      "cell_type": "markdown",
      "metadata": {
        "id": "nXg85mDHfw4C"
      },
      "source": [
        "Модифициурем сценарий из 1-й лабораторной. Программа на Python с векторизацией и построением графиков для иллюстрации использования цикла for.\n",
        "\n",
        "Предположим, мы хотим найти максимальную высоту в течение этого времени. Один из вариантов реализации этого может быть следующим: вычисляем все тысяча значений высоты, сохраняем их в массив, а затем пробегаем весь массив, чтобы найти максимальное значение. "
      ]
    },
    {
      "cell_type": "code",
      "execution_count": 1,
      "metadata": {
        "id": "ZARvAs8Dfw4D",
        "outputId": "5ef32793-25bf-45c2-d08c-deef3b7fb40b"
      },
      "outputs": [
        {
          "name": "stdout",
          "output_type": "stream",
          "text": [
            "Максимальная достигнутая высота равна 1.274644 м\n"
          ]
        },
        {
          "data": {
            "image/png": "[encoded data removed]",
            "text/plain": [
              "<Figure size 900x700 with 1 Axes>"
            ]
          },
          "metadata": {},
          "output_type": "display_data"
        }
      ],
      "source": [
        "import numpy as np\n",
        "import matplotlib.pyplot as plt\n",
        "\n",
        "v0 = 5.0\n",
        "g = 9.80665  # Ускорение свободного падения\n",
        "\n",
        "tmax = 2*v0/g\n",
        "\n",
        "t = np.linspace(0, tmax, 1000)\n",
        "y = v0*t - 0.5*g*t**2\n",
        "\n",
        "max_height = y[0]\n",
        "for i in range(1, 1000):\n",
        "    if y[i] > max_height:\n",
        "        max_height = y[i]\n",
        "\n",
        "print ('Максимальная достигнутая высота равна %f м' % (max_height))\n",
        "\n",
        "plt.figure(figsize=(9,7))  \n",
        "\n",
        "plt.plot(t, y)\n",
        "plt.xlabel(u'Время (с)')\n",
        "plt.ylabel(u'Высота (м)')\n",
        "plt.show()"
      ]
    },
    {
      "cell_type": "code",
      "execution_count": null,
      "metadata": {
        "id": "tLjkK4P6fw4D",
        "outputId": "b30c41e3-a827-4ff0-c8ce-fb1b22979d5c"
      },
      "outputs": [
        {
          "name": "stdout",
          "output_type": "stream",
          "text": [
            "Терерь последовательность t имеет 1000 эллементов и тип <class 'numpy.ndarray'>\n"
          ]
        }
      ],
      "source": [
        "print ('Терерь последовательность t имеет %i эллементов и тип %s'%(len(t), type(t)))"
      ]
    },
    {
      "cell_type": "markdown",
      "metadata": {
        "id": "cSocgs83fw4D"
      },
      "source": [
        "Ещё одним удобным вариантом для группировки эллементов служат массиивы библиотеки numpy. Функция этой библиотеки linspace(от, до, количество эллементов) создает набор чисел с равным шагом из заданного диапазона"
      ]
    },
    {
      "cell_type": "markdown",
      "metadata": {
        "id": "3dkvSfp0fw4E"
      },
      "source": [
        "В языке Python имеется еще одна стандартная циклическая конструкция — цикл while. Для иллюстрации использования этого цикла рассмотрим другую модификацию сценария из лабораторной 1. Теперь мы изменим его так, чтобы сценарий находил время полета мяча. Предположим, что мы подбросили мяч с немного меньшей начальной скоростью 4.5 м/с. Так как мы будем рассматривать первую секунду полета, то высота в конце этого интервала будет отрицательной. Это означает, что мяч упал ниже своего начального положения. В нашем массиве y мы будем иметь ряд отрицательных значений, которые расположены в конце массива. \n",
        "\n",
        "В следующем сценарии находится момент времени, когда значение высоты становится отрицательным, т.е., когда мяч пересекается прямую y=0. Сценарий может быть следующим:"
      ]
    },
    {
      "cell_type": "code",
      "execution_count": null,
      "metadata": {
        "id": "oWvGNn7_fw4E",
        "outputId": "97ba8a0d-d7c4-4947-9ea7-b81e3da84b64"
      },
      "outputs": [
        {
          "name": "stdout",
          "output_type": "stream",
          "text": [
            "y = 0 в момент времени  0.9174174174174174\n"
          ]
        },
        {
          "data": {
            "image/png": "[encoded data removed]",
            "text/plain": [
              "<Figure size 648x504 with 1 Axes>"
            ]
          },
          "metadata": {
            "needs_background": "light"
          },
          "output_type": "display_data"
        }
      ],
      "source": [
        "v0 = 4.5\n",
        "g = 9.81\n",
        "t = np.linspace(0, 1, 1000)\n",
        "y = v0*t - 0.5*g*t**2\n",
        "\n",
        "i = 0\n",
        "while y[i] >= 0:\n",
        "    i += 1\n",
        "\n",
        "print (u'y = 0 в момент времени ', 0.5*(t[i-1] + t[i]))\n",
        "\n",
        "plt.figure(figsize=(9,7))  \n",
        "\n",
        "plt.plot(t, y)\n",
        "plt.xlabel(u'Время (с)')\n",
        "plt.ylabel(u'Высота (м)')\n",
        "plt.show()"
      ]
    },
    {
      "cell_type": "markdown",
      "metadata": {
        "id": "0D-I0_D1fw4E"
      },
      "source": [
        "В приведенном примере Цикл while выполняется до тех пор, пока булевское выражение y[i] > 0 возвращает значение True. Отметим, что в этом случае счетчик цикла i введен и инициализирован (i = 0) до начала выполнения цикла и обновляется (i += 1) внутри цикла. Таким образом, для каждой итерации i явно увеличивается на 1.\n",
        "\n",
        "В отличие от цикла for, программист не должен определять количество итераций при использовании цикла while. Он просто выполняется пока булевское выражение не вернет значение False. Таким образом, в этом случае счетчик цикла не обязателен. Кроме того, если в цикле while используется счетчик, то он не увеличивается автоматически, это нужно делать явно. Конечно, как и в цикле for и в инструкции if может быть несколько строк кода в теле цикла while. Любой цикл for может быть реализован с помощью while, но циклы while являются более общими и не все из них можно реализовать с помощью for.\n",
        "\n",
        "Следует быть осторожным с так называемыми бесконечными циклами. Могут возникнуть (непреднамеренно) случаи, когда тест в инструкции while никогда не вернет значение False, и сценарий не сможет выйти из цикла."
      ]
    },
    {
      "cell_type": "markdown",
      "metadata": {
        "id": "sj-eAH-ifw4E"
      },
      "source": [
        "# Упражнение 4. $\\pi$"
      ]
    },
    {
      "cell_type": "markdown",
      "metadata": {
        "id": "7jdltZvofw4F"
      },
      "source": [
        "Число Пи - несомненно, одна из основных констант, значение которой было известно еще в древности. Оно используется везде, от кройки и шитья до расчетов гармонических колебаний в физике и радиотехнике.\n",
        "\n",
        "Но чему она равна? Есть ли у этого числа какая-то внутренняя структура, неизвестная закономерность? Узнать это хотели многие. Самый простой и очевидный способ - взять и измерить. Примерно так вероятно и поступали в древности, точность разумеется была невысокой. Еще в древнем Вавилоне значение числа Пи было известно как 25/8. Затем Архимед предложил первый математический метод вычисления числа Пи, с помощью расчета вписанных в круг многоугольников. Это позволяло вычислять значение не «напрямую», с циркулем и линейкой, а математически, что обеспечивало гораздо большую точность. И наконец в 3-м веке нашей эры китайский математик Лю Хуэй придумал первый итерационный алгоритм — алгоритм, в котором число вычисляется не одной формулой, а последовательностью шагов (итераций), где каждая последующая итерация увеличивает точность.\n",
        "\n",
        "Кроме того, число Пи является иррациональным: оно не может быть выражено с помощью дроби вида m/n. Это было доказано только в 1761 году. Число Пи является трансцендентным: оно не является корнем какого-либо уравнения с целочисленными коэффициентами. Это было доказано в 1882 году. Число Пи является бесконечным. Интересное следствие предыдущего пункта: в числе Пи можно найти практически любое число, например свой собственный номер телефона, вопрос лишь в длине последовательности которую придется просмотреть.\n",
        "\n",
        "Перейдем к формулам вычисления $\\pi$:\n",
        "\n",
        "Формула Мадхавы-Лейбница (15 век):\n",
        "\n",
        "$$\\frac{1}{1} - \\frac{1}{3} + \\frac{1}{5} - \\frac{1}{7} + \\frac{1}{9} - ... = \\frac{\\pi}{4}$$\n",
        "\n",
        "Формула Валлиса (17 век):\n",
        "\n",
        "$$\\frac{2}{1} * \\frac{2}{3} * \\frac{4}{3} * \\frac{4}{5} * \\frac{6}{5} * \\frac{6}{7} * \\frac{8}{7} * \\frac{8}{9} ... = \\frac{\\pi}{2}$$\n",
        "\n",
        "Напишите программу вычисляющее значение числа $\\pi$ по этим формулам первые n итераций. Вывадите все итерации и текущее значение числа $\\pi$ с 10 знаками после запятой в следующеем формате:\n",
        "\n",
        "Номер итерации  ф. Мадхавы-Лейбница  ф. Валлиса"
      ]
    },
    {
      "cell_type": "code",
      "execution_count": null,
      "metadata": {
        "id": "t6K2Pwsafw4F"
      },
      "outputs": [],
      "source": []
    },
    {
      "cell_type": "markdown",
      "metadata": {
        "id": "N68DK2cxfw4F"
      },
      "source": [
        "# Домашнее задание (базовое):"
      ]
    },
    {
      "cell_type": "markdown",
      "metadata": {
        "id": "QoHwmsPkfw4F"
      },
      "source": [
        "# Задание 1. Счастливое число"
      ]
    },
    {
      "cell_type": "markdown",
      "metadata": {
        "id": "vd6JRqE4fw4F"
      },
      "source": [
        "Дано четырехзначное число. Определите, является ли его десятичная запись симметричной. Если число симметричное, то выведите 1, иначе выведите любое другое целое число. Число может иметь меньше четырех знаков, тогда нужно считать, что его десятичная запись дополняется слева нулями."
      ]
    },
    {
      "cell_type": "code",
      "execution_count": null,
      "metadata": {
        "colab": {
          "base_uri": "https://localhost:8080/"
        },
        "id": "tNNlyDyWfw4G",
        "outputId": "e9f69712-58aa-4366-ed82-1cedca6da79c"
      },
      "outputs": [
        {
          "name": "stdout",
          "output_type": "stream",
          "text": [
            "Введите ЧЕТЫРЁХЗНАЧНОЕ число12\n",
            "Число не подходит 0012\n"
          ]
        }
      ],
      "source": [
        "x = (input('Введите ЧЕТЫРЁХЗНАЧНОЕ число'))\n",
        "while len(x) > 4:\n",
        "  print('Число не четырёхзначное')\n",
        "  x = int(input('Введите ЧЕТЫРЁХЗНАЧНОЕ число'))\n",
        "else:\n",
        "  while len(x) != 4: \n",
        "    x = '0' + x\n",
        "  if x[0]== x[2] and x[1] == x[3]:\n",
        "    print('Число подходит', x)\n",
        "  else:\n",
        "    print('Число не подходит', x)\n"
      ]
    },
    {
      "cell_type": "markdown",
      "metadata": {
        "id": "MbUYEnv6fw4G"
      },
      "source": [
        "# Задание 2. Високосный год"
      ]
    },
    {
      "cell_type": "markdown",
      "metadata": {
        "id": "hEKsOcYnfw4G"
      },
      "source": [
        "Дано натуральное число. Требуется определить, является ли год с данным номером високосным. Если год является високосным, то выведите YES, иначе выведите NO. Напомним, что в соответствии с григорианским календарем, год является високосным, если его номер кратен 4, но не кратен 100, или же если он кратен 400."
      ]
    },
    {
      "cell_type": "code",
      "execution_count": null,
      "metadata": {
        "id": "tWYeVjRFfw4G"
      },
      "outputs": [],
      "source": [
        "i = int(input())\n",
        "if (i % 4 == 0 and a % 100 != 0) or a % 400 == 0:\n",
        "  print('YES')\n",
        "else:\n",
        "  print('NO')"
      ]
    },
    {
      "cell_type": "markdown",
      "metadata": {
        "id": "V-zi5LfTfw4G"
      },
      "source": [
        "# Задание 3. Коровы"
      ]
    },
    {
      "cell_type": "markdown",
      "metadata": {
        "id": "MzvgvJqFfw4G"
      },
      "source": [
        "Для целого числа n введённого пользователем закончите фразу “На лугу пасется...” одним из возможных продолжений: “n коров”, “n корова”, “n коровы”, правильно склоняя слово “корова”."
      ]
    },
    {
      "cell_type": "code",
      "execution_count": null,
      "metadata": {
        "colab": {
          "base_uri": "https://localhost:8080/"
        },
        "id": "gT-4c6HLfw4H",
        "outputId": "191fabc6-a669-45a3-deeb-bf14ca2b3f07"
      },
      "outputs": [
        {
          "name": "stdout",
          "output_type": "stream",
          "text": [
            "Введите количество коров\n",
            "7\n",
            "На лугу пасётся 7 коров\n"
          ]
        }
      ],
      "source": [
        "print('Введите количество коров')\n",
        "i = int(input())\n",
        "j = i % 100\n",
        "if j <= 20:\n",
        "  if j == 1:\n",
        "    print( 'На лугу пасётся', i,'корова')\n",
        "  if 2 <= j <= 4:\n",
        "    print('На лугу пасётся', i,'коровы')\n",
        "  if 5 <= j <= 20:\n",
        "    print('На лугу пасётся', i,'коров')\n",
        "else:\n",
        "  if j % 10 == 1:\n",
        "    print('На лугу пасётся', i,'корова')\n",
        "  if 2 <= (j % 10) <= 4:\n",
        "    print('На лугу пасётся', i,'коровы')\n",
        "  if j % 10 > 4:\n",
        "    print('На лугу пасётся', i,'коров')"
      ]
    },
    {
      "cell_type": "markdown",
      "metadata": {
        "id": "MSF6vClqfw4H"
      },
      "source": [
        "# Задание 4. Минимальный делитель"
      ]
    },
    {
      "cell_type": "markdown",
      "metadata": {
        "id": "NGjZtIDCfw4H"
      },
      "source": [
        "Дано целое число, не меньшее 2. Выведите его наименьший натуральный делитель, отличный от 1. \n",
        "Напишите программу в 2-х вариантах - с помощью цикла for и while."
      ]
    },
    {
      "cell_type": "code",
      "execution_count": null,
      "metadata": {
        "colab": {
          "base_uri": "https://localhost:8080/"
        },
        "id": "FlnSTzjtfw4H",
        "outputId": "0982528d-44ef-4a6d-c799-0e81cd444c6d"
      },
      "outputs": [
        {
          "name": "stdout",
          "output_type": "stream",
          "text": [
            "Введите число:13\n",
            "13\n"
          ]
        }
      ],
      "source": [
        "i = int(input('Введите число:'))\n",
        "if i < 2:\n",
        "  print('Число не подходит')\n",
        "else:\n",
        "  for j in range(2, i+1):\n",
        "    if i % j == 0:\n",
        "      print(j)\n",
        "      break\n"
      ]
    },
    {
      "cell_type": "markdown",
      "metadata": {
        "id": "D1dK3fstfw4H"
      },
      "source": [
        "# Задание 5. Последовательность"
      ]
    },
    {
      "cell_type": "markdown",
      "metadata": {
        "id": "T2v7QgH-fw4H"
      },
      "source": [
        "Программа получает на вход последовательность целых неотрицательных чисел, каждое число записано в отдельной строке. Последовательность завершается числом 0, при считывании которого программа должна закончить свою работу и вывести количество членов последовательности (не считая завершающего числа 0).\n",
        "После завершения ввода данных программа запрашивает пользователя какую операцию с ними нужно выполнить:\n",
        "\n",
        "1. Найти сумму введённых чисел.\n",
        "2. Найти произведение введённых чисел.\n",
        "3. Найти среднее значение введённых чисел.\n",
        "4. Найти максимальное из введённых чисел.\n",
        "5. Найти минимальное из введённых чисел.\n",
        "6. Определить количество чётных и нечётных эллементов.\n",
        "\n",
        "После получения ответа от пользователя программа выполняет расчёт и выводит результат."
      ]
    },
    {
      "cell_type": "code",
      "execution_count": null,
      "metadata": {
        "colab": {
          "base_uri": "https://localhost:8080/"
        },
        "id": "wgqCwhBgfw4H",
        "outputId": "13746634-1db2-47c8-fcd2-8c28f9c130d9"
      },
      "outputs": [
        {
          "name": "stdout",
          "output_type": "stream",
          "text": [
            "Введите количество чисел последовательности(Числа не должны быть отрицательными):3\n",
            "34\n",
            "2\n",
            "15\n",
            "Список, которую мы получили: [34, 2, 15, 0]\n",
            "Сумма всех этих числе: 51\n",
            "Среднее значение этих чисел: 12.75\n",
            "Минимальное из этих чисел: 0 Максимальное из этих чисел: 34\n",
            "Количество чётных числе списка: 3\n",
            "Количество нечётных чисел списка: 1\n"
          ]
        }
      ],
      "source": [
        "from functools import lru_cache\n",
        "maxsize=None\n",
        "n = int(input('Введите количество чисел последовательности:'))\n",
        "x = []\n",
        "s = 0\n",
        "sr = 0\n",
        "c = 0\n",
        "m = 0\n",
        "f = 1\n",
        "mx = 99999999999999999999999999999999999999999999999999999999999999999999999999999999999999999\n",
        "mn = -99999999999999999999999999999999999999999999999999999999999999999999999999999999999999999\n",
        "for i in range(n):\n",
        "    y = int(input())\n",
        "    x.append(y)\n",
        "x.append(0)\n",
        "z = int(input('Введите операцию с числами: 1.Найти сумму введённых чисел. 2.Найти произведение введённых чисел. 3.Найти среднее значение введённых чисел. 4.Найти максимальное из введённых чисел. 5.Найти минимальное из введённых чисел.6.Определить количество чётных и нечётных эллементов.'))\n",
        "print('Список, которую мы получили:',x)\n",
        "if z == 1:\n",
        "    for i in range(n+1):\n",
        "      s += x[i]\n",
        "    print('Сумма всех этих числе:',s)\n",
        "if z == 2:\n",
        "    for i in range(len(x)-1):\n",
        "        f *= int(x[i])\n",
        "    print(f)\n",
        "if z == 3:\n",
        "    for i in range(n+1):\n",
        "        s += x[i]\n",
        "        sr = s / (n+1)\n",
        "    print('Среднее значение этих чисел:',sr)\n",
        "if z == 4:\n",
        "    for i in range(n+1):\n",
        "      if int(x[i]) > (mn):\n",
        "        mn = int(x[i])\n",
        "    print('Максимальное из этих чисел:',mn)\n",
        "if z == 5:\n",
        "    for i in range(n + 1):\n",
        "        if x[i] != 0 and mx > int(x[i]):\n",
        "            mx = int(x[i])\n",
        "    print('Минимальное из этих чисел:',mx)\n",
        "if z == 6:\n",
        "    for i in range(n+1):\n",
        "        if x[i] % 2 == 0:\n",
        "            c += 1\n",
        "    print('Количество чётных числе списка:',c)\n",
        "    for i in range(n+1):\n",
        "        if x[i] % 2 != 0:\n",
        "            m += 1\n",
        "    print('Количество нечётных чисел списка:', m)\n"
      ]
    },
    {
      "cell_type": "markdown",
      "metadata": {
        "id": "vHF5pOBkfw4H"
      },
      "source": [
        "# Домашнее задание (дополнительное):"
      ]
    },
    {
      "cell_type": "markdown",
      "metadata": {
        "id": "FW9sJT5Wfw4I"
      },
      "source": [
        "# Задание. \"Без всяких условностей\" "
      ]
    },
    {
      "cell_type": "markdown",
      "metadata": {
        "id": "cQBBEYgpfw4I"
      },
      "source": [
        "Напишите программу, которая принимает два целых числа A и B и выводит наибольшее значение из них. \n",
        "\n",
        "При решении задачи можно пользоваться только целочисленными арифметическими операциями. Нельзя пользоваться нелинейными конструкциями: ветвлениями, циклами, функциями."
      ]
    },
    {
      "cell_type": "code",
      "execution_count": null,
      "metadata": {
        "colab": {
          "base_uri": "https://localhost:8080/"
        },
        "id": "3ZLbZ7K7fw4I",
        "outputId": "c3961346-fae0-42d2-ee1e-73a23cd1eccb"
      },
      "outputs": [
        {
          "name": "stdout",
          "output_type": "stream",
          "text": [
            "Введите первое число:123\n",
            "Введите второе число:456\n",
            "Наименьшее из двух чисел: 456\n"
          ]
        }
      ],
      "source": [
        "a = int(input('Введите первое число:'))\n",
        "b = int(input('Введите второе число:'))\n",
        "print('Наибольшее из двух чисел:',(((a // b) * a) + ((b // a) * b)) // ((a // b) + (b // a)))"
      ]
    },
    {
      "cell_type": "markdown",
      "metadata": {
        "id": "jhroRmgKfw4I"
      },
      "source": [
        "# Задание. \"Котлеты\" "
      ]
    },
    {
      "cell_type": "markdown",
      "metadata": {
        "id": "QGc6G6n0fw4I"
      },
      "source": [
        "На сковородку одновременно можно положить k котлет. Каждую котлету нужно с каждой стороны обжаривать m минут непрерывно. За какое наименьшее время удастся поджарить с обеих сторон n котлет?\n",
        "Программа получает на вход три числа: k,m,n. И выводит одно число: наименьшее количество минут."
      ]
    },
    {
      "cell_type": "code",
      "execution_count": null,
      "metadata": {
        "id": "zDRD-dF6fw4I"
      },
      "outputs": [],
      "source": [
        "x = int(input('Кол-во котлет'))\n",
        "y = int(input('Кол-во котлет которые могут пометситься на сковороде'))\n",
        "z = int(input('Кол-во минут'))\n",
        "end = 0 \n",
        "k = x // y\n",
        "if x % y != 0:\n",
        "  k = k + 1\n",
        "end = k * 2 * z \n",
        "print(end, 'конечное количество минут')"
      ]
    },
    {
      "cell_type": "markdown",
      "metadata": {
        "id": "rVPXxVtUfw4I"
      },
      "source": [
        "# Задание. \"Угадай число\""
      ]
    },
    {
      "cell_type": "markdown",
      "metadata": {
        "id": "2ntmZRNCfw4J"
      },
      "source": [
        "Пользователь загадывает число от 1 до N. Программа запрашивает у пользователя N. Требуется отгадать загаданное число, задав как можно меньше вопросов. (Обычно подобные задачи решают с помощью цикла)."
      ]
    },
    {
      "cell_type": "code",
      "execution_count": null,
      "metadata": {
        "id": "0_wR-59Afw4J"
      },
      "outputs": [],
      "source": [
        "i = int(input('Загадайте число'))\n",
        "rs = set()\n",
        "for i1 in range(1, int(i**0.5)+1):\n",
        "  if i % i1 == 0:\n",
        "    rs.add(i1)\n",
        "    rs.add(i // i1)\n",
        "rs = sorted(rs)\n",
        "print('Ваше число', rs[len(rs)-1])"
      ]
    }
  ],
  "metadata": {
    "colab": {
      "provenance": []
    },
    "kernelspec": {
      "display_name": "Python 3",
      "language": "python",
      "name": "python3"
    },
    "language_info": {
      "codemirror_mode": {
        "name": "ipython",
        "version": 3
      },
      "file_extension": ".py",
      "mimetype": "text/x-python",
      "name": "python",
      "nbconvert_exporter": "python",
      "pygments_lexer": "ipython3",
      "version": "3.11.2"
    },
    "vscode": {
      "interpreter": {
        "hash": "0d4abcbc6d19e2f7bf5913a55112817776e6985fc410731ba664caa1d713923a"
      }
    }
  },
  "nbformat": 4,
  "nbformat_minor": 0
}
