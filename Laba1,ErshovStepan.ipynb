{
  "cells": [
    {
      "cell_type": "markdown",
      "metadata": {
        "id": "M-SsjwXoYRrK"
      },
      "source": [
        "# Лабораторная работа 1. Базовый синтаксис языка Python 3."
      ]
    },
    {
      "cell_type": "markdown",
      "metadata": {
        "id": "JvMIbs5rYRrQ"
      },
      "source": [
        "# Справочная информация:"
      ]
    },
    {
      "cell_type": "markdown",
      "metadata": {
        "id": "KjPaaLxlYRrR"
      },
      "source": [
        "# 1. Типы данных"
      ]
    },
    {
      "cell_type": "markdown",
      "metadata": {
        "id": "OgTHGQSHYRrS"
      },
      "source": [
        "Основными типами данных в любом языке программирования являются:\n",
        "\n",
        "целые числа, вещественные числа, строки (символы), логические переменные (True (истина) или False (ложь)).\n",
        "\n",
        "Они могут быть записаны следующим образом"
      ]
    },
    {
      "cell_type": "code",
      "execution_count": null,
      "metadata": {
        "id": "YzKsZ-gVYRrT",
        "outputId": "b309ab55-0845-41c1-a4ad-98fafd0da558"
      },
      "outputs": [
        {
          "data": {
            "text/plain": [
              "(1, 1.0, '1', True)"
            ]
          },
          "execution_count": 3,
          "metadata": {},
          "output_type": "execute_result"
        }
      ],
      "source": [
        "1, 1.0, '1', 1<2"
      ]
    },
    {
      "cell_type": "markdown",
      "metadata": {
        "id": "W4frUeVHYRrW"
      },
      "source": [
        "Функцией type возвращает тип аргумента: "
      ]
    },
    {
      "cell_type": "code",
      "execution_count": null,
      "metadata": {
        "id": "vobZAwVwYRrX",
        "outputId": "aa3a6ee4-3ffc-48ca-e37c-ff5367bfc8ef"
      },
      "outputs": [
        {
          "data": {
            "text/plain": [
              "(int, float, str, bool)"
            ]
          },
          "execution_count": 2,
          "metadata": {},
          "output_type": "execute_result"
        }
      ],
      "source": [
        "type(1), type(1.0), type('1'), type(1<2)"
      ]
    },
    {
      "cell_type": "markdown",
      "metadata": {
        "id": "QVgaUB6MYRrY"
      },
      "source": [
        "# 1.2 Операции с числами: $A+B$, $A-B$, $A*B$, $A/B$, $A^B$"
      ]
    },
    {
      "cell_type": "code",
      "execution_count": null,
      "metadata": {
        "colab": {
          "base_uri": "https://localhost:8080/"
        },
        "id": "tOomFV4zYRrZ",
        "outputId": "13b72662-7736-4d15-85b1-4997b06e87ba"
      },
      "outputs": [
        {
          "name": "stdout",
          "output_type": "stream",
          "text": [
            " A + B =  3\n",
            " A - B =  -1\n",
            " A * B =  2\n",
            " A / B =  0.5\n",
            " A ^ B =  1\n"
          ]
        }
      ],
      "source": [
        "# комментарий: с целыми числами\n",
        "A=1 \n",
        "B=2\n",
        "print (' A + B = ',A+B) # сумма\n",
        "print (' A - B = ',A-B) # разность;\n",
        "print (' A * B = ',A*B) # произведение;\n",
        "print (' A / B = ',A/B) # частное;\n",
        "print (' A ^ B = ',A**B) # возведение в степень."
      ]
    },
    {
      "cell_type": "code",
      "execution_count": null,
      "metadata": {
        "id": "oF9o-7GlYRra",
        "outputId": "5e84b243-13a5-404b-f469-a9657574b441"
      },
      "outputs": [
        {
          "name": "stdout",
          "output_type": "stream",
          "text": [
            " A + B  =  3.0\n",
            " A - B  =  -1.0\n",
            " A * B  =  2.0\n",
            " A / B  =  0.5\n",
            " A % B  =  1.0\n",
            " A // B =  0.0\n",
            " A ^ B  =  1.0\n"
          ]
        }
      ],
      "source": [
        "# комментарий: с вещественными числами\n",
        "A=1.0 \n",
        "B=2.0\n",
        "print (' A + B  = ',A+B)  # сумма\n",
        "print (' A - B  = ',A-B)  # разность;\n",
        "print (' A * B  = ',A*B)  # произведение;\n",
        "print (' A / B  = ',A/B)  # частное;\n",
        "print (' A % B  = ',A%B)  #  остаток от деления;\n",
        "print (' A // B = ',A//B) # деление без остатка;\n",
        "print (' A ^ B  = ',A**B) # возведение в степень."
      ]
    },
    {
      "cell_type": "code",
      "execution_count": null,
      "metadata": {
        "id": "FwNYDKSyYRrb",
        "outputId": "4d9e00d6-a43b-4d41-ac8b-2f1eeaf18725"
      },
      "outputs": [
        {
          "name": "stdout",
          "output_type": "stream",
          "text": [
            " A / B =  0.5 возвращаемый тип -  <class 'float'>\n",
            " A / B =  0 возвращаемый тип -  <class 'int'>\n"
          ]
        }
      ],
      "source": [
        "# комментарий: ещё о целых числах, без автоматического переопределения типа было бы так\n",
        "A=1\n",
        "B=2\n",
        "print (' A / B = ',A/B, 'возвращаемый тип - ', type(A/B)) # автоматическое переопределение;\n",
        "print (' A / B = ',(int)(A/B), 'возвращаемый тип - ', type((int)(A/B))) # без автоматического переопределения;"
      ]
    },
    {
      "cell_type": "markdown",
      "metadata": {
        "id": "frJo1WiJYRrb"
      },
      "source": [
        "# 1.2 Операции над строками"
      ]
    },
    {
      "cell_type": "code",
      "execution_count": null,
      "metadata": {
        "id": "uuJ6yKupYRrb",
        "outputId": "81859416-321e-4d5b-b5aa-dc3b89f56f47"
      },
      "outputs": [
        {
          "name": "stdout",
          "output_type": "stream",
          "text": [
            " Ast + Bst =   я люблю информатику \n",
            "(Ast + Bst) * n =   я люблю информатику  я люблю информатику  я люблю информатику \n"
          ]
        }
      ],
      "source": [
        "Ast=' я люблю ' \n",
        "Bst='информатику '\n",
        "n=3\n",
        "print (' Ast + Bst = ',Ast+Bst)  # конкатенация \n",
        "print ('(Ast + Bst) * n = ',(Ast+Bst)*n)  # повторение n раз"
      ]
    },
    {
      "cell_type": "markdown",
      "metadata": {
        "id": "17GuwZAPYRrc"
      },
      "source": [
        "# 1.3 Логические операции"
      ]
    },
    {
      "cell_type": "code",
      "execution_count": null,
      "metadata": {
        "id": "V8gGc-83YRrc",
        "outputId": "48f2be60-9dbc-4cad-c16c-6c206122721d"
      },
      "outputs": [
        {
          "name": "stdout",
          "output_type": "stream",
          "text": [
            " A >  B  ?  False\n",
            " A <  B  ?  True\n",
            " A >= B  ?  False\n",
            " A <= B  ?  True\n",
            " A == B  ?  False\n",
            " A != B ?  True\n",
            " A < B < A+B ?  True\n",
            " A < B и B < A+B  ?  True\n",
            " A < B или A > B  ?  True\n",
            "\n",
            " True False False True\n",
            "\n",
            " True \t False\n"
          ]
        }
      ],
      "source": [
        "A=1.0 \n",
        "B=2.0\n",
        "print (' A >  B  ? ',A>B)   # больше\n",
        "print (' A <  B  ? ',A<B)   # меньша\n",
        "print (' A >= B  ? ',A>=B)  # больше или равно\n",
        "print (' A <= B  ? ',A<=B)  # меньше или равно\n",
        "print (' A == B  ? ',A==B)  # равно\n",
        "print (' A != B ? ',A!=B)   # не равно\n",
        "print (' A < B < A+B ? ',A<B<A+B) # из интервала\n",
        "print (' A < B и B < A+B  ? ',A<B and B<A+B) # и (*)\n",
        "print (' A < B или A > B  ? ',A<B or A>B) # или (+)\n",
        "\n",
        "print ('\\n',A<B , A>B, A<B * A>B, A<B + A>B)  # \\n - знак перехода на строку\n",
        "\n",
        "print ('\\n',bool(1), '\\t', bool(0))  # \\t - знак табуляции"
      ]
    },
    {
      "cell_type": "markdown",
      "metadata": {
        "id": "T341_vWOYRrd"
      },
      "source": [
        "# 2 Основные инструкции"
      ]
    },
    {
      "cell_type": "markdown",
      "metadata": {
        "id": "W7jH3j50YRrd"
      },
      "source": [
        "# 2.1 Операции ввода/вывода"
      ]
    },
    {
      "cell_type": "markdown",
      "metadata": {
        "collapsed": true,
        "id": "d-9cTVuUYRrd"
      },
      "source": [
        "Форматный вывод (это красиво): %ШиринаПоля.ТочностьТип\n",
        "\n",
        "% - указатель на вставку, тип: i - int, f - float, s - str, e - \"научное\" представление, g - \"компактное\" представление десятичного числа\n",
        "\n",
        "По умолчанию производится выравнивание по правому краю, для выравневания по левому нужно писать %- вместо %.\n",
        "\n",
        "(Кроме того, существует метод str.format() для форматного вывода строк.)"
      ]
    },
    {
      "cell_type": "code",
      "execution_count": null,
      "metadata": {
        "id": "Ozi433kQYRre",
        "outputId": "b72f02de-2086-4856-c578-41cb9a79b08c"
      },
      "outputs": [
        {
          "name": "stdout",
          "output_type": "stream",
          "text": [
            " A / B = 0.5000, возвращаемый тип - <class 'float'> \n",
            " A / B = 0     , возвращаемый тип - <class 'int'> \n"
          ]
        }
      ],
      "source": [
        "A=1 \n",
        "B=2\n",
        "print(\" A / B = %6.4f, возвращаемый тип - %s \" % (A/B, type(A/B)))\n",
        "print(\" A / B = %-6i, возвращаемый тип - %s \" % ((int)(A/B), type((int)(A/B))))"
      ]
    },
    {
      "cell_type": "markdown",
      "metadata": {
        "id": "K1U3Tj1TYRre"
      },
      "source": [
        "В интерактивной сессии (или в программе, запущенной с командной строки) можно попросить пользователя что-нибудь ввести. Аргумент функции input - это приглашение для ввода (prompt). Можно использовать просто input(), тогда приглашения не будет. Но это неудобно, т.к. в этом случае трудно заметить, что программа чего-то ждёт."
      ]
    },
    {
      "cell_type": "code",
      "execution_count": null,
      "metadata": {
        "colab": {
          "base_uri": "https://localhost:8080/"
        },
        "id": "EOmzbWvpYRrf",
        "outputId": "7527d316-c67e-434d-cbda-b457207f6fe6"
      },
      "outputs": [
        {
          "name": "stdout",
          "output_type": "stream",
          "text": [
            "Введите число 12\n",
            "s =  12 <class 'str'>\n",
            "sf =  12.0 <class 'float'>\n"
          ]
        }
      ],
      "source": [
        "s=input('Введите число ')\n",
        "print('s = ', s, type(s))\n",
        "sf=float(s)\n",
        "print('sf = ', sf, type(sf))"
      ]
    },
    {
      "cell_type": "markdown",
      "metadata": {
        "id": "rWyVJ2JkYRrf"
      },
      "source": [
        "Питон - интерпретатор, поэтому он может во время выполнения программы интерпретировать строки как куски исходного текста на языке питон. Так, функция eval интерпретирует строку как выражение и вычисляет его (в текущем контексте - подставляя текущие значения переменных)."
      ]
    },
    {
      "cell_type": "code",
      "execution_count": null,
      "metadata": {
        "colab": {
          "base_uri": "https://localhost:8080/"
        },
        "id": "trobQ7JKYRrg",
        "outputId": "66239aa3-612c-421e-f831-e80b7b9525dc"
      },
      "outputs": [
        {
          "name": "stdout",
          "output_type": "stream",
          "text": [
            "Введите операцию с переменной sf12/3\n",
            "s =  12/3 <class 'str'>\n",
            "12/3 =  4.0\n"
          ]
        }
      ],
      "source": [
        "s=input('Введите операцию с переменной sf')\n",
        "print('s = ', s, type(s))\n",
        "print(s + ' = ', eval(s))"
      ]
    },
    {
      "cell_type": "markdown",
      "metadata": {
        "id": "NtqKRFi-YRrg"
      },
      "source": [
        "А функция exec интерпретирует строку как оператор и выполняет его. Оператор может менять значения переменных в текущем пространстве имён."
      ]
    },
    {
      "cell_type": "code",
      "execution_count": null,
      "metadata": {
        "id": "AdL4SHCnYRrg",
        "outputId": "c2579940-14b3-458f-a372-3e4cb0709f9e"
      },
      "outputs": [
        {
          "name": "stdout",
          "output_type": "stream",
          "text": [
            "Введите выражение с переменной sf x = sf*sf\n"
          ]
        }
      ],
      "source": [
        "s=input('Введите выражение с переменной sf ')"
      ]
    },
    {
      "cell_type": "code",
      "execution_count": null,
      "metadata": {
        "id": "EVsto18AYRrg",
        "outputId": "f0ca9085-c72d-4f72-a93f-a1a2bae79c67"
      },
      "outputs": [
        {
          "data": {
            "text/plain": [
              "'x = sf*sf'"
            ]
          },
          "execution_count": 8,
          "metadata": {},
          "output_type": "execute_result"
        }
      ],
      "source": [
        "s"
      ]
    },
    {
      "cell_type": "code",
      "execution_count": null,
      "metadata": {
        "id": "XDe8w6Q8YRrh",
        "outputId": "ec4a925e-cfc8-4434-a18a-21766ca8ce09"
      },
      "outputs": [
        {
          "name": "stdout",
          "output_type": "stream",
          "text": [
            "64.0\n"
          ]
        }
      ],
      "source": [
        "exec(s)\n",
        "print(x)"
      ]
    },
    {
      "cell_type": "markdown",
      "metadata": {
        "id": "tfPYFttdYRrh"
      },
      "source": [
        "# 2.2 Ветвление (или условная инструкция)"
      ]
    },
    {
      "cell_type": "raw",
      "metadata": {
        "id": "b7tdiY2FYRrh"
      },
      "source": [
        "Синтаксис:\n",
        "\n",
        "if Условие1:\n",
        "    Блок_инструкций_1 (выполняется если условие1 выполнено)\n",
        "elif Условие2:\n",
        "    Блок_инструкций_2 (выполняется если условие2 выполнено)    \n",
        "else:\n",
        "    Блок_инструкций_3 (выполняется если условия не выполнены)\n",
        "   \n",
        "или болеее компатно:   \n",
        "   \n",
        "A = инструкция1(выполняется когда верно условие) if условие else инструкция2"
      ]
    },
    {
      "cell_type": "code",
      "execution_count": null,
      "metadata": {
        "colab": {
          "base_uri": "https://localhost:8080/"
        },
        "id": "XqJbvOU-YRrh",
        "outputId": "4a3cf9a5-a91d-4cc3-8131-a07b911ff7b9"
      },
      "outputs": [
        {
          "name": "stdout",
          "output_type": "stream",
          "text": [
            "Введите целое число a: 1\n",
            "Введите целое число b: 13\n",
            "a - наименьшее из двух чисел\n"
          ]
        }
      ],
      "source": [
        "# Пример\n",
        "\n",
        "a = int(input('Введите целое число a: ')) \n",
        "b = int(input('Введите целое число b: ')) \n",
        "\n",
        "if a < b: \n",
        "    print ('a - наименьшее из двух чисел') \n",
        "elif a == b: \n",
        "    print ('a и b равны')\n",
        "else: \n",
        "    print ('b - наименьшее из двух чисел') "
      ]
    },
    {
      "cell_type": "code",
      "execution_count": null,
      "metadata": {
        "colab": {
          "base_uri": "https://localhost:8080/"
        },
        "id": "_a3c3Vn7YRrh",
        "outputId": "30b7b92e-52da-44ee-f932-ce6677802181"
      },
      "outputs": [
        {
          "name": "stdout",
          "output_type": "stream",
          "text": [
            "Введите целое число a: 12\n",
            "Введите целое число b: 3\n",
            "a - наименьшее из двух чисел\n"
          ]
        }
      ],
      "source": [
        "a = input('Введите целое число a: ') \n",
        "b = input('Введите целое число b: ') \n",
        "\n",
        "print ('a - наименьшее из двух чисел') if a<b else (print ('b - наименьшее из двух чисел') if a>b else print ('a и b равны'))"
      ]
    },
    {
      "cell_type": "markdown",
      "metadata": {
        "id": "j1XNIr_3YRri"
      },
      "source": [
        "# 2.3 Цикл"
      ]
    },
    {
      "cell_type": "raw",
      "metadata": {
        "collapsed": true,
        "id": "JGnRGhdTYRri"
      },
      "source": [
        "Цикл while («пока») позволяет выполнить одну и ту же последовательность действий, пока проверяемое условие истинно. Условие записывается до тела цикла и проверяется до выполнения тела цикла. Как правило, цикл while используется, когда невозможно определить точное значение количества проходов исполнения цикла.\n",
        "\n",
        "Синтаксис цикла while:\n",
        "\n",
        "while Условие:\n",
        "    Блок_инструкций"
      ]
    },
    {
      "cell_type": "raw",
      "metadata": {
        "id": "6MlFfl06YRri"
      },
      "source": [
        "Цикл for\n",
        "\n",
        "Синтаксис:\n",
        "\n",
        "for i in range(10):      #   for i in range(от, до, шаг):        \n",
        "    Блок_инструкций\n",
        "    \n",
        "эквивалентно:\n",
        "\n",
        "i = 0\n",
        "while i < 10:\n",
        "    Блок_инструкций\n",
        "    i += 1"
      ]
    },
    {
      "cell_type": "markdown",
      "metadata": {
        "id": "tLXDNs8eYRri"
      },
      "source": [
        "# 2.4 Обработка ошибок"
      ]
    },
    {
      "cell_type": "raw",
      "metadata": {
        "id": "TD8g8vnkYRri"
      },
      "source": [
        "try:\n",
        "    Блок_инструкций_1\n",
        "except:\n",
        "    Блок_инструкций_2 (выполняется в случае ошибки в Блок_инструкций_1)"
      ]
    },
    {
      "cell_type": "markdown",
      "metadata": {
        "id": "KQMh9KHqYRrj"
      },
      "source": [
        "# 3 Функции"
      ]
    },
    {
      "cell_type": "markdown",
      "metadata": {
        "collapsed": true,
        "id": "HuTmn1aPYRrj"
      },
      "source": [
        "Простейшая в мире функция: не имеет параметров, ничего не делает и ничего не возвращает. Оператор pass означает \"ничего не делай\"; он используется там, где синтаксически необходим оператор, а делать ничено не нужно (после if или elif, после def и т.д.)."
      ]
    },
    {
      "cell_type": "code",
      "execution_count": null,
      "metadata": {
        "id": "_S-Ug6P7YRrj"
      },
      "outputs": [],
      "source": [
        "def fun0():\n",
        "    pass"
      ]
    },
    {
      "cell_type": "code",
      "execution_count": null,
      "metadata": {
        "id": "Jxv17R4kYRrj"
      },
      "outputs": [],
      "source": [
        "fun0()"
      ]
    },
    {
      "cell_type": "markdown",
      "metadata": {
        "id": "RiTbzU-eYRrj"
      },
      "source": [
        "# Ваша первая программа на Python"
      ]
    },
    {
      "cell_type": "markdown",
      "metadata": {
        "id": "uuNg0N-dYRrj"
      },
      "source": [
        "Традиционно первой программой при начале изучения того или иного языка программирования является программа, результатом работы которой является вывод на экран или иное устройство фразы «Hello, world!»\n",
        "\n",
        "Её можно считать тестом для демонстрации работы системы перед переходом к более сложным вещам и объявлением сообществу (миру) о вашем появлении.\n",
        "\n",
        "На разных языках программирования такая программа будет занимать разное колличество строк. В нашем случае достаточно написать:\n",
        "\n",
        "print(\"Hello, world!\")\n",
        "\n",
        "Напишите здесь вашу первую программу на Python:"
      ]
    },
    {
      "cell_type": "code",
      "execution_count": 2,
      "metadata": {
        "colab": {
          "base_uri": "https://localhost:8080/"
        },
        "id": "SPscvSueYRrk",
        "outputId": "8bb3ac58-500b-4718-e703-8f47f83daee4"
      },
      "outputs": [
        {
          "name": "stdout",
          "output_type": "stream",
          "text": [
            "Hello, world!\n"
          ]
        }
      ],
      "source": [
        "print(\"Hello, world!\")"
      ]
    },
    {
      "cell_type": "markdown",
      "metadata": {
        "id": "MPMNxWD4YRrk"
      },
      "source": [
        "# Пример 1. \"Метание мяча\""
      ]
    },
    {
      "cell_type": "markdown",
      "metadata": {
        "id": "jAavabo-YRrk"
      },
      "source": [
        "Рассмотрим пример иллюстрирующий математическую модель описывающий траекторию полета мяча в воздухе. Из второго закона Ньютона, предполагая отсутствие сопротивления воздуха, мы можем вывести зависимость вертикального положения мяча от времени $t$:\n",
        "\n",
        "\n",
        "$$y(t)=v_0t−\\frac{1}{2}gt^2$$\n",
        "\n",
        "\n",
        "где $v_0$ — начальная скорость, $g$ — ускорение свободного падения, значение которого положим равным 9.80665 $м/c^2$.\n",
        "\n",
        "(Обратите внимание какие красивые формулы! Текстовые ячейки Jupiter поддерживают набор формул в синтаксесе вёрстки LaTeX, наиболее популярный набор макрорасширений (или макропакет) системы компьютерной вёрстки TeX.)"
      ]
    },
    {
      "cell_type": "markdown",
      "metadata": {
        "id": "VoPPk7jJYRrk"
      },
      "source": [
        "# Сценарий"
      ]
    },
    {
      "cell_type": "markdown",
      "metadata": {
        "id": "G7x0iJyuYRrk"
      },
      "source": [
        "Рассмотрим сценарий на Python для вычисления по этой простой формуле"
      ]
    },
    {
      "cell_type": "code",
      "execution_count": null,
      "metadata": {
        "colab": {
          "base_uri": "https://localhost:8080/"
        },
        "id": "NzXFyx1vYRrk",
        "outputId": "6b5b5eca-689c-4cfe-fd22-46d809716645"
      },
      "outputs": [
        {
          "name": "stdout",
          "output_type": "stream",
          "text": [
            "1.234803\n"
          ]
        }
      ],
      "source": [
        "# Программа для вычисления положения мяча при вертикальном движении\n",
        "\n",
        "v0 = 5       # Начальная скорость\n",
        "g = 9.80665  # Ускорение свободного падения\n",
        "t = 0.6      # Время\n",
        "\n",
        "y = v0*t - 1/2*g*t**2\n",
        "\n",
        "print (y)\n",
        "\n",
        "del v0, g, t, y"
      ]
    },
    {
      "cell_type": "markdown",
      "metadata": {
        "id": "9EOpZz73YRrl"
      },
      "source": [
        "# Разбор сценария или \"как он это сделал?\""
      ]
    },
    {
      "cell_type": "markdown",
      "metadata": {
        "id": "srfhEy0NYRrl"
      },
      "source": [
        "Сценарий на языке Python — это текст (или текстовый файл, в нашем случае эта программа написана и в файле ball.py, который можно запустить в редакторе Spyder), содержащий некоторые инструкции. Мы можем читать сценарий и понимать, что программа способна делать, но сам сценарий не выполняет никаких действий на компьютере, пока интерпретатор Python не прочитает текст сценария и не преобразует его в некоторые действия.\n",
        "\n",
        "Когда сценарий запущен в интерпретаторе Python, он разбирается и выполняется построчно. То где вы это читаете не является \n",
        "\n",
        "Первая строчка:"
      ]
    },
    {
      "cell_type": "code",
      "execution_count": null,
      "metadata": {
        "id": "wNelEvqGYRrl"
      },
      "outputs": [],
      "source": [
        "# Программа для вычисления положения мяча при вертикальном движении"
      ]
    },
    {
      "cell_type": "markdown",
      "metadata": {
        "id": "KUYs2_veYRrl"
      },
      "source": [
        "является комментарием, т.е. как только встречается символ #, интерпретатор Python воспринимает оставшуюся часть строки как комментарий, пропускает ее и переходит к следующей строке."
      ]
    },
    {
      "cell_type": "markdown",
      "metadata": {
        "id": "xqJQHkXkYRrm"
      },
      "source": [
        "Следующая строка, интерпретируемая Pyhton:"
      ]
    },
    {
      "cell_type": "code",
      "execution_count": null,
      "metadata": {
        "id": "Ez18IBMDYRrm"
      },
      "outputs": [],
      "source": [
        "v0 = 5       # Начальная скорость"
      ]
    },
    {
      "cell_type": "markdown",
      "metadata": {
        "id": "8TH5YrZLYRrm"
      },
      "source": [
        "В Python выражения вида v0 = 5 известны как оператции присваивания (с оператором \"=\"). Значение правой части, в нашем случае целое число 5, становится объектом, а имя переменной слева — именованной ссылкой на этот объект. Всякий раз, когда мы запишем v0, Python заменит ее целым значением 5. Выражение v1 = v0 создает новое имя для того же целого объекта со значением 5, а не копирует объект. \n",
        "\n",
        "Следующие две строки"
      ]
    },
    {
      "cell_type": "code",
      "execution_count": null,
      "metadata": {
        "id": "1W2WXPsZYRrm"
      },
      "outputs": [],
      "source": [
        "g = 9.80665  # Ускорение свободного падения\n",
        "t = 0.6      # Время"
      ]
    },
    {
      "cell_type": "markdown",
      "metadata": {
        "id": "zakPl4ZvYRrn"
      },
      "source": [
        "имеют тот же смысл, что и предыдушая. Таким образом, прочитав эти строки интерпретатор Python знает три переменных v0, g, t и их значения. Эти переменные используются интерпретатором в следующей строке, реализующей некоторую формулу"
      ]
    },
    {
      "cell_type": "code",
      "execution_count": null,
      "metadata": {
        "id": "h6kd0Ke-YRrn"
      },
      "outputs": [],
      "source": [
        "y = v0*t - 1/2*g*t**2"
      ]
    },
    {
      "cell_type": "markdown",
      "metadata": {
        "id": "zCrpH-pUYRrn"
      },
      "source": [
        "В этой строке Python интерпретирует * как оператор умножения, - — вычитания, ** — возведения в степень (как и ^). Естественно, + и \\ интерпретируются как операторы сложения и деления соответственно. В результате вычисляется значение по формуле в правой части выражения, которое присваивается переменной с именем y. \n",
        "\n",
        "Последняя строка сценария"
      ]
    },
    {
      "cell_type": "code",
      "execution_count": null,
      "metadata": {
        "id": "8KZHR1FmYRrn",
        "outputId": "067c634c-8018-409b-947d-1044811f9fa8"
      },
      "outputs": [
        {
          "name": "stdout",
          "output_type": "stream",
          "text": [
            "1.234803\n"
          ]
        }
      ],
      "source": [
        "print (y)"
      ]
    },
    {
      "cell_type": "markdown",
      "metadata": {
        "id": "-lT_ZjQKYRro"
      },
      "source": [
        "выводит на печать значение переменной y. Таким образом при запуске сценария будет выведено число 1.234803. В тексте сценария имеются также и пустые строки, которые пропускаются интерпретатором Python. Они добавлены для лучшей читабельности кода."
      ]
    },
    {
      "cell_type": "markdown",
      "metadata": {
        "id": "axBO92ooYRrt"
      },
      "source": [
        "# Упражнение 1. Сообщения об ошибках"
      ]
    },
    {
      "cell_type": "markdown",
      "metadata": {
        "id": "MLOlGFcoYRru"
      },
      "source": [
        "Давайте сломаем работающую программу!!!\n",
        "\n",
        "\n",
        "Предлагается ввести ошибки в сценарий. Для каждой введенной ошибки запустите сценарий. Напишите комментарий в тексте программы о том, как Python реагировал на соответствующую ошибку. После каждой ошибки поправьте сценарий так, чтобы он работал и переходите к следующей."
      ]
    },
    {
      "cell_type": "markdown",
      "metadata": {
        "id": "_B6qzWJoYRru"
      },
      "source": [
        "1. Вставьте слово Привет в пустой строке перед определением переменной v0.\n",
        "\n",
        "2. Удалите знак # перед комментарием Начальная скорость\n",
        "\n",
        "3. Удалите знак = в задании переменной v0\n",
        "\n",
        "4. Замените слово print на pint\n",
        "\n",
        "5. Замените строку print y на print x\n",
        "\n",
        "6. Замените выражение g = 9.80665 и t = 0.1 на g: int = 9.80665 и t: int = 0.1, а потом на g = int(9.80665) и t = int(0.1)\n"
      ]
    },
    {
      "cell_type": "markdown",
      "metadata": {
        "id": "PLuEHLG0YRrv"
      },
      "source": [
        "Проверьте Python на прочность:"
      ]
    },
    {
      "cell_type": "code",
      "execution_count": null,
      "metadata": {
        "colab": {
          "base_uri": "https://localhost:8080/"
        },
        "id": "hInKukAGYRrv",
        "outputId": "d827923f-0e99-4170-d507-2b9d87f5f0be"
      },
      "outputs": [
        {
          "name": "stdout",
          "output_type": "stream",
          "text": [
            "0.0\n"
          ]
        }
      ],
      "source": [
        "# Программа для вычисления положения мяча при вертикальном движении\n",
        "\n",
        "v0 = 5       # Начальная скорость (м/с)\n",
        "g = 9.80665  # Ускорение свободного падения (м/с^2)\n",
        "t = int(0.1)    # Время (с)\n",
        "\n",
        "y = v0*t - 1/2*(g*(t**2)) # (м)\n",
        "\n",
        "print (y)\n",
        "\n",
        "del v0, g, t, y"
      ]
    },
    {
      "cell_type": "code",
      "execution_count": null,
      "metadata": {
        "colab": {
          "base_uri": "https://localhost:8080/"
        },
        "id": "ubRpoND3YRrw",
        "outputId": "d14e5d7f-eb98-42b5-cc23-79d100f6f6a7"
      },
      "outputs": [
        {
          "data": {
            "text/plain": [
              "9.80665"
            ]
          },
          "execution_count": 12,
          "metadata": {},
          "output_type": "execute_result"
        }
      ],
      "source": [
        "g = 9.80665 \n",
        "g"
      ]
    },
    {
      "cell_type": "code",
      "execution_count": null,
      "metadata": {
        "colab": {
          "base_uri": "https://localhost:8080/"
        },
        "id": "HqIf9HPrYRrw",
        "outputId": "2e3bc20f-7505-49a5-a1c3-efcc3b4c7411"
      },
      "outputs": [
        {
          "data": {
            "text/plain": [
              "9.80665"
            ]
          },
          "execution_count": 13,
          "metadata": {},
          "output_type": "execute_result"
        }
      ],
      "source": [
        "g: int = 9.80665\n",
        "g"
      ]
    },
    {
      "cell_type": "code",
      "execution_count": null,
      "metadata": {
        "colab": {
          "base_uri": "https://localhost:8080/"
        },
        "id": "PColQlBXYRrw",
        "outputId": "15069df0-86e9-4c45-af8d-d89047a2bb9d"
      },
      "outputs": [
        {
          "data": {
            "text/plain": [
              "9"
            ]
          },
          "execution_count": 14,
          "metadata": {},
          "output_type": "execute_result"
        }
      ],
      "source": [
        "g = int(9.80665)\n",
        "g"
      ]
    },
    {
      "cell_type": "markdown",
      "metadata": {
        "id": "pIozZ9wYYRrx"
      },
      "source": [
        "# Упражнение 2. Форматный вывод результата"
      ]
    },
    {
      "cell_type": "raw",
      "metadata": {
        "id": "Cs4iTRGHYRrx"
      },
      "source": [
        "Реализовать в программе форматный вывод в следующем виде (с учетом выравнивания столбцов):\n",
        "\n",
        "Исходный данные: \n",
        "Начальная скорость            (число с 5 значащами числами в научном формате) м/с\n",
        "Ускорение свободного падения  (число с 5 значащами числами в научном формате) м/с^2\n",
        "Время                         (число с 5 значащами числами в научном формате) c\n",
        "\n",
        "Выходные данные:             \n",
        "Текущая высота положения мяча (число с 5 значащами числами в научном формате) м"
      ]
    },
    {
      "cell_type": "code",
      "execution_count": 3,
      "metadata": {
        "colab": {
          "base_uri": "https://localhost:8080/"
        },
        "id": "cujE0rB4YRrx",
        "outputId": "9c5e829b-db2e-4874-c422-4e8a1662dd90"
      },
      "outputs": [
        {
          "name": "stdout",
          "output_type": "stream",
          "text": [
            "v0 = 5.00000e+00  м/с\n",
            "g =  9.80665e+00  м/c^2\n",
            "t =  6.00000e-01  c\n",
            "y =  1.23480e+00  м\n"
          ]
        }
      ],
      "source": [
        "# Программа для вычисления положения мяча при вертикальном движении\n",
        "\n",
        "v0 = 5       # Начальная скорость\n",
        "print('v0 =', '%-12.5e' % (v0), 'м/с')\n",
        "g = 9.80665  # Ускорение свободного падения\n",
        "print('g = ', '%-12.5e' % (g), 'м/c^2')\n",
        "t = 0.6      # Время\n",
        "print('t = ', '%-12.5e' % (t), 'c')\n",
        "\n",
        "y = v0*t - 1/2*g*t**2\n",
        "\n",
        "print ('y = ', '%-12.5e' % (y) , 'м' )\n",
        "\n",
        "del v0, g, t, y"
      ]
    },
    {
      "cell_type": "markdown",
      "metadata": {
        "id": "4eaS5P9wYRry"
      },
      "source": [
        "# Упражнение 3. Интерактивное общение с пользователем"
      ]
    },
    {
      "cell_type": "markdown",
      "metadata": {
        "id": "Odm5L77oYRry"
      },
      "source": [
        "Реализовать в программе запрос исходных данных (хотя бы одной) с помощью интерактивной сессии функцией input()."
      ]
    },
    {
      "cell_type": "code",
      "execution_count": null,
      "metadata": {
        "colab": {
          "base_uri": "https://localhost:8080/"
        },
        "id": "V25fAhU_YRry",
        "outputId": "af9ea046-d418-45ba-8833-522e0ad7a833"
      },
      "outputs": [
        {
          "name": "stdout",
          "output_type": "stream",
          "text": [
            "Введите начальную скорость мяча12\n",
            "Введите время полёта мяча (t = ?)\n",
            "12\n",
            "Положение мяча относительно оси y = -5.62079e+02 \t\n"
          ]
        }
      ],
      "source": [
        "v0=float(input('Введите начальную скорость мяча'))\n",
        "g = 9.80665 \n",
        "print('Введите время полёта мяча (t = ?)') \n",
        "t = float(input())\n",
        "y =  v0* t - 1/2 * g * t ** 2\n",
        "\n",
        "print ('Положение мяча относительно оси y =',\"%6.5e\" % (y), '\\t')\n",
        "\n",
        "del v0, g, t, y\n"
      ]
    },
    {
      "cell_type": "markdown",
      "metadata": {
        "id": "5ulQPAK-YRry"
      },
      "source": [
        "# Упражнение 4. Проверка корректности исходных данных"
      ]
    },
    {
      "cell_type": "markdown",
      "metadata": {
        "id": "OeZCW02bYRry"
      },
      "source": [
        "Заметим, что в рассматриваемой задаче ось $y$ выбрана так, что мячик в начальный момент времени ($t = 0$) находится в точке с координатой $y = 0$. Чтобы посмотреть сколько времени займет у мячика вернуться в эту же координату ($y = 0$), надо рассмотреть следующее вырожение:\n",
        "\n",
        "$$v_0t−\\frac{1}{2}gt^2 = t \\left( v_0t−\\frac{1}{2}gt \\right) = 0$$\n",
        "\n",
        "Последнее возможно только если $$t = 0$$ или $$t = \\frac{2v_0}{g}.$$\n",
        "\n",
        "Таким образом возможное время полета мяча ограничено интервалом\n",
        "\n",
        "$$0 \\leqslant t \\leqslant \\frac{2v_0}{g}.$$"
      ]
    },
    {
      "cell_type": "markdown",
      "metadata": {
        "id": "mw5KcR1iYRrz"
      },
      "source": [
        "Добавить в программу проверку корректности вводимых пользователем переменных, исходя из условий: начальная скорость и ускорение свободного падения не отрицальны, диапазон возможного времени определяется полученным выше условием."
      ]
    },
    {
      "cell_type": "code",
      "execution_count": null,
      "metadata": {
        "colab": {
          "base_uri": "https://localhost:8080/"
        },
        "id": "840k0OlJYRrz",
        "outputId": "a7917be7-9257-4631-8966-d969bde6d0c7"
      },
      "outputs": [
        {
          "name": "stdout",
          "output_type": "stream",
          "text": [
            "Введите значение начальной скорости (v0 = ?)\n",
            "-12\n",
            "Введите время полёта мяча (t = ?)\n",
            "12\n",
            "поменяйте значение v0, так как оно меньше нуля\n"
          ]
        }
      ],
      "source": [
        "print('Введите значение начальной скорости (v0 = ?)')\n",
        "v0=float(input()) \n",
        "g = 9.80665\n",
        "print('Введите время полёта мяча (t = ?)') \n",
        "t=float(input())\n",
        "y = v0*t - 1/2 * g * t**2\n",
        "if v0 < 0:\n",
        "    print('поменяйте значение v0, так как оно меньше нуля')\n",
        "elif 0<=t<=(2*v0)/g:\n",
        "  print('поменяйте время полёта мяча')\n",
        "elif y<0:\n",
        "  print('данные некорректны')\n",
        "else:\n",
        "    print ('Положение мяча относительно оси y =',\"%.5f\" % (y), '\\t')\n",
        "\n",
        "del v0, g, t, y"
      ]
    },
    {
      "cell_type": "markdown",
      "metadata": {
        "id": "aAe0vMmbYRrz"
      },
      "source": [
        "# Домашнее задание (базовое):"
      ]
    },
    {
      "cell_type": "markdown",
      "metadata": {
        "id": "mp7V9BXFYRrz"
      },
      "source": [
        "# Задание 1. Обновление переменных в программной оболочке Python"
      ]
    },
    {
      "cell_type": "markdown",
      "metadata": {
        "id": "JfkyK7nfYRrz"
      },
      "source": [
        "Написать программу реализующую следующие действия:\n",
        "\n",
        "1. Инициализировать переменную x значением 2\n",
        "2. Прибавить 3 к x и присвоить это значение x\n",
        "3. Вычислить (x+1)/2 и присвоить это значение x\n",
        "4. Вычислить x+1/2 и присвоить это значение x \n",
        "5. Присвоить x значение значение выражения x<5 \n",
        "6. Изменить тип x в символьный и присвоить результат переменной x\n",
        "\n",
        "После каждой операции выводить значение переменной x и её тип."
      ]
    },
    {
      "cell_type": "code",
      "execution_count": null,
      "metadata": {
        "colab": {
          "base_uri": "https://localhost:8080/"
        },
        "id": "D8vwgZRhYRrz",
        "outputId": "13f7cf69-0494-4bc2-fed4-e30247bdd70d"
      },
      "outputs": [
        {
          "name": "stdout",
          "output_type": "stream",
          "text": [
            "2\n",
            "5\n",
            "1.5\n",
            "2.5\n",
            "True\n",
            "2\n"
          ]
        }
      ],
      "source": [
        "x = 2\n",
        "print(x)\n",
        "x1 = x + 3 \n",
        "print(x1)\n",
        "x2 = (x+1)/2 \n",
        "print(x2)\n",
        "x3 = x+1/2 \n",
        "print(x3)\n",
        "x4 = x < 5 \n",
        "print(x4)\n",
        "x5 = str(x)\n",
        "print(x5)"
      ]
    },
    {
      "cell_type": "markdown",
      "metadata": {
        "id": "1s7l8HsYYRr0"
      },
      "source": [
        "# Задание 2. Среднее значение целых чисел"
      ]
    },
    {
      "cell_type": "markdown",
      "metadata": {
        "id": "7-aWOtxtYRr0"
      },
      "source": [
        "Написать программу (сценарий), сохраняющую сумму 1+2+3+4+5 в одну переменную, затем создающую другую переменную, содержащую среднее значение этих пяти чисел. Вывести фразу \"Среднее значение этих 5 чисел равно\" и результат работы с точностью до 5 знака после точки (т.е. до 1/100000)."
      ]
    },
    {
      "cell_type": "code",
      "execution_count": 4,
      "metadata": {
        "colab": {
          "base_uri": "https://localhost:8080/"
        },
        "id": "E6tlL4xxYRr0",
        "outputId": "0cf1fefa-a63a-4157-d0f2-228224866926"
      },
      "outputs": [
        {
          "name": "stdout",
          "output_type": "stream",
          "text": [
            "Среднее значение этих 5 чисел равно 3.00000\n"
          ]
        }
      ],
      "source": [
        "x = 1+2+3+4+5\n",
        "y = x//5 \n",
        "print('Среднее значение этих 5 чисел равно %.5f' % y)"
      ]
    },
    {
      "cell_type": "markdown",
      "metadata": {
        "id": "NypDn__SYRr0"
      },
      "source": [
        "# Задание 3. Интерактивное вычисление среднего"
      ]
    },
    {
      "cell_type": "markdown",
      "metadata": {
        "id": "7ST5xnPCYRr0"
      },
      "source": [
        "Добавьте в программу из предыдущего задания запрос на добавление ещё однонго числа к подсчёту среднего с помощью запуска интерактивной сессии функцией input(). После введения каждого нового числа пересчитывать и выводить резёльтата в формате: \"Среднее значение этих (число чисел) чисел равно\" и результат работы с точностью до 5 знака после точки (т.е. до 1/100000). Интерактивная сессия заканчивается после введения пользователем 0."
      ]
    },
    {
      "cell_type": "code",
      "execution_count": 3,
      "metadata": {
        "colab": {
          "base_uri": "https://localhost:8080/"
        },
        "id": "qzjQ71cVYRr1",
        "outputId": "337de63f-db58-4a4f-8438-eda1ddce11d8"
      },
      "outputs": [
        {
          "name": "stdout",
          "output_type": "stream",
          "text": [
            "Введите количество чисел, среднию сумму которых хотите найти\n",
            "Среднее значение этих 5 чисел равно 4.00000\n",
            "Среднее значение этих 9 чисел равно 9.000000\n"
          ]
        }
      ],
      "source": [
        "x = 1+2+3+4+5\n",
        "y = x//5\n",
        "print('Введите количество чисел, среднию сумму которых хотите найти')\n",
        "n = int(input())\n",
        "for i in range(1, n+1):\n",
        "    y = int(input())\n",
        "    s = (y + x) // n+5\n",
        "    b = n+5\n",
        "print('Среднее значение этих 5 чисел равно %.5f' % y)\n",
        "print('Среднее значение этих',b,'чисел равно %5f' % s)"
      ]
    },
    {
      "cell_type": "markdown",
      "metadata": {
        "id": "uC7iU__ZYRr1"
      },
      "source": [
        "# Домашнее задание (дополнительное):"
      ]
    },
    {
      "cell_type": "markdown",
      "metadata": {
        "id": "RCmc9371YRr1"
      },
      "source": [
        "# Задание. \"О чём думает кот?\""
      ]
    },
    {
      "cell_type": "code",
      "execution_count": null,
      "metadata": {
        "colab": {
          "base_uri": "https://localhost:8080/",
          "height": 865
        },
        "id": "sAueeenRYRr1",
        "outputId": "04487a55-8dc9-4e6d-f016-6f2f97ccc07a"
      },
      "outputs": [
        {
          "ename": "FileNotFoundError",
          "evalue": "ignored",
          "output_type": "error",
          "traceback": [
            "\u001b[0;31m---------------------------------------------------------------------------\u001b[0m",
            "\u001b[0;31mTypeError\u001b[0m                                 Traceback (most recent call last)",
            "\u001b[0;32m/usr/local/lib/python3.7/dist-packages/IPython/core/display.py\u001b[0m in \u001b[0;36m_data_and_metadata\u001b[0;34m(self, always_both)\u001b[0m\n\u001b[1;32m   1271\u001b[0m         \u001b[0;32mtry\u001b[0m\u001b[0;34m:\u001b[0m\u001b[0;34m\u001b[0m\u001b[0;34m\u001b[0m\u001b[0m\n\u001b[0;32m-> 1272\u001b[0;31m             \u001b[0mb64_data\u001b[0m \u001b[0;34m=\u001b[0m \u001b[0mb2a_base64\u001b[0m\u001b[0;34m(\u001b[0m\u001b[0mself\u001b[0m\u001b[0;34m.\u001b[0m\u001b[0mdata\u001b[0m\u001b[0;34m)\u001b[0m\u001b[0;34m.\u001b[0m\u001b[0mdecode\u001b[0m\u001b[0;34m(\u001b[0m\u001b[0;34m'ascii'\u001b[0m\u001b[0;34m)\u001b[0m\u001b[0;34m\u001b[0m\u001b[0;34m\u001b[0m\u001b[0m\n\u001b[0m\u001b[1;32m   1273\u001b[0m         \u001b[0;32mexcept\u001b[0m \u001b[0mTypeError\u001b[0m\u001b[0;34m:\u001b[0m\u001b[0;34m\u001b[0m\u001b[0;34m\u001b[0m\u001b[0m\n",
            "\u001b[0;31mTypeError\u001b[0m: a bytes-like object is required, not 'str'",
            "\nDuring handling of the above exception, another exception occurred:\n",
            "\u001b[0;31mFileNotFoundError\u001b[0m                         Traceback (most recent call last)",
            "\u001b[0;32m/usr/local/lib/python3.7/dist-packages/IPython/core/formatters.py\u001b[0m in \u001b[0;36m__call__\u001b[0;34m(self, obj, include, exclude)\u001b[0m\n\u001b[1;32m    968\u001b[0m \u001b[0;34m\u001b[0m\u001b[0m\n\u001b[1;32m    969\u001b[0m             \u001b[0;32mif\u001b[0m \u001b[0mmethod\u001b[0m \u001b[0;32mis\u001b[0m \u001b[0;32mnot\u001b[0m \u001b[0;32mNone\u001b[0m\u001b[0;34m:\u001b[0m\u001b[0;34m\u001b[0m\u001b[0;34m\u001b[0m\u001b[0m\n\u001b[0;32m--> 970\u001b[0;31m                 \u001b[0;32mreturn\u001b[0m \u001b[0mmethod\u001b[0m\u001b[0;34m(\u001b[0m\u001b[0minclude\u001b[0m\u001b[0;34m=\u001b[0m\u001b[0minclude\u001b[0m\u001b[0;34m,\u001b[0m \u001b[0mexclude\u001b[0m\u001b[0;34m=\u001b[0m\u001b[0mexclude\u001b[0m\u001b[0;34m)\u001b[0m\u001b[0;34m\u001b[0m\u001b[0;34m\u001b[0m\u001b[0m\n\u001b[0m\u001b[1;32m    971\u001b[0m             \u001b[0;32mreturn\u001b[0m \u001b[0;32mNone\u001b[0m\u001b[0;34m\u001b[0m\u001b[0;34m\u001b[0m\u001b[0m\n\u001b[1;32m    972\u001b[0m         \u001b[0;32melse\u001b[0m\u001b[0;34m:\u001b[0m\u001b[0;34m\u001b[0m\u001b[0;34m\u001b[0m\u001b[0m\n",
            "\u001b[0;32m/usr/local/lib/python3.7/dist-packages/IPython/core/display.py\u001b[0m in \u001b[0;36m_repr_mimebundle_\u001b[0;34m(self, include, exclude)\u001b[0m\n\u001b[1;32m   1260\u001b[0m         \u001b[0;32mif\u001b[0m \u001b[0mself\u001b[0m\u001b[0;34m.\u001b[0m\u001b[0membed\u001b[0m\u001b[0;34m:\u001b[0m\u001b[0;34m\u001b[0m\u001b[0;34m\u001b[0m\u001b[0m\n\u001b[1;32m   1261\u001b[0m             \u001b[0mmimetype\u001b[0m \u001b[0;34m=\u001b[0m \u001b[0mself\u001b[0m\u001b[0;34m.\u001b[0m\u001b[0m_mimetype\u001b[0m\u001b[0;34m\u001b[0m\u001b[0;34m\u001b[0m\u001b[0m\n\u001b[0;32m-> 1262\u001b[0;31m             \u001b[0mdata\u001b[0m\u001b[0;34m,\u001b[0m \u001b[0mmetadata\u001b[0m \u001b[0;34m=\u001b[0m \u001b[0mself\u001b[0m\u001b[0;34m.\u001b[0m\u001b[0m_data_and_metadata\u001b[0m\u001b[0;34m(\u001b[0m\u001b[0malways_both\u001b[0m\u001b[0;34m=\u001b[0m\u001b[0;32mTrue\u001b[0m\u001b[0;34m)\u001b[0m\u001b[0;34m\u001b[0m\u001b[0;34m\u001b[0m\u001b[0m\n\u001b[0m\u001b[1;32m   1263\u001b[0m             \u001b[0;32mif\u001b[0m \u001b[0mmetadata\u001b[0m\u001b[0;34m:\u001b[0m\u001b[0;34m\u001b[0m\u001b[0;34m\u001b[0m\u001b[0m\n\u001b[1;32m   1264\u001b[0m                 \u001b[0mmetadata\u001b[0m \u001b[0;34m=\u001b[0m \u001b[0;34m{\u001b[0m\u001b[0mmimetype\u001b[0m\u001b[0;34m:\u001b[0m \u001b[0mmetadata\u001b[0m\u001b[0;34m}\u001b[0m\u001b[0;34m\u001b[0m\u001b[0;34m\u001b[0m\u001b[0m\n",
            "\u001b[0;32m/usr/local/lib/python3.7/dist-packages/IPython/core/display.py\u001b[0m in \u001b[0;36m_data_and_metadata\u001b[0;34m(self, always_both)\u001b[0m\n\u001b[1;32m   1273\u001b[0m         \u001b[0;32mexcept\u001b[0m \u001b[0mTypeError\u001b[0m\u001b[0;34m:\u001b[0m\u001b[0;34m\u001b[0m\u001b[0;34m\u001b[0m\u001b[0m\n\u001b[1;32m   1274\u001b[0m             raise FileNotFoundError(\n\u001b[0;32m-> 1275\u001b[0;31m                 \"No such file or directory: '%s'\" % (self.data))\n\u001b[0m\u001b[1;32m   1276\u001b[0m         \u001b[0mmd\u001b[0m \u001b[0;34m=\u001b[0m \u001b[0;34m{\u001b[0m\u001b[0;34m}\u001b[0m\u001b[0;34m\u001b[0m\u001b[0;34m\u001b[0m\u001b[0m\n\u001b[1;32m   1277\u001b[0m         \u001b[0;32mif\u001b[0m \u001b[0mself\u001b[0m\u001b[0;34m.\u001b[0m\u001b[0mmetadata\u001b[0m\u001b[0;34m:\u001b[0m\u001b[0;34m\u001b[0m\u001b[0;34m\u001b[0m\u001b[0m\n",
            "\u001b[0;31mFileNotFoundError\u001b[0m: No such file or directory: 'picture.png'"
          ]
        },
        {
          "ename": "FileNotFoundError",
          "evalue": "ignored",
          "output_type": "error",
          "traceback": [
            "\u001b[0;31m---------------------------------------------------------------------------\u001b[0m",
            "\u001b[0;31mTypeError\u001b[0m                                 Traceback (most recent call last)",
            "\u001b[0;32m/usr/local/lib/python3.7/dist-packages/IPython/core/display.py\u001b[0m in \u001b[0;36m_data_and_metadata\u001b[0;34m(self, always_both)\u001b[0m\n\u001b[1;32m   1271\u001b[0m         \u001b[0;32mtry\u001b[0m\u001b[0;34m:\u001b[0m\u001b[0;34m\u001b[0m\u001b[0;34m\u001b[0m\u001b[0m\n\u001b[0;32m-> 1272\u001b[0;31m             \u001b[0mb64_data\u001b[0m \u001b[0;34m=\u001b[0m \u001b[0mb2a_base64\u001b[0m\u001b[0;34m(\u001b[0m\u001b[0mself\u001b[0m\u001b[0;34m.\u001b[0m\u001b[0mdata\u001b[0m\u001b[0;34m)\u001b[0m\u001b[0;34m.\u001b[0m\u001b[0mdecode\u001b[0m\u001b[0;34m(\u001b[0m\u001b[0;34m'ascii'\u001b[0m\u001b[0;34m)\u001b[0m\u001b[0;34m\u001b[0m\u001b[0;34m\u001b[0m\u001b[0m\n\u001b[0m\u001b[1;32m   1273\u001b[0m         \u001b[0;32mexcept\u001b[0m \u001b[0mTypeError\u001b[0m\u001b[0;34m:\u001b[0m\u001b[0;34m\u001b[0m\u001b[0;34m\u001b[0m\u001b[0m\n",
            "\u001b[0;31mTypeError\u001b[0m: a bytes-like object is required, not 'str'",
            "\nDuring handling of the above exception, another exception occurred:\n",
            "\u001b[0;31mFileNotFoundError\u001b[0m                         Traceback (most recent call last)",
            "\u001b[0;32m/usr/local/lib/python3.7/dist-packages/IPython/core/formatters.py\u001b[0m in \u001b[0;36m__call__\u001b[0;34m(self, obj)\u001b[0m\n\u001b[1;32m    343\u001b[0m             \u001b[0mmethod\u001b[0m \u001b[0;34m=\u001b[0m \u001b[0mget_real_method\u001b[0m\u001b[0;34m(\u001b[0m\u001b[0mobj\u001b[0m\u001b[0;34m,\u001b[0m \u001b[0mself\u001b[0m\u001b[0;34m.\u001b[0m\u001b[0mprint_method\u001b[0m\u001b[0;34m)\u001b[0m\u001b[0;34m\u001b[0m\u001b[0;34m\u001b[0m\u001b[0m\n\u001b[1;32m    344\u001b[0m             \u001b[0;32mif\u001b[0m \u001b[0mmethod\u001b[0m \u001b[0;32mis\u001b[0m \u001b[0;32mnot\u001b[0m \u001b[0;32mNone\u001b[0m\u001b[0;34m:\u001b[0m\u001b[0;34m\u001b[0m\u001b[0;34m\u001b[0m\u001b[0m\n\u001b[0;32m--> 345\u001b[0;31m                 \u001b[0;32mreturn\u001b[0m \u001b[0mmethod\u001b[0m\u001b[0;34m(\u001b[0m\u001b[0;34m)\u001b[0m\u001b[0;34m\u001b[0m\u001b[0;34m\u001b[0m\u001b[0m\n\u001b[0m\u001b[1;32m    346\u001b[0m             \u001b[0;32mreturn\u001b[0m \u001b[0;32mNone\u001b[0m\u001b[0;34m\u001b[0m\u001b[0;34m\u001b[0m\u001b[0m\n\u001b[1;32m    347\u001b[0m         \u001b[0;32melse\u001b[0m\u001b[0;34m:\u001b[0m\u001b[0;34m\u001b[0m\u001b[0;34m\u001b[0m\u001b[0m\n",
            "\u001b[0;32m/usr/local/lib/python3.7/dist-packages/IPython/core/display.py\u001b[0m in \u001b[0;36m_repr_png_\u001b[0;34m(self)\u001b[0m\n\u001b[1;32m   1290\u001b[0m     \u001b[0;32mdef\u001b[0m \u001b[0m_repr_png_\u001b[0m\u001b[0;34m(\u001b[0m\u001b[0mself\u001b[0m\u001b[0;34m)\u001b[0m\u001b[0;34m:\u001b[0m\u001b[0;34m\u001b[0m\u001b[0;34m\u001b[0m\u001b[0m\n\u001b[1;32m   1291\u001b[0m         \u001b[0;32mif\u001b[0m \u001b[0mself\u001b[0m\u001b[0;34m.\u001b[0m\u001b[0membed\u001b[0m \u001b[0;32mand\u001b[0m \u001b[0mself\u001b[0m\u001b[0;34m.\u001b[0m\u001b[0mformat\u001b[0m \u001b[0;34m==\u001b[0m \u001b[0mself\u001b[0m\u001b[0;34m.\u001b[0m\u001b[0m_FMT_PNG\u001b[0m\u001b[0;34m:\u001b[0m\u001b[0;34m\u001b[0m\u001b[0;34m\u001b[0m\u001b[0m\n\u001b[0;32m-> 1292\u001b[0;31m             \u001b[0;32mreturn\u001b[0m \u001b[0mself\u001b[0m\u001b[0;34m.\u001b[0m\u001b[0m_data_and_metadata\u001b[0m\u001b[0;34m(\u001b[0m\u001b[0;34m)\u001b[0m\u001b[0;34m\u001b[0m\u001b[0;34m\u001b[0m\u001b[0m\n\u001b[0m\u001b[1;32m   1293\u001b[0m \u001b[0;34m\u001b[0m\u001b[0m\n\u001b[1;32m   1294\u001b[0m     \u001b[0;32mdef\u001b[0m \u001b[0m_repr_jpeg_\u001b[0m\u001b[0;34m(\u001b[0m\u001b[0mself\u001b[0m\u001b[0;34m)\u001b[0m\u001b[0;34m:\u001b[0m\u001b[0;34m\u001b[0m\u001b[0;34m\u001b[0m\u001b[0m\n",
            "\u001b[0;32m/usr/local/lib/python3.7/dist-packages/IPython/core/display.py\u001b[0m in \u001b[0;36m_data_and_metadata\u001b[0;34m(self, always_both)\u001b[0m\n\u001b[1;32m   1273\u001b[0m         \u001b[0;32mexcept\u001b[0m \u001b[0mTypeError\u001b[0m\u001b[0;34m:\u001b[0m\u001b[0;34m\u001b[0m\u001b[0;34m\u001b[0m\u001b[0m\n\u001b[1;32m   1274\u001b[0m             raise FileNotFoundError(\n\u001b[0;32m-> 1275\u001b[0;31m                 \"No such file or directory: '%s'\" % (self.data))\n\u001b[0m\u001b[1;32m   1276\u001b[0m         \u001b[0mmd\u001b[0m \u001b[0;34m=\u001b[0m \u001b[0;34m{\u001b[0m\u001b[0;34m}\u001b[0m\u001b[0;34m\u001b[0m\u001b[0;34m\u001b[0m\u001b[0m\n\u001b[1;32m   1277\u001b[0m         \u001b[0;32mif\u001b[0m \u001b[0mself\u001b[0m\u001b[0;34m.\u001b[0m\u001b[0mmetadata\u001b[0m\u001b[0;34m:\u001b[0m\u001b[0;34m\u001b[0m\u001b[0;34m\u001b[0m\u001b[0m\n",
            "\u001b[0;31mFileNotFoundError\u001b[0m: No such file or directory: 'picture.png'"
          ]
        },
        {
          "data": {
            "text/plain": [
              "<IPython.core.display.Image object>"
            ]
          },
          "execution_count": 1,
          "metadata": {},
          "output_type": "execute_result"
        }
      ],
      "source": [
        "# Так можно добавлять картинки\n",
        "\n",
        "from IPython.display import Image # вызов из библиотеки определённой функции\n",
        "Image(\"picture.png\")              # вызов функции и передача ей в качестве аргумента пути к файлу \n",
        "\n",
        "# (в данном случае фаил находится в той же папке)"
      ]
    },
    {
      "cell_type": "markdown",
      "metadata": {
        "id": "F9Irl-GlYRr1"
      },
      "source": [
        "Рассмотрим пример иллюстрирующий математическую модель описывающий траекторию кошачьего прыжка. Из второго закона Ньютона, предполагая отсутствие сопротивления воздуха, мы можем вывести зависимость вертикального (y) и горизонтального (x) положения котика от времени $t$:\n",
        "\n",
        "$$x(t)=v_0cos(\\alpha)t$$\n",
        "$$y(t)=v_0sin(\\alpha)t−\\frac{1}{2}gt^2$$\n",
        "\n",
        "где $v_0$ — начальная скорость, $g$ — ускорение свободного падения, значение которого положим равным 9.80665 $м/c^2$, $tg(\\alpha) = y/x$."
      ]
    },
    {
      "cell_type": "markdown",
      "metadata": {
        "id": "L6HgALj2YRr2"
      },
      "source": [
        "Напишите программу которая сможет помочь котику понять следующие вещи:\n",
        "\n",
        "\n",
        "1) как далеко и высоко он сможет прыгнуть при начальной скорости 5 м/с и направлении пражка $\\alpha = 40^{\\circ}$;\n",
        "\n",
        "2) каким должен быть начальный угол для максимальной дальности прыжка;\n",
        "\n",
        "3) каким должен быть начальный угол для максимальной высоты прыжка;\n",
        "\n",
        "4) какимо должны быть угол и скорость для попадания в точку с координатами (2,3) м через 1 с;\n",
        "\n",
        "5) нарисуйте траекторию прыжка с помощью библиотеки matplotlib.\n"
      ]
    },
    {
      "cell_type": "markdown",
      "metadata": {
        "id": "HSuGun9oYRr2"
      },
      "source": [
        "# Задание. \"Число и цифра\""
      ]
    },
    {
      "cell_type": "markdown",
      "metadata": {
        "id": "C28Ra_R5YRr3"
      },
      "source": [
        "Запросите у пользователя целое число и сложите цифры этого числа. Повторяйте последнее действие столоко раз сколько сможете и выводите каждый раз полученную сумму."
      ]
    },
    {
      "cell_type": "code",
      "execution_count": null,
      "metadata": {
        "colab": {
          "base_uri": "https://localhost:8080/"
        },
        "id": "0G3Nu2_xYRr3",
        "outputId": "6332b621-ba19-467e-c7b2-7616abf89294"
      },
      "outputs": [
        {
          "name": "stdout",
          "output_type": "stream",
          "text": [
            "Введите целое число x =9999999999999\n",
            "Сумма цифр равна 117\n",
            "След. сумма равна 9\n"
          ]
        }
      ],
      "source": [
        "x = int(input('Введите целое число x ='))\n",
        "y = 0 \n",
        "z = 0\n",
        "x1 = str(x)\n",
        "for i in range(len(x1)):\n",
        "  y = y + int(x1[i])\n",
        "print('Сумма цифр равна', y)\n",
        "while y > 9:\n",
        "  x = str(y)\n",
        "  for n in range(len(str(y))):\n",
        "    z = z + int(x[n])\n",
        "  print('След. сумма равна', z)\n",
        "  y = z \n",
        "  z = 0\n"
      ]
    },
    {
      "cell_type": "markdown",
      "metadata": {
        "id": "zpkgpad1YRr3"
      },
      "source": [
        "# Задание. \"Максимум и минимум\""
      ]
    },
    {
      "cell_type": "markdown",
      "metadata": {
        "id": "NQukfDyzYRr4"
      },
      "source": [
        "Запрашивайте у пользователя числа, определяйте максимальное и минимальной из всех полученных чисел и сообщайте их ему."
      ]
    },
    {
      "cell_type": "code",
      "execution_count": null,
      "metadata": {
        "colab": {
          "base_uri": "https://localhost:8080/"
        },
        "id": "WEydjQb2YRr4",
        "outputId": "48b1916e-02e8-4f58-dbfa-01c97a35b215"
      },
      "outputs": [
        {
          "name": "stdout",
          "output_type": "stream",
          "text": [
            "Укажите количество чисел, которые вы желаете ввести\n",
            "4\n",
            "Введите число номер 1\n",
            "12\n",
            "Введите число номер 2\n",
            "34\n",
            "Введите число номер 3\n",
            "56\n",
            "Введите число номер 4\n",
            "78\n",
            "Максимальное число равно  78\n",
            "Минимальное число равно  12\n"
          ]
        }
      ],
      "source": [
        "print('Укажите количество чисел, которые вы желаете ввести')\n",
        "x = int(input())\n",
        "y = 99999999999999999999999999999999999999999999999999999999999999999999999999999999999999999999999999999999\n",
        "z = -9999999999999999999999999999999999999999999999999999999999999999999999999999999999999999999999999999999\n",
        "for i in range(1,x+1):\n",
        "  print('Введите число номер',i)\n",
        "  n=int(input())\n",
        "  if n < y:\n",
        "    y = n\n",
        "  if n > z:\n",
        "    z = n\n",
        "print('Максимальное число ',z)\n",
        "print('Минимальное число ',y)\n",
        "del z,y,x,n"
      ]
    }
  ],
  "metadata": {
    "colab": {
      "collapsed_sections": [
        "T341_vWOYRrd",
        "W7jH3j50YRrd",
        "tfPYFttdYRrh",
        "j1XNIr_3YRri",
        "tLXDNs8eYRri",
        "KQMh9KHqYRrj",
        "RiTbzU-eYRrj",
        "MPMNxWD4YRrk",
        "VoPPk7jJYRrk",
        "9EOpZz73YRrl",
        "aAe0vMmbYRrz",
        "uC7iU__ZYRr1"
      ],
      "provenance": []
    },
    "kernelspec": {
      "display_name": "Python 3",
      "language": "python",
      "name": "python3"
    },
    "language_info": {
      "codemirror_mode": {
        "name": "ipython",
        "version": 3
      },
      "file_extension": ".py",
      "mimetype": "text/x-python",
      "name": "python",
      "nbconvert_exporter": "python",
      "pygments_lexer": "ipython3",
      "version": "3.11.2"
    },
    "vscode": {
      "interpreter": {
        "hash": "0d4abcbc6d19e2f7bf5913a55112817776e6985fc410731ba664caa1d713923a"
      }
    }
  },
  "nbformat": 4,
  "nbformat_minor": 0
}
